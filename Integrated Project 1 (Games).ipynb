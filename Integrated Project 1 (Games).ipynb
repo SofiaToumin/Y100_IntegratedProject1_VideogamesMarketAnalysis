{
 "cells": [
  {
   "cell_type": "markdown",
   "metadata": {},
   "source": [
    "# Integrated Project"
   ]
  },
  {
   "cell_type": "markdown",
   "metadata": {},
   "source": [
    "## Project Description"
   ]
  },
  {
   "cell_type": "markdown",
   "metadata": {},
   "source": [
    "You work for the online store Ice, which sells video games all over the world. User and expert reviews, genres, platforms (e.g. Xbox or PlayStation), and historical data on game sales are available from open sources. You need to identify patterns that determine whether a game succeeds or not. This will allow you to spot potential big winners and plan advertising campaigns.\n",
    "In front of you is data going back to 2016. The dataset contains the abbreviation ESRB. The Entertainment Software Rating Board evaluates a game's content and assigns an age rating such as Teen or Mature."
   ]
  },
  {
   "cell_type": "markdown",
   "metadata": {},
   "source": [
    "## Table of contents:\n",
    "\n",
    "1. [Open the data file and study the general information](#point1) <br>\n",
    "2. Prepare the data: <br>\n",
    "    2.1 [Replace the column names (make them lowercase)](#point2_1) <br>\n",
    "    2.2 [Calculate the total sales for each game](#point2_2) <br>\n",
    "    2.3 [Deal with missing values](#point2_3) <br>\n",
    "    2.4 [TBD values](#point2_4) <br>\n",
    "    2.5 [Convert the data to the required types](#point2_5) <br>\n",
    "3. Analyze the data: <br>\n",
    "    3.1 [Look at how many games were released in different years. Is the data for every period significant?](#point3_1) <br>\n",
    "    3.2 [Look at how sales varied from platform to platform. Choose the platforms with the greatest total sales and build a distribution based on data for each year. Find platforms that used to be popular but now have zero sales. How long does it generally take for new platforms to appear and old ones to fade?](#point3_2) <br>\n",
    "    3.3 [Determine what period you should take data for. The data should allow you to build a prognosis for 2017](#point3_3) <br>\n",
    "    3.4 [Which platforms are leading in sales? Which ones are growing or shrinking? Select several potentially profitable platforms](#point3_4) <br>\n",
    "    3.5 [Build a box plot for the global sales of all games, broken down by platform. Are the differences in sales significant? What about average sales on various platforms?](#point3_5) <br>\n",
    "    3.6 [Take a look at how user and professional reviews affect sales for one popular platform (you choose). Build a scatter plot and calculate the correlation between reviews and sales](#point3_6) <br>\n",
    "    3.7 [Keeping your conclusions in mind, compare the sales of the same games on other platforms](#point3_7) <br>\n",
    "    3.8 [Take a look at the general distribution of games by genre. What can we say about the most profitable genres? Can you generalize about genres with high and low sales?](#point3_8) <br>\n",
    "    3.9 User profile for each region: <br>\n",
    "    - [For each region (NA, EU, JP), determine the top five platforms](#point3_9_1) <br>\n",
    "    - [For each region (NA, EU, JP), determine the top five genres](#point3_9_2) <br>\n",
    "    - [Do ESRB ratings affect sales in individual regions?](#point3_9_3) <br>\n",
    "4. Test the following hypotheses: <br>\n",
    "    4.1 [Average user ratings of the Xbox One and PC platforms are the same](#point4_1) <br>\n",
    "    4.2 [Average user ratings for the Action and Sports genres are different](#point(4_2) <br>\n",
    "5. [Overall Conclusion](#point5) "
   ]
  },
  {
   "cell_type": "markdown",
   "metadata": {},
   "source": [
    "<a id=\"point1\"></a>\n",
    "### Open the data file and study the general information"
   ]
  },
  {
   "cell_type": "code",
   "execution_count": 1,
   "metadata": {},
   "outputs": [],
   "source": [
    "import pandas as pd\n",
    "import numpy as np\n",
    "from scipy import stats as st\n",
    "from matplotlib import pyplot as plt\n",
    "import seaborn as sns\n",
    "import plotly.express as px"
   ]
  },
  {
   "cell_type": "code",
   "execution_count": 2,
   "metadata": {},
   "outputs": [],
   "source": [
    "data=pd.read_csv('/datasets/games.csv')"
   ]
  },
  {
   "cell_type": "code",
   "execution_count": 3,
   "metadata": {},
   "outputs": [],
   "source": [
    "pd.set_option(\"display.max_columns\", 40)"
   ]
  },
  {
   "cell_type": "code",
   "execution_count": 4,
   "metadata": {},
   "outputs": [
    {
     "data": {
      "text/html": [
       "<div>\n",
       "<style scoped>\n",
       "    .dataframe tbody tr th:only-of-type {\n",
       "        vertical-align: middle;\n",
       "    }\n",
       "\n",
       "    .dataframe tbody tr th {\n",
       "        vertical-align: top;\n",
       "    }\n",
       "\n",
       "    .dataframe thead th {\n",
       "        text-align: right;\n",
       "    }\n",
       "</style>\n",
       "<table border=\"1\" class=\"dataframe\">\n",
       "  <thead>\n",
       "    <tr style=\"text-align: right;\">\n",
       "      <th></th>\n",
       "      <th>Name</th>\n",
       "      <th>Platform</th>\n",
       "      <th>Year_of_Release</th>\n",
       "      <th>Genre</th>\n",
       "      <th>NA_sales</th>\n",
       "      <th>EU_sales</th>\n",
       "      <th>JP_sales</th>\n",
       "      <th>Other_sales</th>\n",
       "      <th>Critic_Score</th>\n",
       "      <th>User_Score</th>\n",
       "      <th>Rating</th>\n",
       "    </tr>\n",
       "  </thead>\n",
       "  <tbody>\n",
       "    <tr>\n",
       "      <td>0</td>\n",
       "      <td>Wii Sports</td>\n",
       "      <td>Wii</td>\n",
       "      <td>2006.0</td>\n",
       "      <td>Sports</td>\n",
       "      <td>41.36</td>\n",
       "      <td>28.96</td>\n",
       "      <td>3.77</td>\n",
       "      <td>8.45</td>\n",
       "      <td>76.0</td>\n",
       "      <td>8</td>\n",
       "      <td>E</td>\n",
       "    </tr>\n",
       "    <tr>\n",
       "      <td>1</td>\n",
       "      <td>Super Mario Bros.</td>\n",
       "      <td>NES</td>\n",
       "      <td>1985.0</td>\n",
       "      <td>Platform</td>\n",
       "      <td>29.08</td>\n",
       "      <td>3.58</td>\n",
       "      <td>6.81</td>\n",
       "      <td>0.77</td>\n",
       "      <td>NaN</td>\n",
       "      <td>NaN</td>\n",
       "      <td>NaN</td>\n",
       "    </tr>\n",
       "    <tr>\n",
       "      <td>2</td>\n",
       "      <td>Mario Kart Wii</td>\n",
       "      <td>Wii</td>\n",
       "      <td>2008.0</td>\n",
       "      <td>Racing</td>\n",
       "      <td>15.68</td>\n",
       "      <td>12.76</td>\n",
       "      <td>3.79</td>\n",
       "      <td>3.29</td>\n",
       "      <td>82.0</td>\n",
       "      <td>8.3</td>\n",
       "      <td>E</td>\n",
       "    </tr>\n",
       "    <tr>\n",
       "      <td>3</td>\n",
       "      <td>Wii Sports Resort</td>\n",
       "      <td>Wii</td>\n",
       "      <td>2009.0</td>\n",
       "      <td>Sports</td>\n",
       "      <td>15.61</td>\n",
       "      <td>10.93</td>\n",
       "      <td>3.28</td>\n",
       "      <td>2.95</td>\n",
       "      <td>80.0</td>\n",
       "      <td>8</td>\n",
       "      <td>E</td>\n",
       "    </tr>\n",
       "    <tr>\n",
       "      <td>4</td>\n",
       "      <td>Pokemon Red/Pokemon Blue</td>\n",
       "      <td>GB</td>\n",
       "      <td>1996.0</td>\n",
       "      <td>Role-Playing</td>\n",
       "      <td>11.27</td>\n",
       "      <td>8.89</td>\n",
       "      <td>10.22</td>\n",
       "      <td>1.00</td>\n",
       "      <td>NaN</td>\n",
       "      <td>NaN</td>\n",
       "      <td>NaN</td>\n",
       "    </tr>\n",
       "    <tr>\n",
       "      <td>...</td>\n",
       "      <td>...</td>\n",
       "      <td>...</td>\n",
       "      <td>...</td>\n",
       "      <td>...</td>\n",
       "      <td>...</td>\n",
       "      <td>...</td>\n",
       "      <td>...</td>\n",
       "      <td>...</td>\n",
       "      <td>...</td>\n",
       "      <td>...</td>\n",
       "      <td>...</td>\n",
       "    </tr>\n",
       "    <tr>\n",
       "      <td>16710</td>\n",
       "      <td>Samurai Warriors: Sanada Maru</td>\n",
       "      <td>PS3</td>\n",
       "      <td>2016.0</td>\n",
       "      <td>Action</td>\n",
       "      <td>0.00</td>\n",
       "      <td>0.00</td>\n",
       "      <td>0.01</td>\n",
       "      <td>0.00</td>\n",
       "      <td>NaN</td>\n",
       "      <td>NaN</td>\n",
       "      <td>NaN</td>\n",
       "    </tr>\n",
       "    <tr>\n",
       "      <td>16711</td>\n",
       "      <td>LMA Manager 2007</td>\n",
       "      <td>X360</td>\n",
       "      <td>2006.0</td>\n",
       "      <td>Sports</td>\n",
       "      <td>0.00</td>\n",
       "      <td>0.01</td>\n",
       "      <td>0.00</td>\n",
       "      <td>0.00</td>\n",
       "      <td>NaN</td>\n",
       "      <td>NaN</td>\n",
       "      <td>NaN</td>\n",
       "    </tr>\n",
       "    <tr>\n",
       "      <td>16712</td>\n",
       "      <td>Haitaka no Psychedelica</td>\n",
       "      <td>PSV</td>\n",
       "      <td>2016.0</td>\n",
       "      <td>Adventure</td>\n",
       "      <td>0.00</td>\n",
       "      <td>0.00</td>\n",
       "      <td>0.01</td>\n",
       "      <td>0.00</td>\n",
       "      <td>NaN</td>\n",
       "      <td>NaN</td>\n",
       "      <td>NaN</td>\n",
       "    </tr>\n",
       "    <tr>\n",
       "      <td>16713</td>\n",
       "      <td>Spirits &amp; Spells</td>\n",
       "      <td>GBA</td>\n",
       "      <td>2003.0</td>\n",
       "      <td>Platform</td>\n",
       "      <td>0.01</td>\n",
       "      <td>0.00</td>\n",
       "      <td>0.00</td>\n",
       "      <td>0.00</td>\n",
       "      <td>NaN</td>\n",
       "      <td>NaN</td>\n",
       "      <td>NaN</td>\n",
       "    </tr>\n",
       "    <tr>\n",
       "      <td>16714</td>\n",
       "      <td>Winning Post 8 2016</td>\n",
       "      <td>PSV</td>\n",
       "      <td>2016.0</td>\n",
       "      <td>Simulation</td>\n",
       "      <td>0.00</td>\n",
       "      <td>0.00</td>\n",
       "      <td>0.01</td>\n",
       "      <td>0.00</td>\n",
       "      <td>NaN</td>\n",
       "      <td>NaN</td>\n",
       "      <td>NaN</td>\n",
       "    </tr>\n",
       "  </tbody>\n",
       "</table>\n",
       "<p>16715 rows × 11 columns</p>\n",
       "</div>"
      ],
      "text/plain": [
       "                                Name Platform  Year_of_Release         Genre  \\\n",
       "0                         Wii Sports      Wii           2006.0        Sports   \n",
       "1                  Super Mario Bros.      NES           1985.0      Platform   \n",
       "2                     Mario Kart Wii      Wii           2008.0        Racing   \n",
       "3                  Wii Sports Resort      Wii           2009.0        Sports   \n",
       "4           Pokemon Red/Pokemon Blue       GB           1996.0  Role-Playing   \n",
       "...                              ...      ...              ...           ...   \n",
       "16710  Samurai Warriors: Sanada Maru      PS3           2016.0        Action   \n",
       "16711               LMA Manager 2007     X360           2006.0        Sports   \n",
       "16712        Haitaka no Psychedelica      PSV           2016.0     Adventure   \n",
       "16713               Spirits & Spells      GBA           2003.0      Platform   \n",
       "16714            Winning Post 8 2016      PSV           2016.0    Simulation   \n",
       "\n",
       "       NA_sales  EU_sales  JP_sales  Other_sales  Critic_Score User_Score  \\\n",
       "0         41.36     28.96      3.77         8.45          76.0          8   \n",
       "1         29.08      3.58      6.81         0.77           NaN        NaN   \n",
       "2         15.68     12.76      3.79         3.29          82.0        8.3   \n",
       "3         15.61     10.93      3.28         2.95          80.0          8   \n",
       "4         11.27      8.89     10.22         1.00           NaN        NaN   \n",
       "...         ...       ...       ...          ...           ...        ...   \n",
       "16710      0.00      0.00      0.01         0.00           NaN        NaN   \n",
       "16711      0.00      0.01      0.00         0.00           NaN        NaN   \n",
       "16712      0.00      0.00      0.01         0.00           NaN        NaN   \n",
       "16713      0.01      0.00      0.00         0.00           NaN        NaN   \n",
       "16714      0.00      0.00      0.01         0.00           NaN        NaN   \n",
       "\n",
       "      Rating  \n",
       "0          E  \n",
       "1        NaN  \n",
       "2          E  \n",
       "3          E  \n",
       "4        NaN  \n",
       "...      ...  \n",
       "16710    NaN  \n",
       "16711    NaN  \n",
       "16712    NaN  \n",
       "16713    NaN  \n",
       "16714    NaN  \n",
       "\n",
       "[16715 rows x 11 columns]"
      ]
     },
     "execution_count": 4,
     "metadata": {},
     "output_type": "execute_result"
    }
   ],
   "source": [
    "data"
   ]
  },
  {
   "cell_type": "markdown",
   "metadata": {},
   "source": [
    "Every column name is clear, head of the dataframe looks nice, but a tail does not. "
   ]
  },
  {
   "cell_type": "code",
   "execution_count": 5,
   "metadata": {},
   "outputs": [
    {
     "name": "stdout",
     "output_type": "stream",
     "text": [
      "<class 'pandas.core.frame.DataFrame'>\n",
      "RangeIndex: 16715 entries, 0 to 16714\n",
      "Data columns (total 11 columns):\n",
      "Name               16713 non-null object\n",
      "Platform           16715 non-null object\n",
      "Year_of_Release    16446 non-null float64\n",
      "Genre              16713 non-null object\n",
      "NA_sales           16715 non-null float64\n",
      "EU_sales           16715 non-null float64\n",
      "JP_sales           16715 non-null float64\n",
      "Other_sales        16715 non-null float64\n",
      "Critic_Score       8137 non-null float64\n",
      "User_Score         10014 non-null object\n",
      "Rating             9949 non-null object\n",
      "dtypes: float64(6), object(5)\n",
      "memory usage: 1.4+ MB\n"
     ]
    }
   ],
   "source": [
    "data.info()"
   ]
  },
  {
   "cell_type": "markdown",
   "metadata": {},
   "source": [
    "We have few columns with 'object' data type, so it's probably mixed. We also have a lot of missing values in important for our further investigation columns: 'Critic_Score', 'User_Score' and 'Rating'."
   ]
  },
  {
   "cell_type": "code",
   "execution_count": 6,
   "metadata": {},
   "outputs": [
    {
     "data": {
      "text/html": [
       "<div>\n",
       "<style scoped>\n",
       "    .dataframe tbody tr th:only-of-type {\n",
       "        vertical-align: middle;\n",
       "    }\n",
       "\n",
       "    .dataframe tbody tr th {\n",
       "        vertical-align: top;\n",
       "    }\n",
       "\n",
       "    .dataframe thead th {\n",
       "        text-align: right;\n",
       "    }\n",
       "</style>\n",
       "<table border=\"1\" class=\"dataframe\">\n",
       "  <thead>\n",
       "    <tr style=\"text-align: right;\">\n",
       "      <th></th>\n",
       "      <th>Year_of_Release</th>\n",
       "      <th>NA_sales</th>\n",
       "      <th>EU_sales</th>\n",
       "      <th>JP_sales</th>\n",
       "      <th>Other_sales</th>\n",
       "      <th>Critic_Score</th>\n",
       "    </tr>\n",
       "  </thead>\n",
       "  <tbody>\n",
       "    <tr>\n",
       "      <td>count</td>\n",
       "      <td>16446.000000</td>\n",
       "      <td>16715.000000</td>\n",
       "      <td>16715.000000</td>\n",
       "      <td>16715.000000</td>\n",
       "      <td>16715.000000</td>\n",
       "      <td>8137.000000</td>\n",
       "    </tr>\n",
       "    <tr>\n",
       "      <td>mean</td>\n",
       "      <td>2006.484616</td>\n",
       "      <td>0.263377</td>\n",
       "      <td>0.145060</td>\n",
       "      <td>0.077617</td>\n",
       "      <td>0.047342</td>\n",
       "      <td>68.967679</td>\n",
       "    </tr>\n",
       "    <tr>\n",
       "      <td>std</td>\n",
       "      <td>5.877050</td>\n",
       "      <td>0.813604</td>\n",
       "      <td>0.503339</td>\n",
       "      <td>0.308853</td>\n",
       "      <td>0.186731</td>\n",
       "      <td>13.938165</td>\n",
       "    </tr>\n",
       "    <tr>\n",
       "      <td>min</td>\n",
       "      <td>1980.000000</td>\n",
       "      <td>0.000000</td>\n",
       "      <td>0.000000</td>\n",
       "      <td>0.000000</td>\n",
       "      <td>0.000000</td>\n",
       "      <td>13.000000</td>\n",
       "    </tr>\n",
       "    <tr>\n",
       "      <td>25%</td>\n",
       "      <td>2003.000000</td>\n",
       "      <td>0.000000</td>\n",
       "      <td>0.000000</td>\n",
       "      <td>0.000000</td>\n",
       "      <td>0.000000</td>\n",
       "      <td>60.000000</td>\n",
       "    </tr>\n",
       "    <tr>\n",
       "      <td>50%</td>\n",
       "      <td>2007.000000</td>\n",
       "      <td>0.080000</td>\n",
       "      <td>0.020000</td>\n",
       "      <td>0.000000</td>\n",
       "      <td>0.010000</td>\n",
       "      <td>71.000000</td>\n",
       "    </tr>\n",
       "    <tr>\n",
       "      <td>75%</td>\n",
       "      <td>2010.000000</td>\n",
       "      <td>0.240000</td>\n",
       "      <td>0.110000</td>\n",
       "      <td>0.040000</td>\n",
       "      <td>0.030000</td>\n",
       "      <td>79.000000</td>\n",
       "    </tr>\n",
       "    <tr>\n",
       "      <td>max</td>\n",
       "      <td>2016.000000</td>\n",
       "      <td>41.360000</td>\n",
       "      <td>28.960000</td>\n",
       "      <td>10.220000</td>\n",
       "      <td>10.570000</td>\n",
       "      <td>98.000000</td>\n",
       "    </tr>\n",
       "  </tbody>\n",
       "</table>\n",
       "</div>"
      ],
      "text/plain": [
       "       Year_of_Release      NA_sales      EU_sales      JP_sales  \\\n",
       "count     16446.000000  16715.000000  16715.000000  16715.000000   \n",
       "mean       2006.484616      0.263377      0.145060      0.077617   \n",
       "std           5.877050      0.813604      0.503339      0.308853   \n",
       "min        1980.000000      0.000000      0.000000      0.000000   \n",
       "25%        2003.000000      0.000000      0.000000      0.000000   \n",
       "50%        2007.000000      0.080000      0.020000      0.000000   \n",
       "75%        2010.000000      0.240000      0.110000      0.040000   \n",
       "max        2016.000000     41.360000     28.960000     10.220000   \n",
       "\n",
       "        Other_sales  Critic_Score  \n",
       "count  16715.000000   8137.000000  \n",
       "mean       0.047342     68.967679  \n",
       "std        0.186731     13.938165  \n",
       "min        0.000000     13.000000  \n",
       "25%        0.000000     60.000000  \n",
       "50%        0.010000     71.000000  \n",
       "75%        0.030000     79.000000  \n",
       "max       10.570000     98.000000  "
      ]
     },
     "execution_count": 6,
     "metadata": {},
     "output_type": "execute_result"
    }
   ],
   "source": [
    "data.describe()"
   ]
  },
  {
   "cell_type": "markdown",
   "metadata": {},
   "source": [
    "Checking numerical values we see that we have games from 1980 to 2016. In 1980s and 1990s games market was very different from today so we probably won't consider this period in our prognosis. As for columns with sales now we see that there are a lot of zero values, almost 50% in every column and even more in Japan."
   ]
  },
  {
   "cell_type": "code",
   "execution_count": 7,
   "metadata": {},
   "outputs": [
    {
     "data": {
      "text/html": [
       "<div>\n",
       "<style scoped>\n",
       "    .dataframe tbody tr th:only-of-type {\n",
       "        vertical-align: middle;\n",
       "    }\n",
       "\n",
       "    .dataframe tbody tr th {\n",
       "        vertical-align: top;\n",
       "    }\n",
       "\n",
       "    .dataframe thead th {\n",
       "        text-align: right;\n",
       "    }\n",
       "</style>\n",
       "<table border=\"1\" class=\"dataframe\">\n",
       "  <thead>\n",
       "    <tr style=\"text-align: right;\">\n",
       "      <th></th>\n",
       "      <th>Name</th>\n",
       "      <th>Platform</th>\n",
       "      <th>Genre</th>\n",
       "      <th>User_Score</th>\n",
       "      <th>Rating</th>\n",
       "    </tr>\n",
       "  </thead>\n",
       "  <tbody>\n",
       "    <tr>\n",
       "      <td>count</td>\n",
       "      <td>16713</td>\n",
       "      <td>16715</td>\n",
       "      <td>16713</td>\n",
       "      <td>10014</td>\n",
       "      <td>9949</td>\n",
       "    </tr>\n",
       "    <tr>\n",
       "      <td>unique</td>\n",
       "      <td>11559</td>\n",
       "      <td>31</td>\n",
       "      <td>12</td>\n",
       "      <td>96</td>\n",
       "      <td>8</td>\n",
       "    </tr>\n",
       "    <tr>\n",
       "      <td>top</td>\n",
       "      <td>Need for Speed: Most Wanted</td>\n",
       "      <td>PS2</td>\n",
       "      <td>Action</td>\n",
       "      <td>tbd</td>\n",
       "      <td>E</td>\n",
       "    </tr>\n",
       "    <tr>\n",
       "      <td>freq</td>\n",
       "      <td>12</td>\n",
       "      <td>2161</td>\n",
       "      <td>3369</td>\n",
       "      <td>2424</td>\n",
       "      <td>3990</td>\n",
       "    </tr>\n",
       "  </tbody>\n",
       "</table>\n",
       "</div>"
      ],
      "text/plain": [
       "                               Name Platform   Genre User_Score Rating\n",
       "count                         16713    16715   16713      10014   9949\n",
       "unique                        11559       31      12         96      8\n",
       "top     Need for Speed: Most Wanted      PS2  Action        tbd      E\n",
       "freq                             12     2161    3369       2424   3990"
      ]
     },
     "execution_count": 7,
     "metadata": {},
     "output_type": "execute_result"
    }
   ],
   "source": [
    "data.describe(include=['object'])"
   ]
  },
  {
   "cell_type": "code",
   "execution_count": 8,
   "metadata": {},
   "outputs": [
    {
     "name": "stdout",
     "output_type": "stream",
     "text": [
      "0.1450194436135208\n"
     ]
    }
   ],
   "source": [
    "print(len(data[data['User_Score']=='tbd']) / len(data['User_Score']))"
   ]
  },
  {
   "cell_type": "markdown",
   "metadata": {},
   "source": [
    "From checking categorical and mixed variables we see that there are 11559 unique games, which is an impressive number. The game we see 12 times is Need for Speed: Most Wanted. \n",
    "There's a problem in 'User_Score' - a 'tbd' value, 14% of all games."
   ]
  },
  {
   "cell_type": "code",
   "execution_count": 9,
   "metadata": {},
   "outputs": [
    {
     "name": "stdout",
     "output_type": "stream",
     "text": [
      "Platform ['Wii' 'NES' 'GB' 'DS' 'X360' 'PS3' 'PS2' 'SNES' 'GBA' 'PS4' '3DS' 'N64'\n",
      " 'PS' 'XB' 'PC' '2600' 'PSP' 'XOne' 'WiiU' 'GC' 'GEN' 'DC' 'PSV' 'SAT'\n",
      " 'SCD' 'WS' 'NG' 'TG16' '3DO' 'GG' 'PCFX']\n",
      "Genre ['Sports' 'Platform' 'Racing' 'Role-Playing' 'Puzzle' 'Misc' 'Shooter'\n",
      " 'Simulation' 'Action' 'Fighting' 'Adventure' 'Strategy' nan]\n",
      "Rating ['E' nan 'M' 'T' 'E10+' 'K-A' 'AO' 'EC' 'RP']\n"
     ]
    }
   ],
   "source": [
    "for i in data[['Platform', 'Genre', 'Rating']]:\n",
    "    print(i, data[i].unique())"
   ]
  },
  {
   "cell_type": "code",
   "execution_count": 10,
   "metadata": {},
   "outputs": [
    {
     "name": "stdout",
     "output_type": "stream",
     "text": [
      "Genre 2\n",
      "Rating 6766\n"
     ]
    }
   ],
   "source": [
    "for i in data[['Genre', 'Rating']]:\n",
    "    print(i, data[i].isna().sum())"
   ]
  },
  {
   "cell_type": "markdown",
   "metadata": {},
   "source": [
    "We also have 31 unique platform, where PS2 has the most (2161) games. \n",
    "Top genre is action. Two missing values in genre are unsignificant.\n",
    "We have 8 unique ratings and also 6766 missing values, which is a lot."
   ]
  },
  {
   "cell_type": "markdown",
   "metadata": {},
   "source": [
    "### Prepare the data"
   ]
  },
  {
   "cell_type": "markdown",
   "metadata": {},
   "source": [
    "<a id=\"point2_1\"></a>\n",
    "#### Replace the column names (make them lowercase)."
   ]
  },
  {
   "cell_type": "code",
   "execution_count": 11,
   "metadata": {},
   "outputs": [
    {
     "data": {
      "text/plain": [
       "Index(['name', 'platform', 'year_of_release', 'genre', 'na_sales', 'eu_sales',\n",
       "       'jp_sales', 'other_sales', 'critic_score', 'user_score', 'rating'],\n",
       "      dtype='object')"
      ]
     },
     "execution_count": 11,
     "metadata": {},
     "output_type": "execute_result"
    }
   ],
   "source": [
    "data.columns = data.columns.str.lower()\n",
    "data.columns.str.lower()"
   ]
  },
  {
   "cell_type": "markdown",
   "metadata": {},
   "source": [
    "<a id=\"point2_2\"></a>\n",
    "#### Calculate the total sales (the sum of sales in all regions) for each game and put these values in a separate column."
   ]
  },
  {
   "cell_type": "code",
   "execution_count": 12,
   "metadata": {},
   "outputs": [],
   "source": [
    "data['total_sales'] = data[['na_sales', 'eu_sales', 'jp_sales', 'other_sales']].sum(axis=1)"
   ]
  },
  {
   "cell_type": "code",
   "execution_count": 13,
   "metadata": {},
   "outputs": [
    {
     "data": {
      "text/html": [
       "<div>\n",
       "<style scoped>\n",
       "    .dataframe tbody tr th:only-of-type {\n",
       "        vertical-align: middle;\n",
       "    }\n",
       "\n",
       "    .dataframe tbody tr th {\n",
       "        vertical-align: top;\n",
       "    }\n",
       "\n",
       "    .dataframe thead th {\n",
       "        text-align: right;\n",
       "    }\n",
       "</style>\n",
       "<table border=\"1\" class=\"dataframe\">\n",
       "  <thead>\n",
       "    <tr style=\"text-align: right;\">\n",
       "      <th></th>\n",
       "      <th>name</th>\n",
       "      <th>platform</th>\n",
       "      <th>year_of_release</th>\n",
       "      <th>genre</th>\n",
       "      <th>na_sales</th>\n",
       "      <th>eu_sales</th>\n",
       "      <th>jp_sales</th>\n",
       "      <th>other_sales</th>\n",
       "      <th>critic_score</th>\n",
       "      <th>user_score</th>\n",
       "      <th>rating</th>\n",
       "      <th>total_sales</th>\n",
       "    </tr>\n",
       "  </thead>\n",
       "  <tbody>\n",
       "    <tr>\n",
       "      <td>0</td>\n",
       "      <td>Wii Sports</td>\n",
       "      <td>Wii</td>\n",
       "      <td>2006.0</td>\n",
       "      <td>Sports</td>\n",
       "      <td>41.36</td>\n",
       "      <td>28.96</td>\n",
       "      <td>3.77</td>\n",
       "      <td>8.45</td>\n",
       "      <td>76.0</td>\n",
       "      <td>8</td>\n",
       "      <td>E</td>\n",
       "      <td>82.54</td>\n",
       "    </tr>\n",
       "    <tr>\n",
       "      <td>1</td>\n",
       "      <td>Super Mario Bros.</td>\n",
       "      <td>NES</td>\n",
       "      <td>1985.0</td>\n",
       "      <td>Platform</td>\n",
       "      <td>29.08</td>\n",
       "      <td>3.58</td>\n",
       "      <td>6.81</td>\n",
       "      <td>0.77</td>\n",
       "      <td>NaN</td>\n",
       "      <td>NaN</td>\n",
       "      <td>NaN</td>\n",
       "      <td>40.24</td>\n",
       "    </tr>\n",
       "    <tr>\n",
       "      <td>2</td>\n",
       "      <td>Mario Kart Wii</td>\n",
       "      <td>Wii</td>\n",
       "      <td>2008.0</td>\n",
       "      <td>Racing</td>\n",
       "      <td>15.68</td>\n",
       "      <td>12.76</td>\n",
       "      <td>3.79</td>\n",
       "      <td>3.29</td>\n",
       "      <td>82.0</td>\n",
       "      <td>8.3</td>\n",
       "      <td>E</td>\n",
       "      <td>35.52</td>\n",
       "    </tr>\n",
       "    <tr>\n",
       "      <td>3</td>\n",
       "      <td>Wii Sports Resort</td>\n",
       "      <td>Wii</td>\n",
       "      <td>2009.0</td>\n",
       "      <td>Sports</td>\n",
       "      <td>15.61</td>\n",
       "      <td>10.93</td>\n",
       "      <td>3.28</td>\n",
       "      <td>2.95</td>\n",
       "      <td>80.0</td>\n",
       "      <td>8</td>\n",
       "      <td>E</td>\n",
       "      <td>32.77</td>\n",
       "    </tr>\n",
       "    <tr>\n",
       "      <td>4</td>\n",
       "      <td>Pokemon Red/Pokemon Blue</td>\n",
       "      <td>GB</td>\n",
       "      <td>1996.0</td>\n",
       "      <td>Role-Playing</td>\n",
       "      <td>11.27</td>\n",
       "      <td>8.89</td>\n",
       "      <td>10.22</td>\n",
       "      <td>1.00</td>\n",
       "      <td>NaN</td>\n",
       "      <td>NaN</td>\n",
       "      <td>NaN</td>\n",
       "      <td>31.38</td>\n",
       "    </tr>\n",
       "    <tr>\n",
       "      <td>...</td>\n",
       "      <td>...</td>\n",
       "      <td>...</td>\n",
       "      <td>...</td>\n",
       "      <td>...</td>\n",
       "      <td>...</td>\n",
       "      <td>...</td>\n",
       "      <td>...</td>\n",
       "      <td>...</td>\n",
       "      <td>...</td>\n",
       "      <td>...</td>\n",
       "      <td>...</td>\n",
       "      <td>...</td>\n",
       "    </tr>\n",
       "    <tr>\n",
       "      <td>16710</td>\n",
       "      <td>Samurai Warriors: Sanada Maru</td>\n",
       "      <td>PS3</td>\n",
       "      <td>2016.0</td>\n",
       "      <td>Action</td>\n",
       "      <td>0.00</td>\n",
       "      <td>0.00</td>\n",
       "      <td>0.01</td>\n",
       "      <td>0.00</td>\n",
       "      <td>NaN</td>\n",
       "      <td>NaN</td>\n",
       "      <td>NaN</td>\n",
       "      <td>0.01</td>\n",
       "    </tr>\n",
       "    <tr>\n",
       "      <td>16711</td>\n",
       "      <td>LMA Manager 2007</td>\n",
       "      <td>X360</td>\n",
       "      <td>2006.0</td>\n",
       "      <td>Sports</td>\n",
       "      <td>0.00</td>\n",
       "      <td>0.01</td>\n",
       "      <td>0.00</td>\n",
       "      <td>0.00</td>\n",
       "      <td>NaN</td>\n",
       "      <td>NaN</td>\n",
       "      <td>NaN</td>\n",
       "      <td>0.01</td>\n",
       "    </tr>\n",
       "    <tr>\n",
       "      <td>16712</td>\n",
       "      <td>Haitaka no Psychedelica</td>\n",
       "      <td>PSV</td>\n",
       "      <td>2016.0</td>\n",
       "      <td>Adventure</td>\n",
       "      <td>0.00</td>\n",
       "      <td>0.00</td>\n",
       "      <td>0.01</td>\n",
       "      <td>0.00</td>\n",
       "      <td>NaN</td>\n",
       "      <td>NaN</td>\n",
       "      <td>NaN</td>\n",
       "      <td>0.01</td>\n",
       "    </tr>\n",
       "    <tr>\n",
       "      <td>16713</td>\n",
       "      <td>Spirits &amp; Spells</td>\n",
       "      <td>GBA</td>\n",
       "      <td>2003.0</td>\n",
       "      <td>Platform</td>\n",
       "      <td>0.01</td>\n",
       "      <td>0.00</td>\n",
       "      <td>0.00</td>\n",
       "      <td>0.00</td>\n",
       "      <td>NaN</td>\n",
       "      <td>NaN</td>\n",
       "      <td>NaN</td>\n",
       "      <td>0.01</td>\n",
       "    </tr>\n",
       "    <tr>\n",
       "      <td>16714</td>\n",
       "      <td>Winning Post 8 2016</td>\n",
       "      <td>PSV</td>\n",
       "      <td>2016.0</td>\n",
       "      <td>Simulation</td>\n",
       "      <td>0.00</td>\n",
       "      <td>0.00</td>\n",
       "      <td>0.01</td>\n",
       "      <td>0.00</td>\n",
       "      <td>NaN</td>\n",
       "      <td>NaN</td>\n",
       "      <td>NaN</td>\n",
       "      <td>0.01</td>\n",
       "    </tr>\n",
       "  </tbody>\n",
       "</table>\n",
       "<p>16715 rows × 12 columns</p>\n",
       "</div>"
      ],
      "text/plain": [
       "                                name platform  year_of_release         genre  \\\n",
       "0                         Wii Sports      Wii           2006.0        Sports   \n",
       "1                  Super Mario Bros.      NES           1985.0      Platform   \n",
       "2                     Mario Kart Wii      Wii           2008.0        Racing   \n",
       "3                  Wii Sports Resort      Wii           2009.0        Sports   \n",
       "4           Pokemon Red/Pokemon Blue       GB           1996.0  Role-Playing   \n",
       "...                              ...      ...              ...           ...   \n",
       "16710  Samurai Warriors: Sanada Maru      PS3           2016.0        Action   \n",
       "16711               LMA Manager 2007     X360           2006.0        Sports   \n",
       "16712        Haitaka no Psychedelica      PSV           2016.0     Adventure   \n",
       "16713               Spirits & Spells      GBA           2003.0      Platform   \n",
       "16714            Winning Post 8 2016      PSV           2016.0    Simulation   \n",
       "\n",
       "       na_sales  eu_sales  jp_sales  other_sales  critic_score user_score  \\\n",
       "0         41.36     28.96      3.77         8.45          76.0          8   \n",
       "1         29.08      3.58      6.81         0.77           NaN        NaN   \n",
       "2         15.68     12.76      3.79         3.29          82.0        8.3   \n",
       "3         15.61     10.93      3.28         2.95          80.0          8   \n",
       "4         11.27      8.89     10.22         1.00           NaN        NaN   \n",
       "...         ...       ...       ...          ...           ...        ...   \n",
       "16710      0.00      0.00      0.01         0.00           NaN        NaN   \n",
       "16711      0.00      0.01      0.00         0.00           NaN        NaN   \n",
       "16712      0.00      0.00      0.01         0.00           NaN        NaN   \n",
       "16713      0.01      0.00      0.00         0.00           NaN        NaN   \n",
       "16714      0.00      0.00      0.01         0.00           NaN        NaN   \n",
       "\n",
       "      rating  total_sales  \n",
       "0          E        82.54  \n",
       "1        NaN        40.24  \n",
       "2          E        35.52  \n",
       "3          E        32.77  \n",
       "4        NaN        31.38  \n",
       "...      ...          ...  \n",
       "16710    NaN         0.01  \n",
       "16711    NaN         0.01  \n",
       "16712    NaN         0.01  \n",
       "16713    NaN         0.01  \n",
       "16714    NaN         0.01  \n",
       "\n",
       "[16715 rows x 12 columns]"
      ]
     },
     "execution_count": 13,
     "metadata": {},
     "output_type": "execute_result"
    }
   ],
   "source": [
    "data"
   ]
  },
  {
   "cell_type": "markdown",
   "metadata": {},
   "source": [
    "<a id=\"point2_3\"></a>\n",
    "#### If necessary, decide how to deal with missing values:"
   ]
  },
  {
   "cell_type": "code",
   "execution_count": 14,
   "metadata": {},
   "outputs": [],
   "source": [
    "data['name'] = data['name'].fillna(value='Undefined')\n",
    "data['genre'] = data['genre'].fillna(value='Undefined')"
   ]
  },
  {
   "cell_type": "code",
   "execution_count": 15,
   "metadata": {},
   "outputs": [
    {
     "data": {
      "text/html": [
       "<div>\n",
       "<style scoped>\n",
       "    .dataframe tbody tr th:only-of-type {\n",
       "        vertical-align: middle;\n",
       "    }\n",
       "\n",
       "    .dataframe tbody tr th {\n",
       "        vertical-align: top;\n",
       "    }\n",
       "\n",
       "    .dataframe thead th {\n",
       "        text-align: right;\n",
       "    }\n",
       "</style>\n",
       "<table border=\"1\" class=\"dataframe\">\n",
       "  <thead>\n",
       "    <tr style=\"text-align: right;\">\n",
       "      <th></th>\n",
       "      <th>name</th>\n",
       "      <th>platform</th>\n",
       "      <th>year_of_release</th>\n",
       "      <th>genre</th>\n",
       "      <th>na_sales</th>\n",
       "      <th>eu_sales</th>\n",
       "      <th>jp_sales</th>\n",
       "      <th>other_sales</th>\n",
       "      <th>critic_score</th>\n",
       "      <th>user_score</th>\n",
       "      <th>rating</th>\n",
       "      <th>total_sales</th>\n",
       "    </tr>\n",
       "  </thead>\n",
       "  <tbody>\n",
       "    <tr>\n",
       "      <td>659</td>\n",
       "      <td>Undefined</td>\n",
       "      <td>GEN</td>\n",
       "      <td>1993.0</td>\n",
       "      <td>Undefined</td>\n",
       "      <td>1.78</td>\n",
       "      <td>0.53</td>\n",
       "      <td>0.00</td>\n",
       "      <td>0.08</td>\n",
       "      <td>NaN</td>\n",
       "      <td>NaN</td>\n",
       "      <td>NaN</td>\n",
       "      <td>2.39</td>\n",
       "    </tr>\n",
       "    <tr>\n",
       "      <td>14244</td>\n",
       "      <td>Undefined</td>\n",
       "      <td>GEN</td>\n",
       "      <td>1993.0</td>\n",
       "      <td>Undefined</td>\n",
       "      <td>0.00</td>\n",
       "      <td>0.00</td>\n",
       "      <td>0.03</td>\n",
       "      <td>0.00</td>\n",
       "      <td>NaN</td>\n",
       "      <td>NaN</td>\n",
       "      <td>NaN</td>\n",
       "      <td>0.03</td>\n",
       "    </tr>\n",
       "  </tbody>\n",
       "</table>\n",
       "</div>"
      ],
      "text/plain": [
       "            name platform  year_of_release      genre  na_sales  eu_sales  \\\n",
       "659    Undefined      GEN           1993.0  Undefined      1.78      0.53   \n",
       "14244  Undefined      GEN           1993.0  Undefined      0.00      0.00   \n",
       "\n",
       "       jp_sales  other_sales  critic_score user_score rating  total_sales  \n",
       "659        0.00         0.08           NaN        NaN    NaN         2.39  \n",
       "14244      0.03         0.00           NaN        NaN    NaN         0.03  "
      ]
     },
     "execution_count": 15,
     "metadata": {},
     "output_type": "execute_result"
    }
   ],
   "source": [
    "data[data['name']=='Undefined']"
   ]
  },
  {
   "cell_type": "markdown",
   "metadata": {},
   "source": [
    "We have two rows that are totally screwed, so we might just drop them."
   ]
  },
  {
   "cell_type": "code",
   "execution_count": 16,
   "metadata": {},
   "outputs": [],
   "source": [
    "data.drop(data[data['name'] == 'Undefined'].index, inplace = True)"
   ]
  },
  {
   "cell_type": "code",
   "execution_count": 17,
   "metadata": {},
   "outputs": [
    {
     "data": {
      "text/plain": [
       "16713"
      ]
     },
     "execution_count": 17,
     "metadata": {},
     "output_type": "execute_result"
    }
   ],
   "source": [
    "len(data)"
   ]
  },
  {
   "cell_type": "code",
   "execution_count": 18,
   "metadata": {},
   "outputs": [
    {
     "data": {
      "text/plain": [
       "269"
      ]
     },
     "execution_count": 18,
     "metadata": {},
     "output_type": "execute_result"
    }
   ],
   "source": [
    "data['year_of_release'].isna().sum()"
   ]
  },
  {
   "cell_type": "markdown",
   "metadata": {},
   "source": [
    "As for year missing, there are 269 rows, we can check if some of the games have year of release on other platforms."
   ]
  },
  {
   "cell_type": "code",
   "execution_count": 19,
   "metadata": {},
   "outputs": [
    {
     "data": {
      "text/html": [
       "<div>\n",
       "<style scoped>\n",
       "    .dataframe tbody tr th:only-of-type {\n",
       "        vertical-align: middle;\n",
       "    }\n",
       "\n",
       "    .dataframe tbody tr th {\n",
       "        vertical-align: top;\n",
       "    }\n",
       "\n",
       "    .dataframe thead th {\n",
       "        text-align: right;\n",
       "    }\n",
       "</style>\n",
       "<table border=\"1\" class=\"dataframe\">\n",
       "  <thead>\n",
       "    <tr style=\"text-align: right;\">\n",
       "      <th></th>\n",
       "      <th>name</th>\n",
       "      <th>year_of_release</th>\n",
       "    </tr>\n",
       "  </thead>\n",
       "  <tbody>\n",
       "    <tr>\n",
       "      <td>0</td>\n",
       "      <td>Beyblade Burst</td>\n",
       "      <td>2016</td>\n",
       "    </tr>\n",
       "    <tr>\n",
       "      <td>1</td>\n",
       "      <td>Fire Emblem Fates</td>\n",
       "      <td>2015</td>\n",
       "    </tr>\n",
       "    <tr>\n",
       "      <td>2</td>\n",
       "      <td>Frozen: Olaf's Quest</td>\n",
       "      <td>2013</td>\n",
       "    </tr>\n",
       "    <tr>\n",
       "      <td>3</td>\n",
       "      <td>Haikyu!! Cross Team Match!</td>\n",
       "      <td>2016</td>\n",
       "    </tr>\n",
       "    <tr>\n",
       "      <td>4</td>\n",
       "      <td>Tales of Xillia 2</td>\n",
       "      <td>2012</td>\n",
       "    </tr>\n",
       "    <tr>\n",
       "      <td>...</td>\n",
       "      <td>...</td>\n",
       "      <td>...</td>\n",
       "    </tr>\n",
       "    <tr>\n",
       "      <td>11421</td>\n",
       "      <td>thinkSMART FAMILY!</td>\n",
       "      <td>2010</td>\n",
       "    </tr>\n",
       "    <tr>\n",
       "      <td>11422</td>\n",
       "      <td>thinkSMART: Chess for Kids</td>\n",
       "      <td>2011</td>\n",
       "    </tr>\n",
       "    <tr>\n",
       "      <td>11423</td>\n",
       "      <td>uDraw Studio</td>\n",
       "      <td>2010</td>\n",
       "    </tr>\n",
       "    <tr>\n",
       "      <td>11424</td>\n",
       "      <td>uDraw Studio: Instant Artist</td>\n",
       "      <td>2011</td>\n",
       "    </tr>\n",
       "    <tr>\n",
       "      <td>11425</td>\n",
       "      <td>¡Shin Chan Flipa en colores!</td>\n",
       "      <td>2007</td>\n",
       "    </tr>\n",
       "  </tbody>\n",
       "</table>\n",
       "<p>11426 rows × 2 columns</p>\n",
       "</div>"
      ],
      "text/plain": [
       "                               name  year_of_release\n",
       "0                    Beyblade Burst             2016\n",
       "1                 Fire Emblem Fates             2015\n",
       "2              Frozen: Olaf's Quest             2013\n",
       "3        Haikyu!! Cross Team Match!             2016\n",
       "4                 Tales of Xillia 2             2012\n",
       "...                             ...              ...\n",
       "11421            thinkSMART FAMILY!             2010\n",
       "11422    thinkSMART: Chess for Kids             2011\n",
       "11423                  uDraw Studio             2010\n",
       "11424  uDraw Studio: Instant Artist             2011\n",
       "11425  ¡Shin Chan Flipa en colores!             2007\n",
       "\n",
       "[11426 rows x 2 columns]"
      ]
     },
     "execution_count": 19,
     "metadata": {},
     "output_type": "execute_result"
    }
   ],
   "source": [
    "games_list = data[['name', 'year_of_release']].pivot_table(index='name').reset_index()\n",
    "games_list['year_of_release']=games_list['year_of_release'].astype(int)\n",
    "games_list"
   ]
  },
  {
   "cell_type": "code",
   "execution_count": 20,
   "metadata": {},
   "outputs": [],
   "source": [
    "data['year_of_release']=data['year_of_release'].fillna(value=0)"
   ]
  },
  {
   "cell_type": "code",
   "execution_count": 21,
   "metadata": {},
   "outputs": [],
   "source": [
    "#the function works but it's super NOT efficient. maybe I need to get rid of \"row\" inside function, since apply with axis=1 already iterates over each row, how do I do that?\n",
    "#it takes too much time, I considered not filling up missing years at all, or maybe manually for big sales games\n",
    "\n",
    "def fill_year(row):\n",
    "    name = row['name']\n",
    "    year = row['year_of_release']\n",
    "    if name in list(games_list['name'].unique()):\n",
    "        recovered_year = games_list[games_list['name']==name]['year_of_release'].iloc[0]\n",
    "    else:\n",
    "        recovered_year = year\n",
    "        \n",
    "    if year == 0:        \n",
    "        return recovered_year\n",
    "    else:\n",
    "        return year"
   ]
  },
  {
   "cell_type": "code",
   "execution_count": 22,
   "metadata": {},
   "outputs": [],
   "source": [
    "data['year'] = data.apply(fill_year, axis=1) "
   ]
  },
  {
   "cell_type": "code",
   "execution_count": 23,
   "metadata": {},
   "outputs": [
    {
     "name": "stdout",
     "output_type": "stream",
     "text": [
      "269\n",
      "146\n"
     ]
    }
   ],
   "source": [
    "print(data[data['year_of_release']==0].shape[0])\n",
    "print(data[data['year']==0].shape[0])"
   ]
  },
  {
   "cell_type": "markdown",
   "metadata": {},
   "source": [
    "This is the best we can do automatically, next we will check games with missing year and significant sales and fill it manually by simply googling the year of release"
   ]
  },
  {
   "cell_type": "code",
   "execution_count": 24,
   "metadata": {},
   "outputs": [
    {
     "data": {
      "text/html": [
       "<div>\n",
       "<style scoped>\n",
       "    .dataframe tbody tr th:only-of-type {\n",
       "        vertical-align: middle;\n",
       "    }\n",
       "\n",
       "    .dataframe tbody tr th {\n",
       "        vertical-align: top;\n",
       "    }\n",
       "\n",
       "    .dataframe thead th {\n",
       "        text-align: right;\n",
       "    }\n",
       "</style>\n",
       "<table border=\"1\" class=\"dataframe\">\n",
       "  <thead>\n",
       "    <tr style=\"text-align: right;\">\n",
       "      <th></th>\n",
       "      <th>name</th>\n",
       "      <th>platform</th>\n",
       "      <th>year_of_release</th>\n",
       "      <th>genre</th>\n",
       "      <th>na_sales</th>\n",
       "      <th>eu_sales</th>\n",
       "      <th>jp_sales</th>\n",
       "      <th>other_sales</th>\n",
       "      <th>critic_score</th>\n",
       "      <th>user_score</th>\n",
       "      <th>rating</th>\n",
       "      <th>total_sales</th>\n",
       "      <th>year</th>\n",
       "    </tr>\n",
       "  </thead>\n",
       "  <tbody>\n",
       "    <tr>\n",
       "      <td>475</td>\n",
       "      <td>wwe Smackdown vs. Raw 2006</td>\n",
       "      <td>PS2</td>\n",
       "      <td>0.0</td>\n",
       "      <td>Fighting</td>\n",
       "      <td>1.57</td>\n",
       "      <td>1.02</td>\n",
       "      <td>0.0</td>\n",
       "      <td>0.41</td>\n",
       "      <td>NaN</td>\n",
       "      <td>NaN</td>\n",
       "      <td>NaN</td>\n",
       "      <td>3.00</td>\n",
       "      <td>0.0</td>\n",
       "    </tr>\n",
       "    <tr>\n",
       "      <td>627</td>\n",
       "      <td>Rock Band</td>\n",
       "      <td>X360</td>\n",
       "      <td>0.0</td>\n",
       "      <td>Misc</td>\n",
       "      <td>1.93</td>\n",
       "      <td>0.33</td>\n",
       "      <td>0.0</td>\n",
       "      <td>0.21</td>\n",
       "      <td>92.0</td>\n",
       "      <td>8.2</td>\n",
       "      <td>T</td>\n",
       "      <td>2.47</td>\n",
       "      <td>0.0</td>\n",
       "    </tr>\n",
       "    <tr>\n",
       "      <td>657</td>\n",
       "      <td>Frogger's Adventures: Temple of the Frog</td>\n",
       "      <td>GBA</td>\n",
       "      <td>0.0</td>\n",
       "      <td>Adventure</td>\n",
       "      <td>2.15</td>\n",
       "      <td>0.18</td>\n",
       "      <td>0.0</td>\n",
       "      <td>0.07</td>\n",
       "      <td>73.0</td>\n",
       "      <td>tbd</td>\n",
       "      <td>E</td>\n",
       "      <td>2.40</td>\n",
       "      <td>0.0</td>\n",
       "    </tr>\n",
       "    <tr>\n",
       "      <td>805</td>\n",
       "      <td>Rock Band</td>\n",
       "      <td>Wii</td>\n",
       "      <td>0.0</td>\n",
       "      <td>Misc</td>\n",
       "      <td>1.33</td>\n",
       "      <td>0.56</td>\n",
       "      <td>0.0</td>\n",
       "      <td>0.20</td>\n",
       "      <td>80.0</td>\n",
       "      <td>6.3</td>\n",
       "      <td>T</td>\n",
       "      <td>2.09</td>\n",
       "      <td>0.0</td>\n",
       "    </tr>\n",
       "    <tr>\n",
       "      <td>1142</td>\n",
       "      <td>Rock Band</td>\n",
       "      <td>PS3</td>\n",
       "      <td>0.0</td>\n",
       "      <td>Misc</td>\n",
       "      <td>0.99</td>\n",
       "      <td>0.41</td>\n",
       "      <td>0.0</td>\n",
       "      <td>0.22</td>\n",
       "      <td>92.0</td>\n",
       "      <td>8.4</td>\n",
       "      <td>T</td>\n",
       "      <td>1.62</td>\n",
       "      <td>0.0</td>\n",
       "    </tr>\n",
       "    <tr>\n",
       "      <td>1301</td>\n",
       "      <td>Triple Play 99</td>\n",
       "      <td>PS</td>\n",
       "      <td>0.0</td>\n",
       "      <td>Sports</td>\n",
       "      <td>0.81</td>\n",
       "      <td>0.55</td>\n",
       "      <td>0.0</td>\n",
       "      <td>0.10</td>\n",
       "      <td>NaN</td>\n",
       "      <td>NaN</td>\n",
       "      <td>NaN</td>\n",
       "      <td>1.46</td>\n",
       "      <td>0.0</td>\n",
       "    </tr>\n",
       "    <tr>\n",
       "      <td>1506</td>\n",
       "      <td>Adventure</td>\n",
       "      <td>2600</td>\n",
       "      <td>0.0</td>\n",
       "      <td>Adventure</td>\n",
       "      <td>1.21</td>\n",
       "      <td>0.08</td>\n",
       "      <td>0.0</td>\n",
       "      <td>0.01</td>\n",
       "      <td>NaN</td>\n",
       "      <td>NaN</td>\n",
       "      <td>NaN</td>\n",
       "      <td>1.30</td>\n",
       "      <td>0.0</td>\n",
       "    </tr>\n",
       "    <tr>\n",
       "      <td>1585</td>\n",
       "      <td>Combat</td>\n",
       "      <td>2600</td>\n",
       "      <td>0.0</td>\n",
       "      <td>Action</td>\n",
       "      <td>1.17</td>\n",
       "      <td>0.07</td>\n",
       "      <td>0.0</td>\n",
       "      <td>0.01</td>\n",
       "      <td>NaN</td>\n",
       "      <td>NaN</td>\n",
       "      <td>NaN</td>\n",
       "      <td>1.25</td>\n",
       "      <td>0.0</td>\n",
       "    </tr>\n",
       "    <tr>\n",
       "      <td>1840</td>\n",
       "      <td>Rock Band</td>\n",
       "      <td>PS2</td>\n",
       "      <td>0.0</td>\n",
       "      <td>Misc</td>\n",
       "      <td>0.71</td>\n",
       "      <td>0.06</td>\n",
       "      <td>0.0</td>\n",
       "      <td>0.35</td>\n",
       "      <td>82.0</td>\n",
       "      <td>6.8</td>\n",
       "      <td>T</td>\n",
       "      <td>1.12</td>\n",
       "      <td>0.0</td>\n",
       "    </tr>\n",
       "    <tr>\n",
       "      <td>1984</td>\n",
       "      <td>Legacy of Kain: Soul Reaver</td>\n",
       "      <td>PS</td>\n",
       "      <td>0.0</td>\n",
       "      <td>Action</td>\n",
       "      <td>0.58</td>\n",
       "      <td>0.40</td>\n",
       "      <td>0.0</td>\n",
       "      <td>0.07</td>\n",
       "      <td>91.0</td>\n",
       "      <td>9</td>\n",
       "      <td>T</td>\n",
       "      <td>1.05</td>\n",
       "      <td>0.0</td>\n",
       "    </tr>\n",
       "    <tr>\n",
       "      <td>2010</td>\n",
       "      <td>Donkey Kong Land III</td>\n",
       "      <td>GB</td>\n",
       "      <td>0.0</td>\n",
       "      <td>Platform</td>\n",
       "      <td>0.68</td>\n",
       "      <td>0.31</td>\n",
       "      <td>0.0</td>\n",
       "      <td>0.04</td>\n",
       "      <td>NaN</td>\n",
       "      <td>NaN</td>\n",
       "      <td>NaN</td>\n",
       "      <td>1.03</td>\n",
       "      <td>0.0</td>\n",
       "    </tr>\n",
       "  </tbody>\n",
       "</table>\n",
       "</div>"
      ],
      "text/plain": [
       "                                          name platform  year_of_release  \\\n",
       "475                 wwe Smackdown vs. Raw 2006      PS2              0.0   \n",
       "627                                  Rock Band     X360              0.0   \n",
       "657   Frogger's Adventures: Temple of the Frog      GBA              0.0   \n",
       "805                                  Rock Band      Wii              0.0   \n",
       "1142                                 Rock Band      PS3              0.0   \n",
       "1301                            Triple Play 99       PS              0.0   \n",
       "1506                                 Adventure     2600              0.0   \n",
       "1585                                    Combat     2600              0.0   \n",
       "1840                                 Rock Band      PS2              0.0   \n",
       "1984               Legacy of Kain: Soul Reaver       PS              0.0   \n",
       "2010                      Donkey Kong Land III       GB              0.0   \n",
       "\n",
       "          genre  na_sales  eu_sales  jp_sales  other_sales  critic_score  \\\n",
       "475    Fighting      1.57      1.02       0.0         0.41           NaN   \n",
       "627        Misc      1.93      0.33       0.0         0.21          92.0   \n",
       "657   Adventure      2.15      0.18       0.0         0.07          73.0   \n",
       "805        Misc      1.33      0.56       0.0         0.20          80.0   \n",
       "1142       Misc      0.99      0.41       0.0         0.22          92.0   \n",
       "1301     Sports      0.81      0.55       0.0         0.10           NaN   \n",
       "1506  Adventure      1.21      0.08       0.0         0.01           NaN   \n",
       "1585     Action      1.17      0.07       0.0         0.01           NaN   \n",
       "1840       Misc      0.71      0.06       0.0         0.35          82.0   \n",
       "1984     Action      0.58      0.40       0.0         0.07          91.0   \n",
       "2010   Platform      0.68      0.31       0.0         0.04           NaN   \n",
       "\n",
       "     user_score rating  total_sales  year  \n",
       "475         NaN    NaN         3.00   0.0  \n",
       "627         8.2      T         2.47   0.0  \n",
       "657         tbd      E         2.40   0.0  \n",
       "805         6.3      T         2.09   0.0  \n",
       "1142        8.4      T         1.62   0.0  \n",
       "1301        NaN    NaN         1.46   0.0  \n",
       "1506        NaN    NaN         1.30   0.0  \n",
       "1585        NaN    NaN         1.25   0.0  \n",
       "1840        6.8      T         1.12   0.0  \n",
       "1984          9      T         1.05   0.0  \n",
       "2010        NaN    NaN         1.03   0.0  "
      ]
     },
     "execution_count": 24,
     "metadata": {},
     "output_type": "execute_result"
    }
   ],
   "source": [
    "data[data['year']==0].query('total_sales > 1') "
   ]
  },
  {
   "cell_type": "code",
   "execution_count": 25,
   "metadata": {},
   "outputs": [],
   "source": [
    "data.loc[data.name=='wwe Smackdown vs. Raw 2006', 'year'] = 2006\n",
    "data.loc[data.name==\"Frogger's Adventures: Temple of the Frog\", 'year'] = 2001\n",
    "data.loc[data.name=='Triple Play 99', 'year'] = 1998\n",
    "data.loc[data.name=='Adventure', 'year'] = 1980\n",
    "data.loc[data.name=='Combat', 'year'] = 1980\n",
    "data.loc[data.name=='Legacy of Kain: Soul Reaver', 'year'] = 1999\n",
    "data.loc[data.name=='Donkey Kong Land III', 'year'] = 1997\n",
    "data.loc[data.name=='Rock Band', 'year'] = 2008"
   ]
  },
  {
   "cell_type": "code",
   "execution_count": 26,
   "metadata": {},
   "outputs": [
    {
     "data": {
      "text/plain": [
       "True"
      ]
     },
     "execution_count": 26,
     "metadata": {},
     "output_type": "execute_result"
    }
   ],
   "source": [
    "data.query('total_sales > 1 & year == 0').empty"
   ]
  },
  {
   "cell_type": "code",
   "execution_count": 27,
   "metadata": {},
   "outputs": [
    {
     "name": "stdout",
     "output_type": "stream",
     "text": [
      "135\n"
     ]
    }
   ],
   "source": [
    "print(data[data['year']==0].shape[0])"
   ]
  },
  {
   "cell_type": "code",
   "execution_count": 28,
   "metadata": {},
   "outputs": [
    {
     "data": {
      "text/plain": [
       "16578"
      ]
     },
     "execution_count": 28,
     "metadata": {},
     "output_type": "execute_result"
    }
   ],
   "source": [
    "data.drop(data[data['year'] == 0].index, inplace = True)\n",
    "len(data)"
   ]
  },
  {
   "cell_type": "markdown",
   "metadata": {},
   "source": [
    "We still have 135 games with missing year, but their total sales are not that big to google every one of them, so we will just throw them out and work with what we have."
   ]
  },
  {
   "cell_type": "code",
   "execution_count": 29,
   "metadata": {},
   "outputs": [
    {
     "data": {
      "text/plain": [
       "name                  0\n",
       "platform              0\n",
       "year_of_release       0\n",
       "genre                 0\n",
       "na_sales              0\n",
       "eu_sales              0\n",
       "jp_sales              0\n",
       "other_sales           0\n",
       "critic_score       8497\n",
       "user_score         6638\n",
       "rating             6704\n",
       "total_sales           0\n",
       "year                  0\n",
       "dtype: int64"
      ]
     },
     "execution_count": 29,
     "metadata": {},
     "output_type": "execute_result"
    }
   ],
   "source": [
    "data.isna().sum()"
   ]
  },
  {
   "cell_type": "code",
   "execution_count": 30,
   "metadata": {},
   "outputs": [
    {
     "data": {
      "text/html": [
       "<div>\n",
       "<style scoped>\n",
       "    .dataframe tbody tr th:only-of-type {\n",
       "        vertical-align: middle;\n",
       "    }\n",
       "\n",
       "    .dataframe tbody tr th {\n",
       "        vertical-align: top;\n",
       "    }\n",
       "\n",
       "    .dataframe thead th {\n",
       "        text-align: right;\n",
       "    }\n",
       "</style>\n",
       "<table border=\"1\" class=\"dataframe\">\n",
       "  <thead>\n",
       "    <tr style=\"text-align: right;\">\n",
       "      <th></th>\n",
       "      <th>user_score</th>\n",
       "      <th>critic_score</th>\n",
       "    </tr>\n",
       "  </thead>\n",
       "  <tbody>\n",
       "    <tr>\n",
       "      <td>user_score</td>\n",
       "      <td>1.00000</td>\n",
       "      <td>0.58013</td>\n",
       "    </tr>\n",
       "    <tr>\n",
       "      <td>critic_score</td>\n",
       "      <td>0.58013</td>\n",
       "      <td>1.00000</td>\n",
       "    </tr>\n",
       "  </tbody>\n",
       "</table>\n",
       "</div>"
      ],
      "text/plain": [
       "              user_score  critic_score\n",
       "user_score       1.00000       0.58013\n",
       "critic_score     0.58013       1.00000"
      ]
     },
     "execution_count": 30,
     "metadata": {},
     "output_type": "execute_result"
    }
   ],
   "source": [
    "score_correlation = data[['user_score', 'critic_score']].query('user_score.notna() & user_score != \"tbd\" & critic_score.notna()')\n",
    "score_correlation['user_score']=pd.to_numeric(score_correlation['user_score'])\n",
    "score_correlation.corr()"
   ]
  },
  {
   "cell_type": "code",
   "execution_count": 31,
   "metadata": {
    "scrolled": true
   },
   "outputs": [
    {
     "name": "stdout",
     "output_type": "stream",
     "text": [
      "Percentage of Critic Score missing: 51.25%\n",
      "Percentage of User Score missing: 40.04%\n",
      "Percentage of Rating missing: 40.44%\n"
     ]
    }
   ],
   "source": [
    "print('Percentage of Critic Score missing:', \"{:.2%}\".format(len(data[data['critic_score'].isna()]) / len(data['critic_score'])))\n",
    "print('Percentage of User Score missing:', \"{:.2%}\".format(len(data[data['user_score'].isna()]) / len(data['user_score'])))\n",
    "print('Percentage of Rating missing:', \"{:.2%}\".format(len(data[data['rating'].isna()]) / len(data['rating'])))"
   ]
  },
  {
   "cell_type": "markdown",
   "metadata": {},
   "source": [
    "The percentage of missing values in 'user_score', 'critic_score' and 'rating' is too high for it to be replaced, so we can't really do anything here. I checked for the correlation, and it's 0.58 - not high enough for replacing missing values based on values from another column. We will work with what we got but remember that the data can be not representative."
   ]
  },
  {
   "cell_type": "markdown",
   "metadata": {},
   "source": [
    "<a id=\"point2_4\"></a>\n",
    "#### TBD values"
   ]
  },
  {
   "cell_type": "code",
   "execution_count": 32,
   "metadata": {},
   "outputs": [
    {
     "data": {
      "text/html": [
       "<div>\n",
       "<style scoped>\n",
       "    .dataframe tbody tr th:only-of-type {\n",
       "        vertical-align: middle;\n",
       "    }\n",
       "\n",
       "    .dataframe tbody tr th {\n",
       "        vertical-align: top;\n",
       "    }\n",
       "\n",
       "    .dataframe thead th {\n",
       "        text-align: right;\n",
       "    }\n",
       "</style>\n",
       "<table border=\"1\" class=\"dataframe\">\n",
       "  <thead>\n",
       "    <tr style=\"text-align: right;\">\n",
       "      <th></th>\n",
       "      <th>year</th>\n",
       "      <th>user_score</th>\n",
       "    </tr>\n",
       "  </thead>\n",
       "  <tbody>\n",
       "    <tr>\n",
       "      <td>0</td>\n",
       "      <td>2009.0</td>\n",
       "      <td>405</td>\n",
       "    </tr>\n",
       "    <tr>\n",
       "      <td>1</td>\n",
       "      <td>2010.0</td>\n",
       "      <td>332</td>\n",
       "    </tr>\n",
       "    <tr>\n",
       "      <td>2</td>\n",
       "      <td>2008.0</td>\n",
       "      <td>330</td>\n",
       "    </tr>\n",
       "    <tr>\n",
       "      <td>3</td>\n",
       "      <td>2011.0</td>\n",
       "      <td>218</td>\n",
       "    </tr>\n",
       "    <tr>\n",
       "      <td>4</td>\n",
       "      <td>2007.0</td>\n",
       "      <td>193</td>\n",
       "    </tr>\n",
       "    <tr>\n",
       "      <td>5</td>\n",
       "      <td>2002.0</td>\n",
       "      <td>193</td>\n",
       "    </tr>\n",
       "    <tr>\n",
       "      <td>6</td>\n",
       "      <td>2006.0</td>\n",
       "      <td>127</td>\n",
       "    </tr>\n",
       "    <tr>\n",
       "      <td>7</td>\n",
       "      <td>2005.0</td>\n",
       "      <td>122</td>\n",
       "    </tr>\n",
       "    <tr>\n",
       "      <td>8</td>\n",
       "      <td>2004.0</td>\n",
       "      <td>107</td>\n",
       "    </tr>\n",
       "    <tr>\n",
       "      <td>9</td>\n",
       "      <td>2003.0</td>\n",
       "      <td>97</td>\n",
       "    </tr>\n",
       "    <tr>\n",
       "      <td>10</td>\n",
       "      <td>2001.0</td>\n",
       "      <td>85</td>\n",
       "    </tr>\n",
       "    <tr>\n",
       "      <td>11</td>\n",
       "      <td>2000.0</td>\n",
       "      <td>43</td>\n",
       "    </tr>\n",
       "    <tr>\n",
       "      <td>12</td>\n",
       "      <td>2015.0</td>\n",
       "      <td>38</td>\n",
       "    </tr>\n",
       "    <tr>\n",
       "      <td>13</td>\n",
       "      <td>2016.0</td>\n",
       "      <td>34</td>\n",
       "    </tr>\n",
       "    <tr>\n",
       "      <td>14</td>\n",
       "      <td>2012.0</td>\n",
       "      <td>26</td>\n",
       "    </tr>\n",
       "    <tr>\n",
       "      <td>15</td>\n",
       "      <td>2014.0</td>\n",
       "      <td>21</td>\n",
       "    </tr>\n",
       "    <tr>\n",
       "      <td>16</td>\n",
       "      <td>2013.0</td>\n",
       "      <td>15</td>\n",
       "    </tr>\n",
       "    <tr>\n",
       "      <td>17</td>\n",
       "      <td>1999.0</td>\n",
       "      <td>8</td>\n",
       "    </tr>\n",
       "    <tr>\n",
       "      <td>18</td>\n",
       "      <td>1997.0</td>\n",
       "      <td>1</td>\n",
       "    </tr>\n",
       "  </tbody>\n",
       "</table>\n",
       "</div>"
      ],
      "text/plain": [
       "      year  user_score\n",
       "0   2009.0         405\n",
       "1   2010.0         332\n",
       "2   2008.0         330\n",
       "3   2011.0         218\n",
       "4   2007.0         193\n",
       "5   2002.0         193\n",
       "6   2006.0         127\n",
       "7   2005.0         122\n",
       "8   2004.0         107\n",
       "9   2003.0          97\n",
       "10  2001.0          85\n",
       "11  2000.0          43\n",
       "12  2015.0          38\n",
       "13  2016.0          34\n",
       "14  2012.0          26\n",
       "15  2014.0          21\n",
       "16  2013.0          15\n",
       "17  1999.0           8\n",
       "18  1997.0           1"
      ]
     },
     "execution_count": 32,
     "metadata": {},
     "output_type": "execute_result"
    }
   ],
   "source": [
    "data[['year', 'user_score']].query('user_score==\"tbd\"').groupby('year').count().sort_values(by='user_score', ascending=False).reset_index()"
   ]
  },
  {
   "cell_type": "code",
   "execution_count": 33,
   "metadata": {},
   "outputs": [
    {
     "name": "stdout",
     "output_type": "stream",
     "text": [
      "Percentage of \"tbd\" values in user score: 14.4%\n"
     ]
    }
   ],
   "source": [
    "print('Percentage of \"tbd\" values in user score:', \"{:.1%}\".format(len(data[data['user_score']==\"tbd\"]) / len(data['user_score'])))"
   ]
  },
  {
   "cell_type": "code",
   "execution_count": 34,
   "metadata": {},
   "outputs": [],
   "source": [
    "data['user_score']=data['user_score'].replace('tbd', np.NaN)"
   ]
  },
  {
   "cell_type": "markdown",
   "metadata": {},
   "source": [
    "We have games with 'tbd' in 'user_score' grouped by year, we see that 'tbd' is not relevant only for newest games, actually, biggest part of them are from years 2008-2010, so it would probably never be determined and we can replace 'tbd' with NaN for the purpose of calculations.\n",
    "\n",
    "14.5% is pretty big, but for now we can't do anything with it, so we'll replace them with NaN"
   ]
  },
  {
   "cell_type": "markdown",
   "metadata": {},
   "source": [
    "<a id=\"point2_5\"></a>\n",
    "#### Convert the data to the required types."
   ]
  },
  {
   "cell_type": "code",
   "execution_count": 35,
   "metadata": {},
   "outputs": [
    {
     "name": "stdout",
     "output_type": "stream",
     "text": [
      "<class 'pandas.core.frame.DataFrame'>\n",
      "Int64Index: 16578 entries, 0 to 16714\n",
      "Data columns (total 13 columns):\n",
      "name               16578 non-null object\n",
      "platform           16578 non-null object\n",
      "year_of_release    16578 non-null float64\n",
      "genre              16578 non-null object\n",
      "na_sales           16578 non-null float64\n",
      "eu_sales           16578 non-null float64\n",
      "jp_sales           16578 non-null float64\n",
      "other_sales        16578 non-null float64\n",
      "critic_score       8081 non-null float64\n",
      "user_score         7545 non-null object\n",
      "rating             9874 non-null object\n",
      "total_sales        16578 non-null float64\n",
      "year               16578 non-null float64\n",
      "dtypes: float64(8), object(5)\n",
      "memory usage: 1.8+ MB\n"
     ]
    }
   ],
   "source": [
    "data.info()"
   ]
  },
  {
   "cell_type": "code",
   "execution_count": 36,
   "metadata": {},
   "outputs": [],
   "source": [
    "data['year']=data['year'].astype(int)"
   ]
  },
  {
   "cell_type": "code",
   "execution_count": 37,
   "metadata": {},
   "outputs": [],
   "source": [
    "data['user_score']=pd.to_numeric(data['user_score'], downcast='float')"
   ]
  },
  {
   "cell_type": "code",
   "execution_count": 38,
   "metadata": {
    "scrolled": true
   },
   "outputs": [
    {
     "name": "stdout",
     "output_type": "stream",
     "text": [
      "<class 'pandas.core.frame.DataFrame'>\n",
      "Int64Index: 16578 entries, 0 to 16714\n",
      "Data columns (total 13 columns):\n",
      "name               16578 non-null object\n",
      "platform           16578 non-null object\n",
      "year_of_release    16578 non-null float64\n",
      "genre              16578 non-null object\n",
      "na_sales           16578 non-null float64\n",
      "eu_sales           16578 non-null float64\n",
      "jp_sales           16578 non-null float64\n",
      "other_sales        16578 non-null float64\n",
      "critic_score       8081 non-null float64\n",
      "user_score         7545 non-null float32\n",
      "rating             9874 non-null object\n",
      "total_sales        16578 non-null float64\n",
      "year               16578 non-null int64\n",
      "dtypes: float32(1), float64(7), int64(1), object(4)\n",
      "memory usage: 1.7+ MB\n"
     ]
    }
   ],
   "source": [
    "data.info()"
   ]
  },
  {
   "cell_type": "markdown",
   "metadata": {},
   "source": [
    "### Analyze the data"
   ]
  },
  {
   "cell_type": "markdown",
   "metadata": {},
   "source": [
    "<a id=\"point3_1\"></a>\n",
    "#### Look at how many games were released in different years. Is the data for every period significant?"
   ]
  },
  {
   "cell_type": "code",
   "execution_count": 39,
   "metadata": {},
   "outputs": [
    {
     "data": {
      "image/png": "[encoded data removed]",
      "text/plain": [
       "<Figure size 1152x720 with 1 Axes>"
      ]
     },
     "metadata": {
      "needs_background": "light"
     },
     "output_type": "display_data"
    }
   ],
   "source": [
    "# Lollipop Chart\n",
    "\n",
    "df1 = data[['year', 'name']].groupby('year').count().sort_values(by='year').reset_index()\n",
    "\n",
    "fig, ax = plt.subplots(figsize=(16,10))   \n",
    "ax.vlines(x=df1.year, ymin=0, ymax=df1.name, color='orange', alpha=0.7, linewidth=2)\n",
    "ax.scatter(x=df1.year, y=df1.name, s=75, color='red', alpha=0.7)\n",
    "\n",
    "ax.set_title('Lollipop Chart for Released Games', fontdict={'size':18})\n",
    "ax.set_ylabel('Number of Games')\n",
    "ax.set_xticks(df1.year)\n",
    "ax.set_xticklabels(df1.year, rotation=90, fontdict={'horizontalalignment': 'right', 'size':12})\n",
    "\n",
    "for row in df1.itertuples():\n",
    "    ax.text(row.year, row.name+20, s=round(row.name, 2), horizontalalignment= 'center', fontsize=10)\n",
    "\n",
    "plt.show()"
   ]
  },
  {
   "cell_type": "markdown",
   "metadata": {},
   "source": [
    "As for number of games released - up till 1994 number is unsignificant (less than 100 games a year), in period 1995-2000 we have 220-350 games a year), in period 2001-2004 number is from 482 to 796 games a year), 2005-2011 has the biggest numbers (with peak at 2008-2009 with 1426-1524 games a year) ranging from 939 to 1136 games a year. From 2012 we see a drop with number of games from 502 to 653.\n",
    "\n",
    "So depending on this graph we can say that period before 1995 is not significant at all, and period of 1995-2000 is not that significant."
   ]
  },
  {
   "cell_type": "markdown",
   "metadata": {},
   "source": [
    "<a id=\"point3_2\"></a>\n",
    "#### Look at how sales varied from platform to platform. \n",
    "#### Choose the platforms with the greatest total sales and build a distribution based on data for each year. \n",
    "#### Find platforms that used to be popular but now have zero sales. How long does it generally take for new platforms to appear and old ones to fade?"
   ]
  },
  {
   "cell_type": "code",
   "execution_count": 40,
   "metadata": {},
   "outputs": [
    {
     "data": {
      "text/html": [
       "<div>\n",
       "<style scoped>\n",
       "    .dataframe tbody tr th:only-of-type {\n",
       "        vertical-align: middle;\n",
       "    }\n",
       "\n",
       "    .dataframe tbody tr th {\n",
       "        vertical-align: top;\n",
       "    }\n",
       "\n",
       "    .dataframe thead th {\n",
       "        text-align: right;\n",
       "    }\n",
       "</style>\n",
       "<table border=\"1\" class=\"dataframe\">\n",
       "  <thead>\n",
       "    <tr style=\"text-align: right;\">\n",
       "      <th></th>\n",
       "      <th>platform</th>\n",
       "      <th>total_sales</th>\n",
       "    </tr>\n",
       "  </thead>\n",
       "  <tbody>\n",
       "    <tr>\n",
       "      <td>0</td>\n",
       "      <td>PS2</td>\n",
       "      <td>1251.28</td>\n",
       "    </tr>\n",
       "    <tr>\n",
       "      <td>1</td>\n",
       "      <td>X360</td>\n",
       "      <td>969.08</td>\n",
       "    </tr>\n",
       "    <tr>\n",
       "      <td>2</td>\n",
       "      <td>PS3</td>\n",
       "      <td>936.81</td>\n",
       "    </tr>\n",
       "    <tr>\n",
       "      <td>3</td>\n",
       "      <td>Wii</td>\n",
       "      <td>905.40</td>\n",
       "    </tr>\n",
       "    <tr>\n",
       "      <td>4</td>\n",
       "      <td>DS</td>\n",
       "      <td>804.28</td>\n",
       "    </tr>\n",
       "    <tr>\n",
       "      <td>5</td>\n",
       "      <td>PS</td>\n",
       "      <td>730.09</td>\n",
       "    </tr>\n",
       "    <tr>\n",
       "      <td>6</td>\n",
       "      <td>GBA</td>\n",
       "      <td>316.13</td>\n",
       "    </tr>\n",
       "  </tbody>\n",
       "</table>\n",
       "</div>"
      ],
      "text/plain": [
       "  platform  total_sales\n",
       "0      PS2      1251.28\n",
       "1     X360       969.08\n",
       "2      PS3       936.81\n",
       "3      Wii       905.40\n",
       "4       DS       804.28\n",
       "5       PS       730.09\n",
       "6      GBA       316.13"
      ]
     },
     "execution_count": 40,
     "metadata": {},
     "output_type": "execute_result"
    }
   ],
   "source": [
    "top_platforms = data[['platform', 'total_sales']].pivot_table(index='platform', values='total_sales', aggfunc='sum').sort_values(by='total_sales', ascending=False).reset_index()\n",
    "top_platforms = top_platforms[0:7]\n",
    "top_platforms"
   ]
  },
  {
   "cell_type": "code",
   "execution_count": 41,
   "metadata": {},
   "outputs": [
    {
     "data": {
      "image/png": "[encoded data removed]",
      "text/plain": [
       "<Figure size 1152x576 with 1 Axes>"
      ]
     },
     "metadata": {
      "needs_background": "light"
     },
     "output_type": "display_data"
    }
   ],
   "source": [
    "plt.subplots(figsize=(16,8))\n",
    "\n",
    "sns.distplot(data.loc[data.platform=='PS2', \"year\"] , color=\"dodgerblue\", label=\"PS2\")\n",
    "sns.distplot(data.loc[data.platform=='X360', \"year\"] , color=\"red\", label=\"X360\")\n",
    "sns.distplot(data.loc[data.platform=='PS3', \"year\"] , color=\"purple\", label=\"PS3\")\n",
    "sns.distplot(data.loc[data.platform=='Wii', \"year\"] , color=\"gold\", label=\"Wii\")\n",
    "sns.distplot(data.loc[data.platform=='DS', \"year\"] , color=\"green\", label=\"DS\")\n",
    "sns.distplot(data.loc[data.platform=='PS', \"year\"] , color=\"blue\", label=\"PS\")\n",
    "sns.distplot(data.loc[data.platform=='GBA', \"year\"] , color=\"olive\", label=\"GBA\")\n",
    "\n",
    "plt.title('Distribution Over Years Histogram for Top Platforms', fontdict={'size':18})\n",
    "plt.legend()\n",
    "plt.show()"
   ]
  },
  {
   "cell_type": "markdown",
   "metadata": {},
   "source": [
    "On this graph we see that the oldest platform from top7 is PS (was popular in 1994-2002), then comes PS2 (popular in 1999-2010), then we have GBA (popular in 2000-2017), DS (popular in 2004-2012), X360 (popular in 2005-2015), PS3 (2006-2016) and the newest one is Wii (popular in 2006-2012).\n",
    "\n",
    "Basically exept for X360, PS3 and Wii, other platforms have zero sales for now. PS and PS2 were oldest versions of PS3, and GBA is \"the oldest\" version of DS.\n",
    "\n",
    "On average, we see that it takes around 7-8 years to appear and fade."
   ]
  },
  {
   "cell_type": "markdown",
   "metadata": {},
   "source": [
    "<a id=\"point3_3\"></a>\n",
    "#### Determine what period you should take data for. To do so, look at your answers to the previous questions. The data should allow you to build a prognosis for 2017.\n",
    "#### Work only with the data that you've decided is relevant. Disregard the data for previous years."
   ]
  },
  {
   "cell_type": "markdown",
   "metadata": {},
   "source": [
    "Looking at two previous graphs we decide to work only with data from 2010, so we will discard all the data from years before."
   ]
  },
  {
   "cell_type": "code",
   "execution_count": 42,
   "metadata": {},
   "outputs": [
    {
     "data": {
      "text/html": [
       "<div>\n",
       "<style scoped>\n",
       "    .dataframe tbody tr th:only-of-type {\n",
       "        vertical-align: middle;\n",
       "    }\n",
       "\n",
       "    .dataframe tbody tr th {\n",
       "        vertical-align: top;\n",
       "    }\n",
       "\n",
       "    .dataframe thead th {\n",
       "        text-align: right;\n",
       "    }\n",
       "</style>\n",
       "<table border=\"1\" class=\"dataframe\">\n",
       "  <thead>\n",
       "    <tr style=\"text-align: right;\">\n",
       "      <th></th>\n",
       "      <th>name</th>\n",
       "      <th>platform</th>\n",
       "      <th>year_of_release</th>\n",
       "      <th>genre</th>\n",
       "      <th>na_sales</th>\n",
       "      <th>eu_sales</th>\n",
       "      <th>jp_sales</th>\n",
       "      <th>other_sales</th>\n",
       "      <th>critic_score</th>\n",
       "      <th>user_score</th>\n",
       "      <th>rating</th>\n",
       "      <th>total_sales</th>\n",
       "      <th>year</th>\n",
       "    </tr>\n",
       "  </thead>\n",
       "  <tbody>\n",
       "    <tr>\n",
       "      <td>2126</td>\n",
       "      <td>Mass Effect 3</td>\n",
       "      <td>PC</td>\n",
       "      <td>2012.0</td>\n",
       "      <td>Role-Playing</td>\n",
       "      <td>0.40</td>\n",
       "      <td>0.44</td>\n",
       "      <td>0.00</td>\n",
       "      <td>0.12</td>\n",
       "      <td>89.0</td>\n",
       "      <td>5.5</td>\n",
       "      <td>M</td>\n",
       "      <td>0.96</td>\n",
       "      <td>2012</td>\n",
       "    </tr>\n",
       "    <tr>\n",
       "      <td>10777</td>\n",
       "      <td>Shovel Knight</td>\n",
       "      <td>WiiU</td>\n",
       "      <td>2015.0</td>\n",
       "      <td>Platform</td>\n",
       "      <td>0.05</td>\n",
       "      <td>0.04</td>\n",
       "      <td>0.00</td>\n",
       "      <td>0.01</td>\n",
       "      <td>88.0</td>\n",
       "      <td>8.3</td>\n",
       "      <td>E</td>\n",
       "      <td>0.10</td>\n",
       "      <td>2015</td>\n",
       "    </tr>\n",
       "    <tr>\n",
       "      <td>4706</td>\n",
       "      <td>Call of Duty: Black Ops II</td>\n",
       "      <td>WiiU</td>\n",
       "      <td>2012.0</td>\n",
       "      <td>Shooter</td>\n",
       "      <td>0.20</td>\n",
       "      <td>0.18</td>\n",
       "      <td>0.00</td>\n",
       "      <td>0.03</td>\n",
       "      <td>81.0</td>\n",
       "      <td>6.9</td>\n",
       "      <td>M</td>\n",
       "      <td>0.41</td>\n",
       "      <td>2012</td>\n",
       "    </tr>\n",
       "    <tr>\n",
       "      <td>2760</td>\n",
       "      <td>[Prototype 2]</td>\n",
       "      <td>PS3</td>\n",
       "      <td>2012.0</td>\n",
       "      <td>Action</td>\n",
       "      <td>0.36</td>\n",
       "      <td>0.28</td>\n",
       "      <td>0.00</td>\n",
       "      <td>0.10</td>\n",
       "      <td>79.0</td>\n",
       "      <td>6.8</td>\n",
       "      <td>M</td>\n",
       "      <td>0.74</td>\n",
       "      <td>2012</td>\n",
       "    </tr>\n",
       "    <tr>\n",
       "      <td>3157</td>\n",
       "      <td>Dishonored 2</td>\n",
       "      <td>PS4</td>\n",
       "      <td>2016.0</td>\n",
       "      <td>Action</td>\n",
       "      <td>0.22</td>\n",
       "      <td>0.32</td>\n",
       "      <td>0.00</td>\n",
       "      <td>0.10</td>\n",
       "      <td>88.0</td>\n",
       "      <td>7.7</td>\n",
       "      <td>M</td>\n",
       "      <td>0.64</td>\n",
       "      <td>2016</td>\n",
       "    </tr>\n",
       "    <tr>\n",
       "      <td>13311</td>\n",
       "      <td>Rock Band Country Track Pack 2</td>\n",
       "      <td>X360</td>\n",
       "      <td>2011.0</td>\n",
       "      <td>Misc</td>\n",
       "      <td>0.04</td>\n",
       "      <td>0.00</td>\n",
       "      <td>0.00</td>\n",
       "      <td>0.00</td>\n",
       "      <td>NaN</td>\n",
       "      <td>NaN</td>\n",
       "      <td>E10+</td>\n",
       "      <td>0.04</td>\n",
       "      <td>2011</td>\n",
       "    </tr>\n",
       "    <tr>\n",
       "      <td>9719</td>\n",
       "      <td>Lego Star Wars: The Force Awakens</td>\n",
       "      <td>3DS</td>\n",
       "      <td>2016.0</td>\n",
       "      <td>Action</td>\n",
       "      <td>0.04</td>\n",
       "      <td>0.07</td>\n",
       "      <td>0.01</td>\n",
       "      <td>0.01</td>\n",
       "      <td>NaN</td>\n",
       "      <td>7.8</td>\n",
       "      <td>E10+</td>\n",
       "      <td>0.13</td>\n",
       "      <td>2016</td>\n",
       "    </tr>\n",
       "    <tr>\n",
       "      <td>3488</td>\n",
       "      <td>Phineas and Ferb: Across the 2nd Dimension</td>\n",
       "      <td>Wii</td>\n",
       "      <td>2011.0</td>\n",
       "      <td>Action</td>\n",
       "      <td>0.35</td>\n",
       "      <td>0.18</td>\n",
       "      <td>0.00</td>\n",
       "      <td>0.05</td>\n",
       "      <td>76.0</td>\n",
       "      <td>8.3</td>\n",
       "      <td>E10+</td>\n",
       "      <td>0.58</td>\n",
       "      <td>2011</td>\n",
       "    </tr>\n",
       "    <tr>\n",
       "      <td>8198</td>\n",
       "      <td>NBA Live 16</td>\n",
       "      <td>PS4</td>\n",
       "      <td>2015.0</td>\n",
       "      <td>Sports</td>\n",
       "      <td>0.10</td>\n",
       "      <td>0.04</td>\n",
       "      <td>0.00</td>\n",
       "      <td>0.03</td>\n",
       "      <td>59.0</td>\n",
       "      <td>6.1</td>\n",
       "      <td>E</td>\n",
       "      <td>0.17</td>\n",
       "      <td>2015</td>\n",
       "    </tr>\n",
       "    <tr>\n",
       "      <td>16010</td>\n",
       "      <td>Adventure Time: The Secret of the Nameless</td>\n",
       "      <td>3DS</td>\n",
       "      <td>2014.0</td>\n",
       "      <td>Adventure</td>\n",
       "      <td>0.01</td>\n",
       "      <td>0.00</td>\n",
       "      <td>0.00</td>\n",
       "      <td>0.00</td>\n",
       "      <td>NaN</td>\n",
       "      <td>NaN</td>\n",
       "      <td>NaN</td>\n",
       "      <td>0.01</td>\n",
       "      <td>2014</td>\n",
       "    </tr>\n",
       "  </tbody>\n",
       "</table>\n",
       "</div>"
      ],
      "text/plain": [
       "                                              name platform  year_of_release  \\\n",
       "2126                                 Mass Effect 3       PC           2012.0   \n",
       "10777                                Shovel Knight     WiiU           2015.0   \n",
       "4706                    Call of Duty: Black Ops II     WiiU           2012.0   \n",
       "2760                                 [Prototype 2]      PS3           2012.0   \n",
       "3157                                  Dishonored 2      PS4           2016.0   \n",
       "13311               Rock Band Country Track Pack 2     X360           2011.0   \n",
       "9719             Lego Star Wars: The Force Awakens      3DS           2016.0   \n",
       "3488    Phineas and Ferb: Across the 2nd Dimension      Wii           2011.0   \n",
       "8198                                   NBA Live 16      PS4           2015.0   \n",
       "16010  Adventure Time: The Secret of the Nameless       3DS           2014.0   \n",
       "\n",
       "              genre  na_sales  eu_sales  jp_sales  other_sales  critic_score  \\\n",
       "2126   Role-Playing      0.40      0.44      0.00         0.12          89.0   \n",
       "10777      Platform      0.05      0.04      0.00         0.01          88.0   \n",
       "4706        Shooter      0.20      0.18      0.00         0.03          81.0   \n",
       "2760         Action      0.36      0.28      0.00         0.10          79.0   \n",
       "3157         Action      0.22      0.32      0.00         0.10          88.0   \n",
       "13311          Misc      0.04      0.00      0.00         0.00           NaN   \n",
       "9719         Action      0.04      0.07      0.01         0.01           NaN   \n",
       "3488         Action      0.35      0.18      0.00         0.05          76.0   \n",
       "8198         Sports      0.10      0.04      0.00         0.03          59.0   \n",
       "16010     Adventure      0.01      0.00      0.00         0.00           NaN   \n",
       "\n",
       "       user_score rating  total_sales  year  \n",
       "2126          5.5      M         0.96  2012  \n",
       "10777         8.3      E         0.10  2015  \n",
       "4706          6.9      M         0.41  2012  \n",
       "2760          6.8      M         0.74  2012  \n",
       "3157          7.7      M         0.64  2016  \n",
       "13311         NaN   E10+         0.04  2011  \n",
       "9719          7.8   E10+         0.13  2016  \n",
       "3488          8.3   E10+         0.58  2011  \n",
       "8198          6.1      E         0.17  2015  \n",
       "16010         NaN    NaN         0.01  2014  "
      ]
     },
     "execution_count": 42,
     "metadata": {},
     "output_type": "execute_result"
    }
   ],
   "source": [
    "new_data = data.query('year > 2010')\n",
    "new_data.sample(10)"
   ]
  },
  {
   "cell_type": "code",
   "execution_count": 43,
   "metadata": {},
   "outputs": [
    {
     "data": {
      "text/plain": [
       "4052"
      ]
     },
     "execution_count": 43,
     "metadata": {},
     "output_type": "execute_result"
    }
   ],
   "source": [
    "len(new_data)"
   ]
  },
  {
   "cell_type": "code",
   "execution_count": 44,
   "metadata": {},
   "outputs": [
    {
     "data": {
      "text/plain": [
       "name                  0\n",
       "platform              0\n",
       "year_of_release       0\n",
       "genre                 0\n",
       "na_sales              0\n",
       "eu_sales              0\n",
       "jp_sales              0\n",
       "other_sales           0\n",
       "critic_score       2223\n",
       "user_score         2004\n",
       "rating             1717\n",
       "total_sales           0\n",
       "year                  0\n",
       "dtype: int64"
      ]
     },
     "execution_count": 44,
     "metadata": {},
     "output_type": "execute_result"
    }
   ],
   "source": [
    "new_data.isna().sum()"
   ]
  },
  {
   "cell_type": "code",
   "execution_count": 45,
   "metadata": {},
   "outputs": [
    {
     "name": "stdout",
     "output_type": "stream",
     "text": [
      "Percentage of Critic Score missing in new data: 54.86%\n",
      "Percentage of User Score missing in new data: 49.46%\n",
      "Percentage of Rating missing in new data: 42.37%\n"
     ]
    }
   ],
   "source": [
    "print('Percentage of Critic Score missing in new data:', \"{:.2%}\".format(len(new_data[new_data['critic_score'].isna()]) / len(new_data['critic_score'])))\n",
    "print('Percentage of User Score missing in new data:', \"{:.2%}\".format(len(new_data[new_data['user_score'].isna()]) / len(new_data['user_score'])))\n",
    "print('Percentage of Rating missing in new data:', \"{:.2%}\".format(len(new_data[new_data['rating'].isna()]) / len(new_data['rating'])))"
   ]
  },
  {
   "cell_type": "markdown",
   "metadata": {},
   "source": [
    "Percentage of missing values in new data is still very high and we can't do anything without screwing the data, so we will work with what we have, but it still can be not representative."
   ]
  },
  {
   "cell_type": "markdown",
   "metadata": {},
   "source": [
    "<a id=\"point3_4\"></a>\n",
    "#### Which platforms are leading in sales? Which ones are growing or shrinking? Select several potentially profitable platforms."
   ]
  },
  {
   "cell_type": "code",
   "execution_count": 46,
   "metadata": {},
   "outputs": [
    {
     "data": {
      "text/html": [
       "<div>\n",
       "<style scoped>\n",
       "    .dataframe tbody tr th:only-of-type {\n",
       "        vertical-align: middle;\n",
       "    }\n",
       "\n",
       "    .dataframe tbody tr th {\n",
       "        vertical-align: top;\n",
       "    }\n",
       "\n",
       "    .dataframe thead th {\n",
       "        text-align: right;\n",
       "    }\n",
       "</style>\n",
       "<table border=\"1\" class=\"dataframe\">\n",
       "  <thead>\n",
       "    <tr style=\"text-align: right;\">\n",
       "      <th>platform</th>\n",
       "      <th>year</th>\n",
       "      <th>3DS</th>\n",
       "      <th>DS</th>\n",
       "      <th>PC</th>\n",
       "      <th>PS2</th>\n",
       "      <th>PS3</th>\n",
       "      <th>PS4</th>\n",
       "      <th>PSP</th>\n",
       "      <th>PSV</th>\n",
       "      <th>Wii</th>\n",
       "      <th>WiiU</th>\n",
       "      <th>X360</th>\n",
       "      <th>XOne</th>\n",
       "    </tr>\n",
       "  </thead>\n",
       "  <tbody>\n",
       "    <tr>\n",
       "      <td>0</td>\n",
       "      <td>2011</td>\n",
       "      <td>63.20</td>\n",
       "      <td>26.33</td>\n",
       "      <td>35.16</td>\n",
       "      <td>0.45</td>\n",
       "      <td>157.98</td>\n",
       "      <td>0.00</td>\n",
       "      <td>17.82</td>\n",
       "      <td>4.63</td>\n",
       "      <td>59.79</td>\n",
       "      <td>0.00</td>\n",
       "      <td>145.23</td>\n",
       "      <td>0.00</td>\n",
       "    </tr>\n",
       "    <tr>\n",
       "      <td>1</td>\n",
       "      <td>2012</td>\n",
       "      <td>51.76</td>\n",
       "      <td>11.67</td>\n",
       "      <td>23.45</td>\n",
       "      <td>0.00</td>\n",
       "      <td>108.28</td>\n",
       "      <td>0.00</td>\n",
       "      <td>7.95</td>\n",
       "      <td>16.19</td>\n",
       "      <td>22.94</td>\n",
       "      <td>17.56</td>\n",
       "      <td>100.72</td>\n",
       "      <td>0.00</td>\n",
       "    </tr>\n",
       "    <tr>\n",
       "      <td>2</td>\n",
       "      <td>2013</td>\n",
       "      <td>56.57</td>\n",
       "      <td>1.54</td>\n",
       "      <td>13.01</td>\n",
       "      <td>0.00</td>\n",
       "      <td>113.25</td>\n",
       "      <td>25.99</td>\n",
       "      <td>3.38</td>\n",
       "      <td>10.59</td>\n",
       "      <td>8.59</td>\n",
       "      <td>21.65</td>\n",
       "      <td>88.58</td>\n",
       "      <td>18.96</td>\n",
       "    </tr>\n",
       "    <tr>\n",
       "      <td>3</td>\n",
       "      <td>2014</td>\n",
       "      <td>43.76</td>\n",
       "      <td>0.00</td>\n",
       "      <td>13.28</td>\n",
       "      <td>0.00</td>\n",
       "      <td>47.76</td>\n",
       "      <td>100.00</td>\n",
       "      <td>0.24</td>\n",
       "      <td>11.90</td>\n",
       "      <td>3.75</td>\n",
       "      <td>22.03</td>\n",
       "      <td>34.74</td>\n",
       "      <td>54.07</td>\n",
       "    </tr>\n",
       "    <tr>\n",
       "      <td>4</td>\n",
       "      <td>2015</td>\n",
       "      <td>27.78</td>\n",
       "      <td>0.00</td>\n",
       "      <td>8.52</td>\n",
       "      <td>0.00</td>\n",
       "      <td>16.82</td>\n",
       "      <td>118.90</td>\n",
       "      <td>0.12</td>\n",
       "      <td>6.25</td>\n",
       "      <td>1.14</td>\n",
       "      <td>16.35</td>\n",
       "      <td>11.96</td>\n",
       "      <td>60.14</td>\n",
       "    </tr>\n",
       "    <tr>\n",
       "      <td>5</td>\n",
       "      <td>2016</td>\n",
       "      <td>15.14</td>\n",
       "      <td>0.00</td>\n",
       "      <td>5.25</td>\n",
       "      <td>0.00</td>\n",
       "      <td>3.60</td>\n",
       "      <td>69.25</td>\n",
       "      <td>0.00</td>\n",
       "      <td>4.25</td>\n",
       "      <td>0.18</td>\n",
       "      <td>4.60</td>\n",
       "      <td>1.52</td>\n",
       "      <td>26.15</td>\n",
       "    </tr>\n",
       "  </tbody>\n",
       "</table>\n",
       "</div>"
      ],
      "text/plain": [
       "platform  year    3DS     DS     PC   PS2     PS3     PS4    PSP    PSV  \\\n",
       "0         2011  63.20  26.33  35.16  0.45  157.98    0.00  17.82   4.63   \n",
       "1         2012  51.76  11.67  23.45  0.00  108.28    0.00   7.95  16.19   \n",
       "2         2013  56.57   1.54  13.01  0.00  113.25   25.99   3.38  10.59   \n",
       "3         2014  43.76   0.00  13.28  0.00   47.76  100.00   0.24  11.90   \n",
       "4         2015  27.78   0.00   8.52  0.00   16.82  118.90   0.12   6.25   \n",
       "5         2016  15.14   0.00   5.25  0.00    3.60   69.25   0.00   4.25   \n",
       "\n",
       "platform    Wii   WiiU    X360   XOne  \n",
       "0         59.79   0.00  145.23   0.00  \n",
       "1         22.94  17.56  100.72   0.00  \n",
       "2          8.59  21.65   88.58  18.96  \n",
       "3          3.75  22.03   34.74  54.07  \n",
       "4          1.14  16.35   11.96  60.14  \n",
       "5          0.18   4.60    1.52  26.15  "
      ]
     },
     "execution_count": 46,
     "metadata": {},
     "output_type": "execute_result"
    }
   ],
   "source": [
    "df2 = new_data.pivot_table(index='year', columns='platform', values='total_sales', aggfunc='sum').fillna(0).reset_index()\n",
    "df2"
   ]
  },
  {
   "cell_type": "code",
   "execution_count": 47,
   "metadata": {},
   "outputs": [
    {
     "data": {
      "text/html": [
       "<div>\n",
       "<style scoped>\n",
       "    .dataframe tbody tr th:only-of-type {\n",
       "        vertical-align: middle;\n",
       "    }\n",
       "\n",
       "    .dataframe tbody tr th {\n",
       "        vertical-align: top;\n",
       "    }\n",
       "\n",
       "    .dataframe thead th {\n",
       "        text-align: right;\n",
       "    }\n",
       "</style>\n",
       "<table border=\"1\" class=\"dataframe\">\n",
       "  <thead>\n",
       "    <tr style=\"text-align: right;\">\n",
       "      <th>platform</th>\n",
       "      <th>year</th>\n",
       "      <th>3DS</th>\n",
       "      <th>DS</th>\n",
       "      <th>PC</th>\n",
       "      <th>PS2</th>\n",
       "      <th>PS3</th>\n",
       "      <th>PS4</th>\n",
       "      <th>PSP</th>\n",
       "      <th>PSV</th>\n",
       "      <th>Wii</th>\n",
       "      <th>WiiU</th>\n",
       "      <th>X360</th>\n",
       "      <th>XOne</th>\n",
       "    </tr>\n",
       "  </thead>\n",
       "  <tbody>\n",
       "    <tr>\n",
       "      <td>4</td>\n",
       "      <td>2015</td>\n",
       "      <td>27.78</td>\n",
       "      <td>0.0</td>\n",
       "      <td>8.52</td>\n",
       "      <td>0.0</td>\n",
       "      <td>16.82</td>\n",
       "      <td>118.90</td>\n",
       "      <td>0.12</td>\n",
       "      <td>6.25</td>\n",
       "      <td>1.14</td>\n",
       "      <td>16.35</td>\n",
       "      <td>11.96</td>\n",
       "      <td>60.14</td>\n",
       "    </tr>\n",
       "    <tr>\n",
       "      <td>5</td>\n",
       "      <td>2016</td>\n",
       "      <td>15.14</td>\n",
       "      <td>0.0</td>\n",
       "      <td>5.25</td>\n",
       "      <td>0.0</td>\n",
       "      <td>3.60</td>\n",
       "      <td>69.25</td>\n",
       "      <td>0.00</td>\n",
       "      <td>4.25</td>\n",
       "      <td>0.18</td>\n",
       "      <td>4.60</td>\n",
       "      <td>1.52</td>\n",
       "      <td>26.15</td>\n",
       "    </tr>\n",
       "  </tbody>\n",
       "</table>\n",
       "</div>"
      ],
      "text/plain": [
       "platform  year    3DS   DS    PC  PS2    PS3     PS4   PSP   PSV   Wii   WiiU  \\\n",
       "4         2015  27.78  0.0  8.52  0.0  16.82  118.90  0.12  6.25  1.14  16.35   \n",
       "5         2016  15.14  0.0  5.25  0.0   3.60   69.25  0.00  4.25  0.18   4.60   \n",
       "\n",
       "platform   X360   XOne  \n",
       "4         11.96  60.14  \n",
       "5          1.52  26.15  "
      ]
     },
     "execution_count": 47,
     "metadata": {},
     "output_type": "execute_result"
    }
   ],
   "source": [
    "last_sales = df2[df2['year'] >= 2015]\n",
    "last_sales"
   ]
  },
  {
   "cell_type": "code",
   "execution_count": 48,
   "metadata": {},
   "outputs": [
    {
     "data": {
      "text/html": [
       "<div>\n",
       "<style scoped>\n",
       "    .dataframe tbody tr th:only-of-type {\n",
       "        vertical-align: middle;\n",
       "    }\n",
       "\n",
       "    .dataframe tbody tr th {\n",
       "        vertical-align: top;\n",
       "    }\n",
       "\n",
       "    .dataframe thead th {\n",
       "        text-align: right;\n",
       "    }\n",
       "</style>\n",
       "<table border=\"1\" class=\"dataframe\">\n",
       "  <thead>\n",
       "    <tr style=\"text-align: right;\">\n",
       "      <th></th>\n",
       "      <th>year</th>\n",
       "      <th>3DS</th>\n",
       "      <th>DS</th>\n",
       "      <th>PC</th>\n",
       "      <th>PS2</th>\n",
       "      <th>PS3</th>\n",
       "      <th>PS4</th>\n",
       "      <th>PSP</th>\n",
       "      <th>PSV</th>\n",
       "      <th>Wii</th>\n",
       "      <th>WiiU</th>\n",
       "      <th>X360</th>\n",
       "      <th>XOne</th>\n",
       "    </tr>\n",
       "  </thead>\n",
       "  <tbody>\n",
       "    <tr>\n",
       "      <td>sum</td>\n",
       "      <td>4031</td>\n",
       "      <td>42.92</td>\n",
       "      <td>0.0</td>\n",
       "      <td>13.77</td>\n",
       "      <td>0.0</td>\n",
       "      <td>20.42</td>\n",
       "      <td>188.15</td>\n",
       "      <td>0.12</td>\n",
       "      <td>10.5</td>\n",
       "      <td>1.32</td>\n",
       "      <td>20.95</td>\n",
       "      <td>13.48</td>\n",
       "      <td>86.29</td>\n",
       "    </tr>\n",
       "  </tbody>\n",
       "</table>\n",
       "</div>"
      ],
      "text/plain": [
       "     year    3DS   DS     PC  PS2    PS3     PS4   PSP   PSV   Wii   WiiU  \\\n",
       "sum  4031  42.92  0.0  13.77  0.0  20.42  188.15  0.12  10.5  1.32  20.95   \n",
       "\n",
       "      X360   XOne  \n",
       "sum  13.48  86.29  "
      ]
     },
     "execution_count": 48,
     "metadata": {},
     "output_type": "execute_result"
    }
   ],
   "source": [
    "last_sales.agg(['sum'])"
   ]
  },
  {
   "cell_type": "markdown",
   "metadata": {},
   "source": [
    "As for leading in sales platforms - data from 2016 is incomplete, so we will look at last 2 years together. The platform clearly leading in sales is PS4 with total of 188.15 millions. Second is XOne with 86.29 millions, and third is 3DS with almost 43 millions. We also have few smaller players: PS3, WiiU, X360 and PC (13.7 - 20.9 millions)."
   ]
  },
  {
   "cell_type": "code",
   "execution_count": 49,
   "metadata": {},
   "outputs": [
    {
     "data": {
      "text/html": [
       "<div>\n",
       "<style scoped>\n",
       "    .dataframe tbody tr th:only-of-type {\n",
       "        vertical-align: middle;\n",
       "    }\n",
       "\n",
       "    .dataframe tbody tr th {\n",
       "        vertical-align: top;\n",
       "    }\n",
       "\n",
       "    .dataframe thead th {\n",
       "        text-align: right;\n",
       "    }\n",
       "</style>\n",
       "<table border=\"1\" class=\"dataframe\">\n",
       "  <thead>\n",
       "    <tr style=\"text-align: right;\">\n",
       "      <th>platform</th>\n",
       "      <th>year</th>\n",
       "      <th>3DS</th>\n",
       "      <th>DS</th>\n",
       "      <th>PC</th>\n",
       "      <th>PS2</th>\n",
       "      <th>PS3</th>\n",
       "      <th>PS4</th>\n",
       "      <th>PSP</th>\n",
       "      <th>PSV</th>\n",
       "      <th>Wii</th>\n",
       "      <th>WiiU</th>\n",
       "      <th>X360</th>\n",
       "      <th>XOne</th>\n",
       "    </tr>\n",
       "  </thead>\n",
       "  <tbody>\n",
       "    <tr>\n",
       "      <td>1</td>\n",
       "      <td>1.0</td>\n",
       "      <td>-11.44</td>\n",
       "      <td>-14.66</td>\n",
       "      <td>-11.71</td>\n",
       "      <td>-0.45</td>\n",
       "      <td>-49.70</td>\n",
       "      <td>0.00</td>\n",
       "      <td>-9.87</td>\n",
       "      <td>11.56</td>\n",
       "      <td>-36.85</td>\n",
       "      <td>17.56</td>\n",
       "      <td>-44.51</td>\n",
       "      <td>0.00</td>\n",
       "    </tr>\n",
       "    <tr>\n",
       "      <td>2</td>\n",
       "      <td>1.0</td>\n",
       "      <td>4.81</td>\n",
       "      <td>-10.13</td>\n",
       "      <td>-10.44</td>\n",
       "      <td>0.00</td>\n",
       "      <td>4.97</td>\n",
       "      <td>25.99</td>\n",
       "      <td>-4.57</td>\n",
       "      <td>-5.60</td>\n",
       "      <td>-14.35</td>\n",
       "      <td>4.09</td>\n",
       "      <td>-12.14</td>\n",
       "      <td>18.96</td>\n",
       "    </tr>\n",
       "    <tr>\n",
       "      <td>3</td>\n",
       "      <td>1.0</td>\n",
       "      <td>-12.81</td>\n",
       "      <td>-1.54</td>\n",
       "      <td>0.27</td>\n",
       "      <td>0.00</td>\n",
       "      <td>-65.49</td>\n",
       "      <td>74.01</td>\n",
       "      <td>-3.14</td>\n",
       "      <td>1.31</td>\n",
       "      <td>-4.84</td>\n",
       "      <td>0.38</td>\n",
       "      <td>-53.84</td>\n",
       "      <td>35.11</td>\n",
       "    </tr>\n",
       "    <tr>\n",
       "      <td>4</td>\n",
       "      <td>1.0</td>\n",
       "      <td>-15.98</td>\n",
       "      <td>0.00</td>\n",
       "      <td>-4.76</td>\n",
       "      <td>0.00</td>\n",
       "      <td>-30.94</td>\n",
       "      <td>18.90</td>\n",
       "      <td>-0.12</td>\n",
       "      <td>-5.65</td>\n",
       "      <td>-2.61</td>\n",
       "      <td>-5.68</td>\n",
       "      <td>-22.78</td>\n",
       "      <td>6.07</td>\n",
       "    </tr>\n",
       "    <tr>\n",
       "      <td>5</td>\n",
       "      <td>1.0</td>\n",
       "      <td>-12.64</td>\n",
       "      <td>0.00</td>\n",
       "      <td>-3.27</td>\n",
       "      <td>0.00</td>\n",
       "      <td>-13.22</td>\n",
       "      <td>-49.65</td>\n",
       "      <td>-0.12</td>\n",
       "      <td>-2.00</td>\n",
       "      <td>-0.96</td>\n",
       "      <td>-11.75</td>\n",
       "      <td>-10.44</td>\n",
       "      <td>-33.99</td>\n",
       "    </tr>\n",
       "  </tbody>\n",
       "</table>\n",
       "</div>"
      ],
      "text/plain": [
       "platform  year    3DS     DS     PC   PS2    PS3    PS4   PSP    PSV    Wii  \\\n",
       "1          1.0 -11.44 -14.66 -11.71 -0.45 -49.70   0.00 -9.87  11.56 -36.85   \n",
       "2          1.0   4.81 -10.13 -10.44  0.00   4.97  25.99 -4.57  -5.60 -14.35   \n",
       "3          1.0 -12.81  -1.54   0.27  0.00 -65.49  74.01 -3.14   1.31  -4.84   \n",
       "4          1.0 -15.98   0.00  -4.76  0.00 -30.94  18.90 -0.12  -5.65  -2.61   \n",
       "5          1.0 -12.64   0.00  -3.27  0.00 -13.22 -49.65 -0.12  -2.00  -0.96   \n",
       "\n",
       "platform   WiiU   X360   XOne  \n",
       "1         17.56 -44.51   0.00  \n",
       "2          4.09 -12.14  18.96  \n",
       "3          0.38 -53.84  35.11  \n",
       "4         -5.68 -22.78   6.07  \n",
       "5        -11.75 -10.44 -33.99  "
      ]
     },
     "execution_count": 49,
     "metadata": {},
     "output_type": "execute_result"
    }
   ],
   "source": [
    "sales_changes = df2 - df2.shift(+1)\n",
    "sales_changes.tail()"
   ]
  },
  {
   "cell_type": "code",
   "execution_count": 95,
   "metadata": {},
   "outputs": [
    {
     "data": {
      "image/png": "[encoded data removed]",
      "text/plain": [
       "<Figure size 1152x576 with 2 Axes>"
      ]
     },
     "metadata": {
      "needs_background": "light"
     },
     "output_type": "display_data"
    }
   ],
   "source": [
    "plt.figure(figsize=(16,8))\n",
    "sns.heatmap(sales_changes.T, cmap='RdGy_r')\n",
    "plt.title(\"Changes in sales over platforms\")\n",
    "plt.show()"
   ]
  },
  {
   "cell_type": "markdown",
   "metadata": {},
   "source": [
    "We don't realy see growing platforms at this point, but our data from 2016 is incomplete, so that might change.\n",
    "If we look at last few years, we see that few platforms are shrinking (by shrinking I understand platform going down in sales right now, and by alredy shrinked I understand platforms that have zero sales for at least two years after success).\n",
    "\n",
    "So we see shrinking platforms such as 3DS, PS3, PSP, PSV, Wii, WiiU and X360. Some of them are still more profitable than the others, but all of them are slowly going down in sales over last years.\n",
    "\n",
    "I think that potentially profitable are the newes ones, like PS4 and XOne, because they've just started the \"lify cycle\" of the platform, and eventhough we see overall decrease in 2016, it might be because of incomplete data, so we won't focus only on this year."
   ]
  },
  {
   "cell_type": "markdown",
   "metadata": {},
   "source": [
    "<a id=\"point3_5\"></a>\n",
    "#### Build a box plot for the global sales of all games, broken down by platform. Are the differences in sales significant? What about average sales on various platforms? Describe your findings."
   ]
  },
  {
   "cell_type": "code",
   "execution_count": 51,
   "metadata": {},
   "outputs": [
    {
     "data": {
      "text/html": [
       "<div>\n",
       "<style scoped>\n",
       "    .dataframe tbody tr th:only-of-type {\n",
       "        vertical-align: middle;\n",
       "    }\n",
       "\n",
       "    .dataframe tbody tr th {\n",
       "        vertical-align: top;\n",
       "    }\n",
       "\n",
       "    .dataframe thead th {\n",
       "        text-align: right;\n",
       "    }\n",
       "</style>\n",
       "<table border=\"1\" class=\"dataframe\">\n",
       "  <thead>\n",
       "    <tr style=\"text-align: right;\">\n",
       "      <th></th>\n",
       "      <th>platform</th>\n",
       "      <th>year_of_release</th>\n",
       "      <th>total_sales</th>\n",
       "    </tr>\n",
       "  </thead>\n",
       "  <tbody>\n",
       "    <tr>\n",
       "      <td>0</td>\n",
       "      <td>3DS</td>\n",
       "      <td>0.0</td>\n",
       "      <td>0.40</td>\n",
       "    </tr>\n",
       "    <tr>\n",
       "      <td>1</td>\n",
       "      <td>3DS</td>\n",
       "      <td>2011.0</td>\n",
       "      <td>63.20</td>\n",
       "    </tr>\n",
       "    <tr>\n",
       "      <td>2</td>\n",
       "      <td>3DS</td>\n",
       "      <td>2012.0</td>\n",
       "      <td>51.36</td>\n",
       "    </tr>\n",
       "    <tr>\n",
       "      <td>3</td>\n",
       "      <td>3DS</td>\n",
       "      <td>2013.0</td>\n",
       "      <td>56.57</td>\n",
       "    </tr>\n",
       "    <tr>\n",
       "      <td>4</td>\n",
       "      <td>3DS</td>\n",
       "      <td>2014.0</td>\n",
       "      <td>43.76</td>\n",
       "    </tr>\n",
       "    <tr>\n",
       "      <td>...</td>\n",
       "      <td>...</td>\n",
       "      <td>...</td>\n",
       "      <td>...</td>\n",
       "    </tr>\n",
       "    <tr>\n",
       "      <td>60</td>\n",
       "      <td>X360</td>\n",
       "      <td>2016.0</td>\n",
       "      <td>1.52</td>\n",
       "    </tr>\n",
       "    <tr>\n",
       "      <td>61</td>\n",
       "      <td>XOne</td>\n",
       "      <td>2013.0</td>\n",
       "      <td>18.96</td>\n",
       "    </tr>\n",
       "    <tr>\n",
       "      <td>62</td>\n",
       "      <td>XOne</td>\n",
       "      <td>2014.0</td>\n",
       "      <td>54.07</td>\n",
       "    </tr>\n",
       "    <tr>\n",
       "      <td>63</td>\n",
       "      <td>XOne</td>\n",
       "      <td>2015.0</td>\n",
       "      <td>60.14</td>\n",
       "    </tr>\n",
       "    <tr>\n",
       "      <td>64</td>\n",
       "      <td>XOne</td>\n",
       "      <td>2016.0</td>\n",
       "      <td>26.15</td>\n",
       "    </tr>\n",
       "  </tbody>\n",
       "</table>\n",
       "<p>65 rows × 3 columns</p>\n",
       "</div>"
      ],
      "text/plain": [
       "   platform  year_of_release  total_sales\n",
       "0       3DS              0.0         0.40\n",
       "1       3DS           2011.0        63.20\n",
       "2       3DS           2012.0        51.36\n",
       "3       3DS           2013.0        56.57\n",
       "4       3DS           2014.0        43.76\n",
       "..      ...              ...          ...\n",
       "60     X360           2016.0         1.52\n",
       "61     XOne           2013.0        18.96\n",
       "62     XOne           2014.0        54.07\n",
       "63     XOne           2015.0        60.14\n",
       "64     XOne           2016.0        26.15\n",
       "\n",
       "[65 rows x 3 columns]"
      ]
     },
     "execution_count": 51,
     "metadata": {},
     "output_type": "execute_result"
    }
   ],
   "source": [
    "df3 = new_data.pivot_table(index=['platform', 'year_of_release'], values=['total_sales'], aggfunc='sum').reset_index()\n",
    "df3"
   ]
  },
  {
   "cell_type": "code",
   "execution_count": 52,
   "metadata": {},
   "outputs": [
    {
     "data": {
      "text/plain": [
       "3      PS2\n",
       "6      PSP\n",
       "1       DS\n",
       "7      PSV\n",
       "9     WiiU\n",
       "8      Wii\n",
       "2       PC\n",
       "11    XOne\n",
       "0      3DS\n",
       "5      PS4\n",
       "10    X360\n",
       "4      PS3\n",
       "Name: platform, dtype: object"
      ]
     },
     "execution_count": 52,
     "metadata": {},
     "output_type": "execute_result"
    }
   ],
   "source": [
    "order = df3.pivot_table(index = ['platform'], values=['total_sales'], aggfunc='sum').reset_index().sort_values(by=['total_sales'])['platform']\n",
    "order"
   ]
  },
  {
   "cell_type": "code",
   "execution_count": 96,
   "metadata": {},
   "outputs": [
    {
     "data": {
      "image/png": "[encoded data removed]",
      "text/plain": [
       "<Figure size 1080x648 with 1 Axes>"
      ]
     },
     "metadata": {
      "needs_background": "light"
     },
     "output_type": "display_data"
    }
   ],
   "source": [
    "plt.figure(figsize=(15,9))\n",
    "\n",
    "sns.boxplot(x='platform', y='total_sales', data=df3, order=order, palette='Spectral')\n",
    "plt.title(\"Global games sales by platform\")\n",
    "\n",
    "plt.show()"
   ]
  },
  {
   "cell_type": "markdown",
   "metadata": {},
   "source": [
    "The differences in sales are obviously significant, with few huge players on one side, platforms with smaller sales in the middle, and tiny platforms with low sales on the other side. \n",
    "Looking on average sales, we see that distribution is uneven in most cases, biggest platforms have bigger outliers. It's also interesting to compare platforms of same company but different generations: for example, we see that PS2 was more successfull, than PS3, although average sales of PS3 were a little higher.\n",
    "Wii stands out with pretty low average sales, but according to distribution we see that the platform was very successfull in the past."
   ]
  },
  {
   "cell_type": "markdown",
   "metadata": {},
   "source": [
    "<a id=\"point3_6\"></a>\n",
    "#### Take a look at how user and professional reviews affect sales for one popular platform (you choose). Build a scatter plot and calculate the correlation between reviews and sales. Draw conclusions."
   ]
  },
  {
   "cell_type": "code",
   "execution_count": 54,
   "metadata": {},
   "outputs": [
    {
     "data": {
      "text/html": [
       "<div>\n",
       "<style scoped>\n",
       "    .dataframe tbody tr th:only-of-type {\n",
       "        vertical-align: middle;\n",
       "    }\n",
       "\n",
       "    .dataframe tbody tr th {\n",
       "        vertical-align: top;\n",
       "    }\n",
       "\n",
       "    .dataframe thead th {\n",
       "        text-align: right;\n",
       "    }\n",
       "</style>\n",
       "<table border=\"1\" class=\"dataframe\">\n",
       "  <thead>\n",
       "    <tr style=\"text-align: right;\">\n",
       "      <th></th>\n",
       "      <th>name</th>\n",
       "      <th>platform</th>\n",
       "      <th>year_of_release</th>\n",
       "      <th>genre</th>\n",
       "      <th>na_sales</th>\n",
       "      <th>eu_sales</th>\n",
       "      <th>jp_sales</th>\n",
       "      <th>other_sales</th>\n",
       "      <th>critic_score</th>\n",
       "      <th>user_score</th>\n",
       "      <th>rating</th>\n",
       "      <th>total_sales</th>\n",
       "      <th>year</th>\n",
       "    </tr>\n",
       "  </thead>\n",
       "  <tbody>\n",
       "    <tr>\n",
       "      <td>23</td>\n",
       "      <td>Grand Theft Auto V</td>\n",
       "      <td>X360</td>\n",
       "      <td>2013.0</td>\n",
       "      <td>Action</td>\n",
       "      <td>9.66</td>\n",
       "      <td>5.14</td>\n",
       "      <td>0.06</td>\n",
       "      <td>1.41</td>\n",
       "      <td>97.0</td>\n",
       "      <td>8.1</td>\n",
       "      <td>M</td>\n",
       "      <td>16.27</td>\n",
       "      <td>2013</td>\n",
       "    </tr>\n",
       "    <tr>\n",
       "      <td>29</td>\n",
       "      <td>Call of Duty: Modern Warfare 3</td>\n",
       "      <td>X360</td>\n",
       "      <td>2011.0</td>\n",
       "      <td>Shooter</td>\n",
       "      <td>9.04</td>\n",
       "      <td>4.24</td>\n",
       "      <td>0.13</td>\n",
       "      <td>1.32</td>\n",
       "      <td>88.0</td>\n",
       "      <td>3.4</td>\n",
       "      <td>M</td>\n",
       "      <td>14.73</td>\n",
       "      <td>2011</td>\n",
       "    </tr>\n",
       "    <tr>\n",
       "      <td>35</td>\n",
       "      <td>Call of Duty: Black Ops II</td>\n",
       "      <td>X360</td>\n",
       "      <td>2012.0</td>\n",
       "      <td>Shooter</td>\n",
       "      <td>8.25</td>\n",
       "      <td>4.24</td>\n",
       "      <td>0.07</td>\n",
       "      <td>1.12</td>\n",
       "      <td>83.0</td>\n",
       "      <td>4.8</td>\n",
       "      <td>M</td>\n",
       "      <td>13.68</td>\n",
       "      <td>2012</td>\n",
       "    </tr>\n",
       "    <tr>\n",
       "      <td>60</td>\n",
       "      <td>Call of Duty: Ghosts</td>\n",
       "      <td>X360</td>\n",
       "      <td>2013.0</td>\n",
       "      <td>Shooter</td>\n",
       "      <td>6.73</td>\n",
       "      <td>2.56</td>\n",
       "      <td>0.04</td>\n",
       "      <td>0.91</td>\n",
       "      <td>73.0</td>\n",
       "      <td>2.6</td>\n",
       "      <td>M</td>\n",
       "      <td>10.24</td>\n",
       "      <td>2013</td>\n",
       "    </tr>\n",
       "    <tr>\n",
       "      <td>66</td>\n",
       "      <td>Halo 4</td>\n",
       "      <td>X360</td>\n",
       "      <td>2012.0</td>\n",
       "      <td>Shooter</td>\n",
       "      <td>6.65</td>\n",
       "      <td>2.28</td>\n",
       "      <td>0.04</td>\n",
       "      <td>0.74</td>\n",
       "      <td>87.0</td>\n",
       "      <td>7.0</td>\n",
       "      <td>M</td>\n",
       "      <td>9.71</td>\n",
       "      <td>2012</td>\n",
       "    </tr>\n",
       "    <tr>\n",
       "      <td>...</td>\n",
       "      <td>...</td>\n",
       "      <td>...</td>\n",
       "      <td>...</td>\n",
       "      <td>...</td>\n",
       "      <td>...</td>\n",
       "      <td>...</td>\n",
       "      <td>...</td>\n",
       "      <td>...</td>\n",
       "      <td>...</td>\n",
       "      <td>...</td>\n",
       "      <td>...</td>\n",
       "      <td>...</td>\n",
       "      <td>...</td>\n",
       "    </tr>\n",
       "    <tr>\n",
       "      <td>16540</td>\n",
       "      <td>Bullet Soul: Tama Tamashii</td>\n",
       "      <td>X360</td>\n",
       "      <td>2011.0</td>\n",
       "      <td>Shooter</td>\n",
       "      <td>0.00</td>\n",
       "      <td>0.00</td>\n",
       "      <td>0.01</td>\n",
       "      <td>0.00</td>\n",
       "      <td>NaN</td>\n",
       "      <td>NaN</td>\n",
       "      <td>NaN</td>\n",
       "      <td>0.01</td>\n",
       "      <td>2011</td>\n",
       "    </tr>\n",
       "    <tr>\n",
       "      <td>16576</td>\n",
       "      <td>DoDonPachi Daifukkatsu: Black Label</td>\n",
       "      <td>X360</td>\n",
       "      <td>2011.0</td>\n",
       "      <td>Shooter</td>\n",
       "      <td>0.00</td>\n",
       "      <td>0.00</td>\n",
       "      <td>0.01</td>\n",
       "      <td>0.00</td>\n",
       "      <td>NaN</td>\n",
       "      <td>NaN</td>\n",
       "      <td>NaN</td>\n",
       "      <td>0.01</td>\n",
       "      <td>2011</td>\n",
       "    </tr>\n",
       "    <tr>\n",
       "      <td>16613</td>\n",
       "      <td>Dragon Ball Z for Kinect</td>\n",
       "      <td>X360</td>\n",
       "      <td>2012.0</td>\n",
       "      <td>Fighting</td>\n",
       "      <td>0.01</td>\n",
       "      <td>0.00</td>\n",
       "      <td>0.00</td>\n",
       "      <td>0.00</td>\n",
       "      <td>49.0</td>\n",
       "      <td>2.1</td>\n",
       "      <td>T</td>\n",
       "      <td>0.01</td>\n",
       "      <td>2012</td>\n",
       "    </tr>\n",
       "    <tr>\n",
       "      <td>16647</td>\n",
       "      <td>Metal Gear Solid HD Edition</td>\n",
       "      <td>X360</td>\n",
       "      <td>2011.0</td>\n",
       "      <td>Action</td>\n",
       "      <td>0.00</td>\n",
       "      <td>0.00</td>\n",
       "      <td>0.01</td>\n",
       "      <td>0.00</td>\n",
       "      <td>NaN</td>\n",
       "      <td>NaN</td>\n",
       "      <td>M</td>\n",
       "      <td>0.01</td>\n",
       "      <td>2011</td>\n",
       "    </tr>\n",
       "    <tr>\n",
       "      <td>16654</td>\n",
       "      <td>Ben 10 Omniverse 2</td>\n",
       "      <td>X360</td>\n",
       "      <td>2013.0</td>\n",
       "      <td>Action</td>\n",
       "      <td>0.00</td>\n",
       "      <td>0.01</td>\n",
       "      <td>0.00</td>\n",
       "      <td>0.00</td>\n",
       "      <td>NaN</td>\n",
       "      <td>5.1</td>\n",
       "      <td>E10+</td>\n",
       "      <td>0.01</td>\n",
       "      <td>2013</td>\n",
       "    </tr>\n",
       "  </tbody>\n",
       "</table>\n",
       "<p>506 rows × 13 columns</p>\n",
       "</div>"
      ],
      "text/plain": [
       "                                      name platform  year_of_release  \\\n",
       "23                      Grand Theft Auto V     X360           2013.0   \n",
       "29          Call of Duty: Modern Warfare 3     X360           2011.0   \n",
       "35              Call of Duty: Black Ops II     X360           2012.0   \n",
       "60                    Call of Duty: Ghosts     X360           2013.0   \n",
       "66                                  Halo 4     X360           2012.0   \n",
       "...                                    ...      ...              ...   \n",
       "16540           Bullet Soul: Tama Tamashii     X360           2011.0   \n",
       "16576  DoDonPachi Daifukkatsu: Black Label     X360           2011.0   \n",
       "16613             Dragon Ball Z for Kinect     X360           2012.0   \n",
       "16647          Metal Gear Solid HD Edition     X360           2011.0   \n",
       "16654                   Ben 10 Omniverse 2     X360           2013.0   \n",
       "\n",
       "          genre  na_sales  eu_sales  jp_sales  other_sales  critic_score  \\\n",
       "23       Action      9.66      5.14      0.06         1.41          97.0   \n",
       "29      Shooter      9.04      4.24      0.13         1.32          88.0   \n",
       "35      Shooter      8.25      4.24      0.07         1.12          83.0   \n",
       "60      Shooter      6.73      2.56      0.04         0.91          73.0   \n",
       "66      Shooter      6.65      2.28      0.04         0.74          87.0   \n",
       "...         ...       ...       ...       ...          ...           ...   \n",
       "16540   Shooter      0.00      0.00      0.01         0.00           NaN   \n",
       "16576   Shooter      0.00      0.00      0.01         0.00           NaN   \n",
       "16613  Fighting      0.01      0.00      0.00         0.00          49.0   \n",
       "16647    Action      0.00      0.00      0.01         0.00           NaN   \n",
       "16654    Action      0.00      0.01      0.00         0.00           NaN   \n",
       "\n",
       "       user_score rating  total_sales  year  \n",
       "23            8.1      M        16.27  2013  \n",
       "29            3.4      M        14.73  2011  \n",
       "35            4.8      M        13.68  2012  \n",
       "60            2.6      M        10.24  2013  \n",
       "66            7.0      M         9.71  2012  \n",
       "...           ...    ...          ...   ...  \n",
       "16540         NaN    NaN         0.01  2011  \n",
       "16576         NaN    NaN         0.01  2011  \n",
       "16613         2.1      T         0.01  2012  \n",
       "16647         NaN      M         0.01  2011  \n",
       "16654         5.1   E10+         0.01  2013  \n",
       "\n",
       "[506 rows x 13 columns]"
      ]
     },
     "execution_count": 54,
     "metadata": {},
     "output_type": "execute_result"
    }
   ],
   "source": [
    "df4 = new_data[new_data['platform'] ==\"X360\"].copy()\n",
    "df4"
   ]
  },
  {
   "cell_type": "code",
   "execution_count": 55,
   "metadata": {
    "scrolled": true
   },
   "outputs": [
    {
     "name": "stdout",
     "output_type": "stream",
     "text": [
      "506\n"
     ]
    },
    {
     "data": {
      "text/plain": [
       "name                 0\n",
       "platform             0\n",
       "year_of_release      0\n",
       "genre                0\n",
       "na_sales             0\n",
       "eu_sales             0\n",
       "jp_sales             0\n",
       "other_sales          0\n",
       "critic_score       207\n",
       "user_score         138\n",
       "rating             100\n",
       "total_sales          0\n",
       "year                 0\n",
       "dtype: int64"
      ]
     },
     "execution_count": 55,
     "metadata": {},
     "output_type": "execute_result"
    }
   ],
   "source": [
    "print(len(df4))\n",
    "df4.isna().sum() #high amount of games, number of missing values is relatively small"
   ]
  },
  {
   "cell_type": "code",
   "execution_count": 56,
   "metadata": {},
   "outputs": [
    {
     "data": {
      "image/png": "[encoded data removed]",
      "text/plain": [
       "<Figure size 432x288 with 1 Axes>"
      ]
     },
     "metadata": {
      "needs_background": "light"
     },
     "output_type": "display_data"
    }
   ],
   "source": [
    "plt.scatter(x=df4['critic_score'], y=df4['total_sales'], alpha=.5)\n",
    "plt.xlabel('Critic Score')\n",
    "plt.ylabel('Total Sales')\n",
    "plt.title('Sales to Critic Score Correlation')\n",
    "plt.show()"
   ]
  },
  {
   "cell_type": "code",
   "execution_count": 57,
   "metadata": {},
   "outputs": [
    {
     "data": {
      "image/png": "[encoded data removed]",
      "text/plain": [
       "<Figure size 432x288 with 1 Axes>"
      ]
     },
     "metadata": {
      "needs_background": "light"
     },
     "output_type": "display_data"
    }
   ],
   "source": [
    "plt.scatter(x=df4['user_score'], y=df4['total_sales'], alpha=.5)\n",
    "plt.xlabel('User Score')\n",
    "plt.ylabel('Total Sales')\n",
    "plt.title('Sales to User Score Correlation')\n",
    "plt.show()"
   ]
  },
  {
   "cell_type": "code",
   "execution_count": 58,
   "metadata": {},
   "outputs": [],
   "source": [
    "#Tried to put them on one plot, so needed to normalize 'user_score'\n",
    "\n",
    "df4['user_score_norm'] = df4['user_score'] * 10"
   ]
  },
  {
   "cell_type": "code",
   "execution_count": 59,
   "metadata": {},
   "outputs": [
    {
     "data": {
      "image/png": "[encoded data removed]",
      "text/plain": [
       "<Figure size 864x504 with 1 Axes>"
      ]
     },
     "metadata": {
      "needs_background": "light"
     },
     "output_type": "display_data"
    }
   ],
   "source": [
    "fig, ax = plt.subplots(figsize=(12,7))\n",
    "\n",
    "\n",
    "plot1 = plt.scatter(x=df4['user_score_norm'], y=df4['total_sales'], alpha=.4)\n",
    "plot2 = plt.scatter(x=df4['critic_score'], y=df4['total_sales'], alpha=.4)\n",
    "\n",
    "plt.xlabel('User Score')\n",
    "plt.ylabel('Total Sales')\n",
    "plt.title('Sales to Review Correlation on X360 Platform')\n",
    "plt.legend([plot1,plot2],[\"User Score\", \"Critic Score\"])\n",
    "plt.show()"
   ]
  },
  {
   "cell_type": "code",
   "execution_count": 60,
   "metadata": {},
   "outputs": [
    {
     "data": {
      "text/html": [
       "<div>\n",
       "<style scoped>\n",
       "    .dataframe tbody tr th:only-of-type {\n",
       "        vertical-align: middle;\n",
       "    }\n",
       "\n",
       "    .dataframe tbody tr th {\n",
       "        vertical-align: top;\n",
       "    }\n",
       "\n",
       "    .dataframe thead th {\n",
       "        text-align: right;\n",
       "    }\n",
       "</style>\n",
       "<table border=\"1\" class=\"dataframe\">\n",
       "  <thead>\n",
       "    <tr style=\"text-align: right;\">\n",
       "      <th></th>\n",
       "      <th>user_score_norm</th>\n",
       "      <th>critic_score</th>\n",
       "    </tr>\n",
       "  </thead>\n",
       "  <tbody>\n",
       "    <tr>\n",
       "      <td>count</td>\n",
       "      <td>368.000000</td>\n",
       "      <td>299.000000</td>\n",
       "    </tr>\n",
       "    <tr>\n",
       "      <td>mean</td>\n",
       "      <td>63.388588</td>\n",
       "      <td>69.849498</td>\n",
       "    </tr>\n",
       "    <tr>\n",
       "      <td>std</td>\n",
       "      <td>15.610678</td>\n",
       "      <td>14.899690</td>\n",
       "    </tr>\n",
       "    <tr>\n",
       "      <td>min</td>\n",
       "      <td>7.000000</td>\n",
       "      <td>19.000000</td>\n",
       "    </tr>\n",
       "    <tr>\n",
       "      <td>25%</td>\n",
       "      <td>54.000000</td>\n",
       "      <td>61.000000</td>\n",
       "    </tr>\n",
       "    <tr>\n",
       "      <td>50%</td>\n",
       "      <td>66.000000</td>\n",
       "      <td>73.000000</td>\n",
       "    </tr>\n",
       "    <tr>\n",
       "      <td>75%</td>\n",
       "      <td>75.000000</td>\n",
       "      <td>80.000000</td>\n",
       "    </tr>\n",
       "    <tr>\n",
       "      <td>max</td>\n",
       "      <td>89.000000</td>\n",
       "      <td>97.000000</td>\n",
       "    </tr>\n",
       "  </tbody>\n",
       "</table>\n",
       "</div>"
      ],
      "text/plain": [
       "       user_score_norm  critic_score\n",
       "count       368.000000    299.000000\n",
       "mean         63.388588     69.849498\n",
       "std          15.610678     14.899690\n",
       "min           7.000000     19.000000\n",
       "25%          54.000000     61.000000\n",
       "50%          66.000000     73.000000\n",
       "75%          75.000000     80.000000\n",
       "max          89.000000     97.000000"
      ]
     },
     "execution_count": 60,
     "metadata": {},
     "output_type": "execute_result"
    }
   ],
   "source": [
    "df4[['user_score_norm', 'critic_score']].describe()"
   ]
  },
  {
   "cell_type": "code",
   "execution_count": 61,
   "metadata": {},
   "outputs": [
    {
     "name": "stdout",
     "output_type": "stream",
     "text": [
      "Correlation between sales and user score on X360 platform: 0.04\n"
     ]
    }
   ],
   "source": [
    "corr = df4['total_sales'].corr(df4['user_score'])\n",
    "print('Correlation between sales and user score on X360 platform:', '{:.2f}'.format(corr))"
   ]
  },
  {
   "cell_type": "markdown",
   "metadata": {},
   "source": [
    "Checking correlation, we see that it's 0.04 - meaning there's no correlation at all.\n",
    "\n",
    "We see that generally users tend to give lower scores (7 to 90), while critics tend to give higher scores (19 to 98).\n",
    "\n",
    "Generally we see that the higher is critic score (for more than 70) - the higher the sales. Also most of the games with unusually high sales got good reviews from critics.\n",
    "\n",
    "As for user score - the connection is not that obvious. While games with higher score tend to have bigger sales, the graph doesn't rise the same way it does for 'critic_score'. Also we see that games with unusually great sales can have various user scores, even pretty low (25-60).\n",
    "\n",
    "Overall we can say that critic score is more reliable source for prediction, and users sometimes give bad reviews that don't affect the total sales. "
   ]
  },
  {
   "cell_type": "markdown",
   "metadata": {},
   "source": [
    "<a id=\"point3_7\"></a>\n",
    "#### Keeping your conclusions in mind, compare the sales of the same games on other platforms."
   ]
  },
  {
   "cell_type": "code",
   "execution_count": 62,
   "metadata": {},
   "outputs": [
    {
     "data": {
      "image/png": "[encoded data removed]",
      "text/plain": [
       "<Figure size 864x504 with 1 Axes>"
      ]
     },
     "metadata": {
      "needs_background": "light"
     },
     "output_type": "display_data"
    }
   ],
   "source": [
    "df5 = new_data.query('platform==\"PS2\"').copy()\n",
    "df5['user_score_norm'] = df5['user_score'] * 10\n",
    "\n",
    "fig, ax = plt.subplots(figsize=(12,7))\n",
    "\n",
    "\n",
    "plot1 = plt.scatter(x=df5['user_score_norm'], y=df5['total_sales'], alpha=.4)\n",
    "plot2 = plt.scatter(x=df5['critic_score'], y=df5['total_sales'], alpha=.4)\n",
    "\n",
    "plt.xlabel('User Score')\n",
    "plt.ylabel('Total Sales')\n",
    "plt.title('Sales to Review Correlation on PS2 Platform')\n",
    "plt.legend([plot1,plot2],[\"User Score\", \"Critic Score\"])\n",
    "plt.show()"
   ]
  },
  {
   "cell_type": "code",
   "execution_count": 63,
   "metadata": {},
   "outputs": [
    {
     "name": "stdout",
     "output_type": "stream",
     "text": [
      "Correlation between sales and user score on PS2 platform: -0.49\n"
     ]
    }
   ],
   "source": [
    "corr = df5['total_sales'].corr(df5['user_score'])\n",
    "print('Correlation between sales and user score on PS2 platform:', '{:.2f}'.format(corr))"
   ]
  },
  {
   "cell_type": "code",
   "execution_count": 64,
   "metadata": {},
   "outputs": [
    {
     "data": {
      "image/png": "[encoded data removed]",
      "text/plain": [
       "<Figure size 864x504 with 1 Axes>"
      ]
     },
     "metadata": {
      "needs_background": "light"
     },
     "output_type": "display_data"
    }
   ],
   "source": [
    "df6 = new_data.query('platform==\"PS3\"').copy()\n",
    "df6['user_score_norm'] = df6['user_score'] * 10\n",
    "\n",
    "fig, ax = plt.subplots(figsize=(12,7))\n",
    "\n",
    "\n",
    "plot1 = plt.scatter(x=df6['user_score_norm'], y=df6['total_sales'], alpha=.4)\n",
    "plot2 = plt.scatter(x=df6['critic_score'], y=df6['total_sales'], alpha=.4)\n",
    "\n",
    "plt.xlabel('User Score')\n",
    "plt.ylabel('Total Sales')\n",
    "plt.title('Sales to Review Correlation on PS3 Platform')\n",
    "plt.legend([plot1,plot2],[\"User Score\", \"Critic Score\"])\n",
    "plt.show()"
   ]
  },
  {
   "cell_type": "code",
   "execution_count": 65,
   "metadata": {},
   "outputs": [
    {
     "name": "stdout",
     "output_type": "stream",
     "text": [
      "Correlation between sales and user score on PS3 platform: 0.01\n"
     ]
    }
   ],
   "source": [
    "corr = df6['total_sales'].corr(df6['user_score'])\n",
    "print('Correlation between sales and user score on PS3 platform:', '{:.2f}'.format(corr))"
   ]
  },
  {
   "cell_type": "code",
   "execution_count": 66,
   "metadata": {},
   "outputs": [
    {
     "data": {
      "image/png": "[encoded data removed]",
      "text/plain": [
       "<Figure size 864x504 with 1 Axes>"
      ]
     },
     "metadata": {
      "needs_background": "light"
     },
     "output_type": "display_data"
    }
   ],
   "source": [
    "df7 = new_data.query('platform==\"Wii\"').copy()\n",
    "df7['user_score_norm'] = df7['user_score'] * 10\n",
    "\n",
    "fig, ax = plt.subplots(figsize=(12,7))\n",
    "\n",
    "\n",
    "plot1 = plt.scatter(x=df7['user_score_norm'], y=df7['total_sales'], alpha=.4)\n",
    "plot2 = plt.scatter(x=df7['critic_score'], y=df7['total_sales'], alpha=.4)\n",
    "\n",
    "plt.xlabel('User Score')\n",
    "plt.ylabel('Total Sales')\n",
    "plt.title('Sales to Review Correlation on Wii Platform')\n",
    "plt.legend([plot1,plot2],[\"User Score\", \"Critic Score\"])\n",
    "plt.show()"
   ]
  },
  {
   "cell_type": "code",
   "execution_count": 67,
   "metadata": {},
   "outputs": [
    {
     "name": "stdout",
     "output_type": "stream",
     "text": [
      "Correlation between sales and user score on Wii platform: 0.15\n"
     ]
    }
   ],
   "source": [
    "corr = df7['total_sales'].corr(df7['user_score'])\n",
    "print('Correlation between sales and user score on Wii platform:', '{:.2f}'.format(corr))"
   ]
  },
  {
   "cell_type": "code",
   "execution_count": 68,
   "metadata": {},
   "outputs": [
    {
     "data": {
      "image/png": "[encoded data removed]",
      "text/plain": [
       "<Figure size 864x504 with 1 Axes>"
      ]
     },
     "metadata": {
      "needs_background": "light"
     },
     "output_type": "display_data"
    }
   ],
   "source": [
    "df8 = new_data.query('platform==\"DS\"').copy()\n",
    "df8['user_score_norm'] = df8['user_score'] * 10\n",
    "\n",
    "fig, ax = plt.subplots(figsize=(12,7))\n",
    "\n",
    "\n",
    "plot1 = plt.scatter(x=df8['user_score_norm'], y=df8['total_sales'], alpha=.4)\n",
    "plot2 = plt.scatter(x=df8['critic_score'], y=df8['total_sales'], alpha=.4)\n",
    "\n",
    "plt.xlabel('User Score')\n",
    "plt.ylabel('Total Sales')\n",
    "plt.title('Sales to Review Correlation on DS Platform')\n",
    "plt.legend([plot1,plot2],[\"User Score\", \"Critic Score\"])\n",
    "plt.show()"
   ]
  },
  {
   "cell_type": "code",
   "execution_count": 69,
   "metadata": {},
   "outputs": [
    {
     "name": "stdout",
     "output_type": "stream",
     "text": [
      "Correlation between sales and user score on DS platform: 0.28\n"
     ]
    }
   ],
   "source": [
    "corr = df8['total_sales'].corr(df8['user_score'])\n",
    "print('Correlation between sales and user score on DS platform:', '{:.2f}'.format(corr))"
   ]
  },
  {
   "cell_type": "markdown",
   "metadata": {},
   "source": [
    "Checking other 5 big platforms, we see that the picture is dufferent - critic scores overall also tend to be little higher than user score for PS2, PS3 and Wii, but for DS the picture is opposite - user scores tend to be higher than critic scores.\n",
    "Overall we can say that correlation between total sales and score exists everywhere, but is not the same for platforms, so we have to look at each of them individually."
   ]
  },
  {
   "cell_type": "markdown",
   "metadata": {},
   "source": [
    "Correlation coefficient for all the platforms varies from 0.01 to 0.28 ( -0.49 for platform with a small amount of data, so not that representative). That means that there's no correlation between amount of sales and user ratings."
   ]
  },
  {
   "cell_type": "markdown",
   "metadata": {},
   "source": [
    "<a id=\"point3_8\"></a>\n",
    "#### Take a look at the general distribution of games by genre. What can we say about the most profitable genres? Can you generalize about genres with high and low sales?"
   ]
  },
  {
   "cell_type": "code",
   "execution_count": 70,
   "metadata": {},
   "outputs": [
    {
     "data": {
      "text/html": [
       "<div>\n",
       "<style scoped>\n",
       "    .dataframe tbody tr th:only-of-type {\n",
       "        vertical-align: middle;\n",
       "    }\n",
       "\n",
       "    .dataframe tbody tr th {\n",
       "        vertical-align: top;\n",
       "    }\n",
       "\n",
       "    .dataframe thead th {\n",
       "        text-align: right;\n",
       "    }\n",
       "</style>\n",
       "<table border=\"1\" class=\"dataframe\">\n",
       "  <thead>\n",
       "    <tr style=\"text-align: right;\">\n",
       "      <th></th>\n",
       "      <th>genre</th>\n",
       "      <th>total_sales</th>\n",
       "    </tr>\n",
       "  </thead>\n",
       "  <tbody>\n",
       "    <tr>\n",
       "      <td>0</td>\n",
       "      <td>Action</td>\n",
       "      <td>565.22</td>\n",
       "    </tr>\n",
       "    <tr>\n",
       "      <td>1</td>\n",
       "      <td>Shooter</td>\n",
       "      <td>402.96</td>\n",
       "    </tr>\n",
       "    <tr>\n",
       "      <td>2</td>\n",
       "      <td>Role-Playing</td>\n",
       "      <td>245.63</td>\n",
       "    </tr>\n",
       "    <tr>\n",
       "      <td>3</td>\n",
       "      <td>Sports</td>\n",
       "      <td>237.40</td>\n",
       "    </tr>\n",
       "    <tr>\n",
       "      <td>4</td>\n",
       "      <td>Misc</td>\n",
       "      <td>139.91</td>\n",
       "    </tr>\n",
       "    <tr>\n",
       "      <td>5</td>\n",
       "      <td>Platform</td>\n",
       "      <td>88.68</td>\n",
       "    </tr>\n",
       "    <tr>\n",
       "      <td>6</td>\n",
       "      <td>Racing</td>\n",
       "      <td>88.31</td>\n",
       "    </tr>\n",
       "    <tr>\n",
       "      <td>7</td>\n",
       "      <td>Fighting</td>\n",
       "      <td>66.90</td>\n",
       "    </tr>\n",
       "    <tr>\n",
       "      <td>8</td>\n",
       "      <td>Simulation</td>\n",
       "      <td>50.26</td>\n",
       "    </tr>\n",
       "    <tr>\n",
       "      <td>9</td>\n",
       "      <td>Adventure</td>\n",
       "      <td>45.04</td>\n",
       "    </tr>\n",
       "    <tr>\n",
       "      <td>10</td>\n",
       "      <td>Strategy</td>\n",
       "      <td>22.51</td>\n",
       "    </tr>\n",
       "    <tr>\n",
       "      <td>11</td>\n",
       "      <td>Puzzle</td>\n",
       "      <td>9.85</td>\n",
       "    </tr>\n",
       "  </tbody>\n",
       "</table>\n",
       "</div>"
      ],
      "text/plain": [
       "           genre  total_sales\n",
       "0         Action       565.22\n",
       "1        Shooter       402.96\n",
       "2   Role-Playing       245.63\n",
       "3         Sports       237.40\n",
       "4           Misc       139.91\n",
       "5       Platform        88.68\n",
       "6         Racing        88.31\n",
       "7       Fighting        66.90\n",
       "8     Simulation        50.26\n",
       "9      Adventure        45.04\n",
       "10      Strategy        22.51\n",
       "11        Puzzle         9.85"
      ]
     },
     "execution_count": 70,
     "metadata": {},
     "output_type": "execute_result"
    }
   ],
   "source": [
    "df6 = new_data[['genre', 'total_sales']].pivot_table(index='genre', values='total_sales', aggfunc='sum').sort_values(by='total_sales', ascending=False).reset_index()\n",
    "df6"
   ]
  },
  {
   "cell_type": "code",
   "execution_count": 97,
   "metadata": {},
   "outputs": [
    {
     "data": {
      "image/png": "[encoded data removed]",
      "text/plain": [
       "<Figure size 576x576 with 1 Axes>"
      ]
     },
     "metadata": {},
     "output_type": "display_data"
    }
   ],
   "source": [
    "labels = df6['genre']\n",
    "sizes = df6['total_sales']\n",
    "\n",
    "fig1, ax1 = plt.subplots(figsize=(8,8))\n",
    "ax1.pie(sizes, labels=labels, autopct='%1.1f%%',\n",
    "        shadow=True, startangle=90)\n",
    "ax1.axis('equal')\n",
    "plt.title(\"Distribution of games by genre\")\n",
    "plt.show()"
   ]
  },
  {
   "cell_type": "markdown",
   "metadata": {},
   "source": [
    "Well, we see, that half of all sales (49.1%) happen in three leading genres: first Action with almost 30% of the market, then Shooter with 20.6%. Action and Shooter genres are very close, a lot of Action games are Shooters and vice versa. This is sort of \"classic computer games genre\", something that comes to mind even to someone not so familiar with world of computer games. What These genres have in common - adlenaline that user gets from playing, which is a nice safe way to get some.\n",
    "\n",
    "That was about genres with high sales, next to them we also have 12.6% of \"Role Playing\" and 12.1% of \"Sports\". "
   ]
  },
  {
   "cell_type": "markdown",
   "metadata": {},
   "source": [
    "### User profile for each region"
   ]
  },
  {
   "cell_type": "markdown",
   "metadata": {},
   "source": [
    "#### For each region (NA, EU, JP), determine:"
   ]
  },
  {
   "cell_type": "code",
   "execution_count": 72,
   "metadata": {},
   "outputs": [
    {
     "data": {
      "text/html": [
       "<div>\n",
       "<style scoped>\n",
       "    .dataframe tbody tr th:only-of-type {\n",
       "        vertical-align: middle;\n",
       "    }\n",
       "\n",
       "    .dataframe tbody tr th {\n",
       "        vertical-align: top;\n",
       "    }\n",
       "\n",
       "    .dataframe thead th {\n",
       "        text-align: right;\n",
       "    }\n",
       "</style>\n",
       "<table border=\"1\" class=\"dataframe\">\n",
       "  <thead>\n",
       "    <tr style=\"text-align: right;\">\n",
       "      <th></th>\n",
       "      <th>na_sales</th>\n",
       "      <th>eu_sales</th>\n",
       "      <th>jp_sales</th>\n",
       "      <th>platform</th>\n",
       "      <th>genre</th>\n",
       "      <th>rating</th>\n",
       "    </tr>\n",
       "  </thead>\n",
       "  <tbody>\n",
       "    <tr>\n",
       "      <td>16</td>\n",
       "      <td>7.02</td>\n",
       "      <td>9.09</td>\n",
       "      <td>0.98</td>\n",
       "      <td>PS3</td>\n",
       "      <td>Action</td>\n",
       "      <td>M</td>\n",
       "    </tr>\n",
       "    <tr>\n",
       "      <td>23</td>\n",
       "      <td>9.66</td>\n",
       "      <td>5.14</td>\n",
       "      <td>0.06</td>\n",
       "      <td>X360</td>\n",
       "      <td>Action</td>\n",
       "      <td>M</td>\n",
       "    </tr>\n",
       "    <tr>\n",
       "      <td>29</td>\n",
       "      <td>9.04</td>\n",
       "      <td>4.24</td>\n",
       "      <td>0.13</td>\n",
       "      <td>X360</td>\n",
       "      <td>Shooter</td>\n",
       "      <td>M</td>\n",
       "    </tr>\n",
       "    <tr>\n",
       "      <td>31</td>\n",
       "      <td>6.03</td>\n",
       "      <td>5.86</td>\n",
       "      <td>0.36</td>\n",
       "      <td>PS4</td>\n",
       "      <td>Shooter</td>\n",
       "      <td>NaN</td>\n",
       "    </tr>\n",
       "    <tr>\n",
       "      <td>33</td>\n",
       "      <td>5.28</td>\n",
       "      <td>4.19</td>\n",
       "      <td>4.35</td>\n",
       "      <td>3DS</td>\n",
       "      <td>Role-Playing</td>\n",
       "      <td>NaN</td>\n",
       "    </tr>\n",
       "    <tr>\n",
       "      <td>...</td>\n",
       "      <td>...</td>\n",
       "      <td>...</td>\n",
       "      <td>...</td>\n",
       "      <td>...</td>\n",
       "      <td>...</td>\n",
       "      <td>...</td>\n",
       "    </tr>\n",
       "    <tr>\n",
       "      <td>16703</td>\n",
       "      <td>0.00</td>\n",
       "      <td>0.00</td>\n",
       "      <td>0.01</td>\n",
       "      <td>PSV</td>\n",
       "      <td>Adventure</td>\n",
       "      <td>NaN</td>\n",
       "    </tr>\n",
       "    <tr>\n",
       "      <td>16707</td>\n",
       "      <td>0.00</td>\n",
       "      <td>0.00</td>\n",
       "      <td>0.01</td>\n",
       "      <td>PSV</td>\n",
       "      <td>Misc</td>\n",
       "      <td>NaN</td>\n",
       "    </tr>\n",
       "    <tr>\n",
       "      <td>16710</td>\n",
       "      <td>0.00</td>\n",
       "      <td>0.00</td>\n",
       "      <td>0.01</td>\n",
       "      <td>PS3</td>\n",
       "      <td>Action</td>\n",
       "      <td>NaN</td>\n",
       "    </tr>\n",
       "    <tr>\n",
       "      <td>16712</td>\n",
       "      <td>0.00</td>\n",
       "      <td>0.00</td>\n",
       "      <td>0.01</td>\n",
       "      <td>PSV</td>\n",
       "      <td>Adventure</td>\n",
       "      <td>NaN</td>\n",
       "    </tr>\n",
       "    <tr>\n",
       "      <td>16714</td>\n",
       "      <td>0.00</td>\n",
       "      <td>0.00</td>\n",
       "      <td>0.01</td>\n",
       "      <td>PSV</td>\n",
       "      <td>Simulation</td>\n",
       "      <td>NaN</td>\n",
       "    </tr>\n",
       "  </tbody>\n",
       "</table>\n",
       "<p>4052 rows × 6 columns</p>\n",
       "</div>"
      ],
      "text/plain": [
       "       na_sales  eu_sales  jp_sales platform         genre rating\n",
       "16         7.02      9.09      0.98      PS3        Action      M\n",
       "23         9.66      5.14      0.06     X360        Action      M\n",
       "29         9.04      4.24      0.13     X360       Shooter      M\n",
       "31         6.03      5.86      0.36      PS4       Shooter    NaN\n",
       "33         5.28      4.19      4.35      3DS  Role-Playing    NaN\n",
       "...         ...       ...       ...      ...           ...    ...\n",
       "16703      0.00      0.00      0.01      PSV     Adventure    NaN\n",
       "16707      0.00      0.00      0.01      PSV          Misc    NaN\n",
       "16710      0.00      0.00      0.01      PS3        Action    NaN\n",
       "16712      0.00      0.00      0.01      PSV     Adventure    NaN\n",
       "16714      0.00      0.00      0.01      PSV    Simulation    NaN\n",
       "\n",
       "[4052 rows x 6 columns]"
      ]
     },
     "execution_count": 72,
     "metadata": {},
     "output_type": "execute_result"
    }
   ],
   "source": [
    "regions_data = new_data[['na_sales', 'eu_sales', 'jp_sales','platform', 'genre', 'rating']]\n",
    "regions_data"
   ]
  },
  {
   "cell_type": "markdown",
   "metadata": {},
   "source": [
    "<a id=\"point3_9_1\"></a>\n",
    "#### The top five platforms. Describe variations in their market shares from region to region."
   ]
  },
  {
   "cell_type": "code",
   "execution_count": 73,
   "metadata": {},
   "outputs": [
    {
     "data": {
      "text/html": [
       "<div>\n",
       "<style scoped>\n",
       "    .dataframe tbody tr th:only-of-type {\n",
       "        vertical-align: middle;\n",
       "    }\n",
       "\n",
       "    .dataframe tbody tr th {\n",
       "        vertical-align: top;\n",
       "    }\n",
       "\n",
       "    .dataframe thead th {\n",
       "        text-align: right;\n",
       "    }\n",
       "</style>\n",
       "<table border=\"1\" class=\"dataframe\">\n",
       "  <thead>\n",
       "    <tr style=\"text-align: right;\">\n",
       "      <th></th>\n",
       "      <th>platform</th>\n",
       "      <th>na_sales</th>\n",
       "    </tr>\n",
       "  </thead>\n",
       "  <tbody>\n",
       "    <tr>\n",
       "      <td>10</td>\n",
       "      <td>X360</td>\n",
       "      <td>228.18</td>\n",
       "    </tr>\n",
       "    <tr>\n",
       "      <td>4</td>\n",
       "      <td>PS3</td>\n",
       "      <td>168.96</td>\n",
       "    </tr>\n",
       "    <tr>\n",
       "      <td>5</td>\n",
       "      <td>PS4</td>\n",
       "      <td>108.74</td>\n",
       "    </tr>\n",
       "    <tr>\n",
       "      <td>11</td>\n",
       "      <td>XOne</td>\n",
       "      <td>93.12</td>\n",
       "    </tr>\n",
       "    <tr>\n",
       "      <td>0</td>\n",
       "      <td>3DS</td>\n",
       "      <td>82.83</td>\n",
       "    </tr>\n",
       "  </tbody>\n",
       "</table>\n",
       "</div>"
      ],
      "text/plain": [
       "   platform  na_sales\n",
       "10     X360    228.18\n",
       "4       PS3    168.96\n",
       "5       PS4    108.74\n",
       "11     XOne     93.12\n",
       "0       3DS     82.83"
      ]
     },
     "execution_count": 73,
     "metadata": {},
     "output_type": "execute_result"
    }
   ],
   "source": [
    "NA_top_platforms=regions_data.pivot_table(index='platform', values='na_sales', aggfunc='sum').reset_index().sort_values(by='na_sales', ascending=False)\n",
    "NA_top_platforms=NA_top_platforms[0:5]\n",
    "NA_top_platforms"
   ]
  },
  {
   "cell_type": "code",
   "execution_count": 74,
   "metadata": {},
   "outputs": [
    {
     "data": {
      "text/html": [
       "<div>\n",
       "<style scoped>\n",
       "    .dataframe tbody tr th:only-of-type {\n",
       "        vertical-align: middle;\n",
       "    }\n",
       "\n",
       "    .dataframe tbody tr th {\n",
       "        vertical-align: top;\n",
       "    }\n",
       "\n",
       "    .dataframe thead th {\n",
       "        text-align: right;\n",
       "    }\n",
       "</style>\n",
       "<table border=\"1\" class=\"dataframe\">\n",
       "  <thead>\n",
       "    <tr style=\"text-align: right;\">\n",
       "      <th></th>\n",
       "      <th>platform</th>\n",
       "      <th>eu_sales</th>\n",
       "    </tr>\n",
       "  </thead>\n",
       "  <tbody>\n",
       "    <tr>\n",
       "      <td>4</td>\n",
       "      <td>PS3</td>\n",
       "      <td>164.15</td>\n",
       "    </tr>\n",
       "    <tr>\n",
       "      <td>5</td>\n",
       "      <td>PS4</td>\n",
       "      <td>141.09</td>\n",
       "    </tr>\n",
       "    <tr>\n",
       "      <td>10</td>\n",
       "      <td>X360</td>\n",
       "      <td>117.87</td>\n",
       "    </tr>\n",
       "    <tr>\n",
       "      <td>0</td>\n",
       "      <td>3DS</td>\n",
       "      <td>61.46</td>\n",
       "    </tr>\n",
       "    <tr>\n",
       "      <td>2</td>\n",
       "      <td>PC</td>\n",
       "      <td>57.38</td>\n",
       "    </tr>\n",
       "  </tbody>\n",
       "</table>\n",
       "</div>"
      ],
      "text/plain": [
       "   platform  eu_sales\n",
       "4       PS3    164.15\n",
       "5       PS4    141.09\n",
       "10     X360    117.87\n",
       "0       3DS     61.46\n",
       "2        PC     57.38"
      ]
     },
     "execution_count": 74,
     "metadata": {},
     "output_type": "execute_result"
    }
   ],
   "source": [
    "EU_top_platforms=regions_data.pivot_table(index='platform', values='eu_sales', aggfunc='sum').reset_index().sort_values(by='eu_sales', ascending=False)\n",
    "EU_top_platforms=EU_top_platforms[0:5]\n",
    "EU_top_platforms"
   ]
  },
  {
   "cell_type": "code",
   "execution_count": 75,
   "metadata": {},
   "outputs": [
    {
     "data": {
      "text/html": [
       "<div>\n",
       "<style scoped>\n",
       "    .dataframe tbody tr th:only-of-type {\n",
       "        vertical-align: middle;\n",
       "    }\n",
       "\n",
       "    .dataframe tbody tr th {\n",
       "        vertical-align: top;\n",
       "    }\n",
       "\n",
       "    .dataframe thead th {\n",
       "        text-align: right;\n",
       "    }\n",
       "</style>\n",
       "<table border=\"1\" class=\"dataframe\">\n",
       "  <thead>\n",
       "    <tr style=\"text-align: right;\">\n",
       "      <th></th>\n",
       "      <th>platform</th>\n",
       "      <th>jp_sales</th>\n",
       "    </tr>\n",
       "  </thead>\n",
       "  <tbody>\n",
       "    <tr>\n",
       "      <td>0</td>\n",
       "      <td>3DS</td>\n",
       "      <td>100.62</td>\n",
       "    </tr>\n",
       "    <tr>\n",
       "      <td>4</td>\n",
       "      <td>PS3</td>\n",
       "      <td>49.40</td>\n",
       "    </tr>\n",
       "    <tr>\n",
       "      <td>6</td>\n",
       "      <td>PSP</td>\n",
       "      <td>24.28</td>\n",
       "    </tr>\n",
       "    <tr>\n",
       "      <td>7</td>\n",
       "      <td>PSV</td>\n",
       "      <td>21.84</td>\n",
       "    </tr>\n",
       "    <tr>\n",
       "      <td>5</td>\n",
       "      <td>PS4</td>\n",
       "      <td>15.96</td>\n",
       "    </tr>\n",
       "  </tbody>\n",
       "</table>\n",
       "</div>"
      ],
      "text/plain": [
       "  platform  jp_sales\n",
       "0      3DS    100.62\n",
       "4      PS3     49.40\n",
       "6      PSP     24.28\n",
       "7      PSV     21.84\n",
       "5      PS4     15.96"
      ]
     },
     "execution_count": 75,
     "metadata": {},
     "output_type": "execute_result"
    }
   ],
   "source": [
    "JP_top_platforms=regions_data.pivot_table(index='platform', values='jp_sales', aggfunc='sum').reset_index().sort_values(by='jp_sales', ascending=False)\n",
    "JP_top_platforms=JP_top_platforms[0:5]\n",
    "JP_top_platforms"
   ]
  },
  {
   "cell_type": "code",
   "execution_count": 76,
   "metadata": {},
   "outputs": [
    {
     "data": {
      "image/png": "[encoded data removed]",
      "text/plain": [
       "<Figure size 1080x1080 with 3 Axes>"
      ]
     },
     "metadata": {},
     "output_type": "display_data"
    }
   ],
   "source": [
    "fig, (ax1,ax2, ax3) = plt.subplots(1,3,figsize=(15, 15)) \n",
    "\n",
    "labels = NA_top_platforms['platform']\n",
    "values = NA_top_platforms['na_sales']\n",
    "ax1.pie(values,labels = labels,autopct = '%1.1f%%',shadow=True, startangle=90)\n",
    "ax1.set_title('Top 5 Platforms for North America Region')\n",
    "\n",
    "labels = EU_top_platforms['platform']\n",
    "values = EU_top_platforms['eu_sales']\n",
    "ax2.pie(values,labels = labels,autopct = '%1.1f%%',shadow=True, startangle=90)\n",
    "ax2.set_title('Top 5 Platforms for Europe Region')\n",
    "\n",
    "labels = JP_top_platforms['platform']\n",
    "values = JP_top_platforms['jp_sales']\n",
    "ax3.pie(values,labels = labels,autopct = '%1.1f%%',shadow=True, startangle=90)\n",
    "ax3.set_title('Top 5 Platforms for Japan Region')\n",
    "\n",
    "fig.show()"
   ]
  },
  {
   "cell_type": "markdown",
   "metadata": {},
   "source": [
    "We'll study top platforms according to their revenue.\n",
    "\n",
    "The most popular platforms in North America are X360 and PS3 - together their share is 58% of the market, while PS4 and XOne have 16% and 13.7% shares and 3DS only has 12.2%.\n",
    "\n",
    "In Europe top two platfoms are PS3 and PS4, together sharing 56.4% of the market, X360 is little less popular with 21.7%%, and then come 3DS and PC with shares around 11.4% and 10.5%.\n",
    "\n",
    "As for Japan market - no doubt that it's totally different: biggest player is 3DS with 47.5% - half of the market! Then goes PS3 with 23.3%, and then we have two platforms we only see here: PSP with 11.3% share and PSV with 10.3% share and on the fifth place there's PS4 with only 7.5%.\n",
    "\n",
    "Overall we see that in North America X360 has almost the same share as PS3 and PS4 together, while in Europe share of X360 is only 21.7%, while PS3 and PS4 together make 56.8% of market.\n",
    "The picture is totally different in Japan, 3DS platform by itself takes almost half of the market. PS3 and PS4 together make a significant share of 30.8%, but X360 is not that popular in Japan."
   ]
  },
  {
   "cell_type": "markdown",
   "metadata": {},
   "source": [
    "<a id=\"point3_9_2\"></a>\n",
    "#### The top five genres. Explain the difference."
   ]
  },
  {
   "cell_type": "code",
   "execution_count": 77,
   "metadata": {},
   "outputs": [
    {
     "data": {
      "text/html": [
       "<div>\n",
       "<style scoped>\n",
       "    .dataframe tbody tr th:only-of-type {\n",
       "        vertical-align: middle;\n",
       "    }\n",
       "\n",
       "    .dataframe tbody tr th {\n",
       "        vertical-align: top;\n",
       "    }\n",
       "\n",
       "    .dataframe thead th {\n",
       "        text-align: right;\n",
       "    }\n",
       "</style>\n",
       "<table border=\"1\" class=\"dataframe\">\n",
       "  <thead>\n",
       "    <tr style=\"text-align: right;\">\n",
       "      <th></th>\n",
       "      <th>genre</th>\n",
       "      <th>na_sales</th>\n",
       "    </tr>\n",
       "  </thead>\n",
       "  <tbody>\n",
       "    <tr>\n",
       "      <td>0</td>\n",
       "      <td>Action</td>\n",
       "      <td>234.41</td>\n",
       "    </tr>\n",
       "    <tr>\n",
       "      <td>8</td>\n",
       "      <td>Shooter</td>\n",
       "      <td>194.45</td>\n",
       "    </tr>\n",
       "    <tr>\n",
       "      <td>10</td>\n",
       "      <td>Sports</td>\n",
       "      <td>108.70</td>\n",
       "    </tr>\n",
       "    <tr>\n",
       "      <td>7</td>\n",
       "      <td>Role-Playing</td>\n",
       "      <td>83.78</td>\n",
       "    </tr>\n",
       "    <tr>\n",
       "      <td>3</td>\n",
       "      <td>Misc</td>\n",
       "      <td>69.81</td>\n",
       "    </tr>\n",
       "  </tbody>\n",
       "</table>\n",
       "</div>"
      ],
      "text/plain": [
       "           genre  na_sales\n",
       "0         Action    234.41\n",
       "8        Shooter    194.45\n",
       "10        Sports    108.70\n",
       "7   Role-Playing     83.78\n",
       "3           Misc     69.81"
      ]
     },
     "execution_count": 77,
     "metadata": {},
     "output_type": "execute_result"
    }
   ],
   "source": [
    "NA_top_genres=regions_data.pivot_table(index='genre', values='na_sales', aggfunc='sum').reset_index().sort_values(by='na_sales', ascending=False)\n",
    "NA_top_genres=NA_top_genres[0:5]\n",
    "NA_top_genres"
   ]
  },
  {
   "cell_type": "code",
   "execution_count": 78,
   "metadata": {},
   "outputs": [
    {
     "data": {
      "text/html": [
       "<div>\n",
       "<style scoped>\n",
       "    .dataframe tbody tr th:only-of-type {\n",
       "        vertical-align: middle;\n",
       "    }\n",
       "\n",
       "    .dataframe tbody tr th {\n",
       "        vertical-align: top;\n",
       "    }\n",
       "\n",
       "    .dataframe thead th {\n",
       "        text-align: right;\n",
       "    }\n",
       "</style>\n",
       "<table border=\"1\" class=\"dataframe\">\n",
       "  <thead>\n",
       "    <tr style=\"text-align: right;\">\n",
       "      <th></th>\n",
       "      <th>genre</th>\n",
       "      <th>eu_sales</th>\n",
       "    </tr>\n",
       "  </thead>\n",
       "  <tbody>\n",
       "    <tr>\n",
       "      <td>0</td>\n",
       "      <td>Action</td>\n",
       "      <td>202.17</td>\n",
       "    </tr>\n",
       "    <tr>\n",
       "      <td>8</td>\n",
       "      <td>Shooter</td>\n",
       "      <td>148.05</td>\n",
       "    </tr>\n",
       "    <tr>\n",
       "      <td>10</td>\n",
       "      <td>Sports</td>\n",
       "      <td>88.67</td>\n",
       "    </tr>\n",
       "    <tr>\n",
       "      <td>7</td>\n",
       "      <td>Role-Playing</td>\n",
       "      <td>62.30</td>\n",
       "    </tr>\n",
       "    <tr>\n",
       "      <td>6</td>\n",
       "      <td>Racing</td>\n",
       "      <td>40.58</td>\n",
       "    </tr>\n",
       "  </tbody>\n",
       "</table>\n",
       "</div>"
      ],
      "text/plain": [
       "           genre  eu_sales\n",
       "0         Action    202.17\n",
       "8        Shooter    148.05\n",
       "10        Sports     88.67\n",
       "7   Role-Playing     62.30\n",
       "6         Racing     40.58"
      ]
     },
     "execution_count": 78,
     "metadata": {},
     "output_type": "execute_result"
    }
   ],
   "source": [
    "EU_top_genres=regions_data.pivot_table(index='genre', values='eu_sales', aggfunc='sum').reset_index().sort_values(by='eu_sales', ascending=False)\n",
    "EU_top_genres=EU_top_genres[0:5]\n",
    "EU_top_genres"
   ]
  },
  {
   "cell_type": "code",
   "execution_count": 79,
   "metadata": {},
   "outputs": [
    {
     "data": {
      "text/html": [
       "<div>\n",
       "<style scoped>\n",
       "    .dataframe tbody tr th:only-of-type {\n",
       "        vertical-align: middle;\n",
       "    }\n",
       "\n",
       "    .dataframe tbody tr th {\n",
       "        vertical-align: top;\n",
       "    }\n",
       "\n",
       "    .dataframe thead th {\n",
       "        text-align: right;\n",
       "    }\n",
       "</style>\n",
       "<table border=\"1\" class=\"dataframe\">\n",
       "  <thead>\n",
       "    <tr style=\"text-align: right;\">\n",
       "      <th></th>\n",
       "      <th>genre</th>\n",
       "      <th>jp_sales</th>\n",
       "    </tr>\n",
       "  </thead>\n",
       "  <tbody>\n",
       "    <tr>\n",
       "      <td>7</td>\n",
       "      <td>Role-Playing</td>\n",
       "      <td>79.87</td>\n",
       "    </tr>\n",
       "    <tr>\n",
       "      <td>0</td>\n",
       "      <td>Action</td>\n",
       "      <td>63.63</td>\n",
       "    </tr>\n",
       "    <tr>\n",
       "      <td>3</td>\n",
       "      <td>Misc</td>\n",
       "      <td>17.85</td>\n",
       "    </tr>\n",
       "    <tr>\n",
       "      <td>2</td>\n",
       "      <td>Fighting</td>\n",
       "      <td>12.38</td>\n",
       "    </tr>\n",
       "    <tr>\n",
       "      <td>4</td>\n",
       "      <td>Platform</td>\n",
       "      <td>12.13</td>\n",
       "    </tr>\n",
       "  </tbody>\n",
       "</table>\n",
       "</div>"
      ],
      "text/plain": [
       "          genre  jp_sales\n",
       "7  Role-Playing     79.87\n",
       "0        Action     63.63\n",
       "3          Misc     17.85\n",
       "2      Fighting     12.38\n",
       "4      Platform     12.13"
      ]
     },
     "execution_count": 79,
     "metadata": {},
     "output_type": "execute_result"
    }
   ],
   "source": [
    "JP_top_genres=regions_data.pivot_table(index='genre', values='jp_sales', aggfunc='sum').reset_index().sort_values(by='jp_sales', ascending=False)\n",
    "JP_top_genres=JP_top_genres[0:5]\n",
    "JP_top_genres"
   ]
  },
  {
   "cell_type": "code",
   "execution_count": 80,
   "metadata": {},
   "outputs": [
    {
     "data": {
      "image/png": "[encoded data removed]",
      "text/plain": [
       "<Figure size 1080x1080 with 3 Axes>"
      ]
     },
     "metadata": {},
     "output_type": "display_data"
    }
   ],
   "source": [
    "fig, (ax1,ax2, ax3) = plt.subplots(1,3,figsize=(15, 15)) \n",
    "\n",
    "labels = NA_top_genres['genre']\n",
    "values = NA_top_genres['na_sales']\n",
    "ax1.pie(values,labels = labels,autopct = '%1.1f%%',shadow=True, startangle=90)\n",
    "ax1.set_title('Top 5 Genres for North America Region')\n",
    "\n",
    "labels = EU_top_genres['genre']\n",
    "values = EU_top_genres['eu_sales']\n",
    "ax2.pie(values,labels = labels,autopct = '%1.1f%%',shadow=True, startangle=90)\n",
    "ax2.set_title('Top 5 Genres for Europe Region')\n",
    "\n",
    "labels = JP_top_genres['genre']\n",
    "values = JP_top_genres['jp_sales']\n",
    "ax3.pie(values,labels = labels,autopct = '%1.1f%%',shadow=True, startangle=90)\n",
    "ax3.set_title('Top 5 Genres for Japan Region')\n",
    "\n",
    "fig.show()"
   ]
  },
  {
   "cell_type": "markdown",
   "metadata": {},
   "source": [
    "We see that top 4 genres for North America and Europe are identical with similar market shares: Action, Sports, Shooter, Misc, the only difference is that in North America fifth popular genre is Role-Playing, and in Europe it's Racing.\n",
    "The picture is totally different for Japan - Role-Playing is the most popular genre with 43% market share, then we have Action, and Misc which we also see in another regions, and then go Fighting and Platform genre which is also unique for popular genres.\n",
    "\n",
    "Basically, once again we see that North America and Europe's markets are close to each other, while Japan really stands out."
   ]
  },
  {
   "cell_type": "markdown",
   "metadata": {},
   "source": [
    "<a id=\"point3_9_3\"></a>\n",
    "#### Do ESRB ratings affect sales in individual regions?"
   ]
  },
  {
   "cell_type": "code",
   "execution_count": 81,
   "metadata": {},
   "outputs": [
    {
     "data": {
      "text/html": [
       "<div>\n",
       "<style scoped>\n",
       "    .dataframe tbody tr th:only-of-type {\n",
       "        vertical-align: middle;\n",
       "    }\n",
       "\n",
       "    .dataframe tbody tr th {\n",
       "        vertical-align: top;\n",
       "    }\n",
       "\n",
       "    .dataframe thead th {\n",
       "        text-align: right;\n",
       "    }\n",
       "</style>\n",
       "<table border=\"1\" class=\"dataframe\">\n",
       "  <thead>\n",
       "    <tr style=\"text-align: right;\">\n",
       "      <th></th>\n",
       "      <th>Europe</th>\n",
       "      <th>North America</th>\n",
       "      <th>Japan</th>\n",
       "    </tr>\n",
       "    <tr>\n",
       "      <th>rating</th>\n",
       "      <th></th>\n",
       "      <th></th>\n",
       "      <th></th>\n",
       "    </tr>\n",
       "  </thead>\n",
       "  <tbody>\n",
       "    <tr>\n",
       "      <td>E</td>\n",
       "      <td>25.499003</td>\n",
       "      <td>34.136808</td>\n",
       "      <td>23.993743</td>\n",
       "    </tr>\n",
       "    <tr>\n",
       "      <td>E10+</td>\n",
       "      <td>14.351161</td>\n",
       "      <td>10.451373</td>\n",
       "      <td>16.904842</td>\n",
       "    </tr>\n",
       "    <tr>\n",
       "      <td>EC</td>\n",
       "      <td>0.000000</td>\n",
       "      <td>0.000000</td>\n",
       "      <td>0.059192</td>\n",
       "    </tr>\n",
       "    <tr>\n",
       "      <td>M</td>\n",
       "      <td>45.166274</td>\n",
       "      <td>24.336901</td>\n",
       "      <td>43.593213</td>\n",
       "    </tr>\n",
       "    <tr>\n",
       "      <td>RP</td>\n",
       "      <td>0.005390</td>\n",
       "      <td>0.000000</td>\n",
       "      <td>0.000000</td>\n",
       "    </tr>\n",
       "    <tr>\n",
       "      <td>T</td>\n",
       "      <td>14.978171</td>\n",
       "      <td>31.074919</td>\n",
       "      <td>15.449011</td>\n",
       "    </tr>\n",
       "  </tbody>\n",
       "</table>\n",
       "</div>"
      ],
      "text/plain": [
       "           Europe  North America      Japan\n",
       "rating                                     \n",
       "E       25.499003      34.136808  23.993743\n",
       "E10+    14.351161      10.451373  16.904842\n",
       "EC       0.000000       0.000000   0.059192\n",
       "M       45.166274      24.336901  43.593213\n",
       "RP       0.005390       0.000000   0.000000\n",
       "T       14.978171      31.074919  15.449011"
      ]
     },
     "execution_count": 81,
     "metadata": {},
     "output_type": "execute_result"
    }
   ],
   "source": [
    "rating = regions_data[['na_sales','eu_sales', 'jp_sales','rating']].pivot_table(index='rating', values=['na_sales','eu_sales','jp_sales'], aggfunc=sum)\n",
    "for i in rating.columns:\n",
    "    rating[i] = (rating[i] / rating[i].agg(sum)) * 100\n",
    "rating.columns=['Europe', 'North America', 'Japan']\n",
    "rating\n",
    "\n",
    "#We get dataframe with percentage of share for each rating on each market"
   ]
  },
  {
   "cell_type": "code",
   "execution_count": 99,
   "metadata": {},
   "outputs": [
    {
     "data": {
      "image/png": "[encoded data removed]",
      "text/plain": [
       "<Figure size 1080x576 with 1 Axes>"
      ]
     },
     "metadata": {
      "needs_background": "light"
     },
     "output_type": "display_data"
    }
   ],
   "source": [
    "rating.plot(kind=\"bar\", figsize=(15,8), grid=True)\n",
    "plt.title(\"Sales in regions by ESRB rating\")\n",
    "plt.ylabel(\"Total Sales\")\n",
    "plt.show()"
   ]
  },
  {
   "cell_type": "markdown",
   "metadata": {},
   "source": [
    "We see that there are three rating categories with less popularity (their share of the market is less than 1%): Adults Only, Early Childhood and Rating Pending, which is basically 'tbd' of ratings, so we will focus on ratings with significant shares.\n",
    "\n",
    "We have E (Everyone 3+), E10+ (Everyone 10+), T (Teen 13+) and M (Mature 17+). The rating with most share is E, having share of around 40%, little bit more in North America. The rating with the least share here is E10+, around 10% of market for every region. As for Teen and Mature - in Europe and Japan they have similar shares (around 22-27%, let's say), Mature has bigger share than Teen. In North America it's quite different - Teen has 30% share while Mature has only 14%.\n",
    "\n",
    "First of all, same game can be assigned different ESRB rating in different countries, and there also can be rules about ads for Mature games, for example, and that's why we see such difference in North America market."
   ]
  },
  {
   "cell_type": "markdown",
   "metadata": {},
   "source": [
    "### Test the following hypotheses:\n",
    "Set the alpha threshold value yourself."
   ]
  },
  {
   "cell_type": "markdown",
   "metadata": {},
   "source": [
    "<a id=\"point4_1\"></a>\n",
    "#### Average user ratings of the Xbox One and PC platforms are the same"
   ]
  },
  {
   "cell_type": "code",
   "execution_count": 83,
   "metadata": {},
   "outputs": [
    {
     "data": {
      "text/html": [
       "<div>\n",
       "<style scoped>\n",
       "    .dataframe tbody tr th:only-of-type {\n",
       "        vertical-align: middle;\n",
       "    }\n",
       "\n",
       "    .dataframe tbody tr th {\n",
       "        vertical-align: top;\n",
       "    }\n",
       "\n",
       "    .dataframe thead th {\n",
       "        text-align: right;\n",
       "    }\n",
       "</style>\n",
       "<table border=\"1\" class=\"dataframe\">\n",
       "  <thead>\n",
       "    <tr style=\"text-align: right;\">\n",
       "      <th></th>\n",
       "      <th>platform</th>\n",
       "      <th>user_score</th>\n",
       "    </tr>\n",
       "  </thead>\n",
       "  <tbody>\n",
       "    <tr>\n",
       "      <td>12455</td>\n",
       "      <td>PC</td>\n",
       "      <td>6.8</td>\n",
       "    </tr>\n",
       "    <tr>\n",
       "      <td>959</td>\n",
       "      <td>PC</td>\n",
       "      <td>4.8</td>\n",
       "    </tr>\n",
       "    <tr>\n",
       "      <td>13958</td>\n",
       "      <td>PC</td>\n",
       "      <td>4.0</td>\n",
       "    </tr>\n",
       "    <tr>\n",
       "      <td>16062</td>\n",
       "      <td>PC</td>\n",
       "      <td>7.6</td>\n",
       "    </tr>\n",
       "    <tr>\n",
       "      <td>16443</td>\n",
       "      <td>PC</td>\n",
       "      <td>NaN</td>\n",
       "    </tr>\n",
       "  </tbody>\n",
       "</table>\n",
       "</div>"
      ],
      "text/plain": [
       "      platform  user_score\n",
       "12455       PC         6.8\n",
       "959         PC         4.8\n",
       "13958       PC         4.0\n",
       "16062       PC         7.6\n",
       "16443       PC         NaN"
      ]
     },
     "execution_count": 83,
     "metadata": {},
     "output_type": "execute_result"
    }
   ],
   "source": [
    "ratings_pc=new_data[['platform','user_score']].query('platform==\"PC\"').copy()\n",
    "ratings_pc.sample(5)"
   ]
  },
  {
   "cell_type": "code",
   "execution_count": 84,
   "metadata": {},
   "outputs": [
    {
     "data": {
      "text/html": [
       "<div>\n",
       "<style scoped>\n",
       "    .dataframe tbody tr th:only-of-type {\n",
       "        vertical-align: middle;\n",
       "    }\n",
       "\n",
       "    .dataframe tbody tr th {\n",
       "        vertical-align: top;\n",
       "    }\n",
       "\n",
       "    .dataframe thead th {\n",
       "        text-align: right;\n",
       "    }\n",
       "</style>\n",
       "<table border=\"1\" class=\"dataframe\">\n",
       "  <thead>\n",
       "    <tr style=\"text-align: right;\">\n",
       "      <th></th>\n",
       "      <th>platform</th>\n",
       "      <th>user_score</th>\n",
       "    </tr>\n",
       "  </thead>\n",
       "  <tbody>\n",
       "    <tr>\n",
       "      <td>9232</td>\n",
       "      <td>XOne</td>\n",
       "      <td>NaN</td>\n",
       "    </tr>\n",
       "    <tr>\n",
       "      <td>9120</td>\n",
       "      <td>XOne</td>\n",
       "      <td>7.3</td>\n",
       "    </tr>\n",
       "    <tr>\n",
       "      <td>7672</td>\n",
       "      <td>XOne</td>\n",
       "      <td>NaN</td>\n",
       "    </tr>\n",
       "    <tr>\n",
       "      <td>13384</td>\n",
       "      <td>XOne</td>\n",
       "      <td>6.1</td>\n",
       "    </tr>\n",
       "    <tr>\n",
       "      <td>5321</td>\n",
       "      <td>XOne</td>\n",
       "      <td>6.6</td>\n",
       "    </tr>\n",
       "  </tbody>\n",
       "</table>\n",
       "</div>"
      ],
      "text/plain": [
       "      platform  user_score\n",
       "9232      XOne         NaN\n",
       "9120      XOne         7.3\n",
       "7672      XOne         NaN\n",
       "13384     XOne         6.1\n",
       "5321      XOne         6.6"
      ]
     },
     "execution_count": 84,
     "metadata": {},
     "output_type": "execute_result"
    }
   ],
   "source": [
    "ratings_xone=new_data[['platform','user_score']].query('platform==\"XOne\"').copy()\n",
    "ratings_xone.sample(5)"
   ]
  },
  {
   "cell_type": "code",
   "execution_count": 85,
   "metadata": {},
   "outputs": [
    {
     "name": "stdout",
     "output_type": "stream",
     "text": [
      "User rating on PC:\n",
      "count    314.000000\n",
      "mean       6.466242\n",
      "std        1.604986\n",
      "min        1.400000\n",
      "25%        5.600000\n",
      "50%        6.800000\n",
      "75%        7.700000\n",
      "max        9.300000\n",
      "Name: user_score, dtype: float64\n",
      "\n",
      "Average user rating on PC: 6.466242\n",
      "Variance for average user rating on PC: 2.5677776\n",
      "\n",
      "User rating on Xone:\n",
      "count    182.000000\n",
      "mean       6.521429\n",
      "std        1.380941\n",
      "min        1.600000\n",
      "25%        5.800000\n",
      "50%        6.800000\n",
      "75%        7.500000\n",
      "max        9.200000\n",
      "Name: user_score, dtype: float64\n",
      "\n",
      "Average user rating on XOne: 6.5214286\n",
      "Variance for average user rating on XOne: 1.8965188\n"
     ]
    }
   ],
   "source": [
    "pc_rating = ratings_pc['user_score']\n",
    "xone_rating = ratings_xone['user_score']\n",
    "print('User rating on PC:')\n",
    "print(pc_rating.describe())\n",
    "print()\n",
    "print('Average user rating on PC:', pc_rating.mean())\n",
    "print('Variance for average user rating on PC:', np.var(pc_rating))\n",
    "print()\n",
    "print('User rating on Xone:')\n",
    "print(xone_rating.describe())\n",
    "print()\n",
    "print('Average user rating on XOne:', xone_rating.mean())\n",
    "print('Variance for average user rating on XOne:', np.var(xone_rating))"
   ]
  },
  {
   "cell_type": "code",
   "execution_count": 87,
   "metadata": {},
   "outputs": [
    {
     "name": "stdout",
     "output_type": "stream",
     "text": [
      "10.84999966621399\n"
     ]
    }
   ],
   "source": [
    "pc_desc=pc_rating.describe()\n",
    "print((pc_desc['75%'] - pc_desc['25%']) * 1.5 + pc_desc['75%']) #How can upper fence for outliers be higher than max value?"
   ]
  },
  {
   "cell_type": "code",
   "execution_count": 88,
   "metadata": {},
   "outputs": [],
   "source": [
    "pc_rating=pc_rating.notna()\n",
    "xone_rating=xone_rating.notna()"
   ]
  },
  {
   "cell_type": "code",
   "execution_count": 89,
   "metadata": {},
   "outputs": [
    {
     "name": "stdout",
     "output_type": "stream",
     "text": [
      "p-value: 0.10663854361201375\n",
      "We can't reject the null hypothesis\n"
     ]
    }
   ],
   "source": [
    "alpha = .05\n",
    "\n",
    "results1 = st.ttest_ind(pc_rating, xone_rating, equal_var=False) #run the t-test for two statistical populations whith different variances\n",
    "\n",
    "print('p-value:', results1.pvalue)\n",
    "if (results1.pvalue < alpha):\n",
    "    print('We reject the null hypothesis')\n",
    "else:\n",
    "    print(\"We can't reject the null hypothesis\")"
   ]
  },
  {
   "cell_type": "markdown",
   "metadata": {},
   "source": [
    "We are testing the hypothesis on average user ratings on Xbox One and PC platforms. Our null hypothesis is that the average user ratings are the same. Our alternative hypothesis is that average user ratings differ. We set alpha value to 5% (also tried 10% because the data is incomplete, still got the same results).\n",
    "\n",
    "After running the statistical test we see that the data provided sufficient evidence, given the significance level we selected, to not to reject the null hypothesis. Therefore, we can conclude that average user rating is the same on Xbox One and PC platforms . Looking at the numbers provided by the sample we took, we see that average rating of PC user is 6.45, and average rating of Xbox One is 6.52."
   ]
  },
  {
   "cell_type": "markdown",
   "metadata": {},
   "source": [
    "<a id=\"point4_2\"></a>\n",
    "#### Average user ratings for the Action and Sports genres are different"
   ]
  },
  {
   "cell_type": "code",
   "execution_count": 90,
   "metadata": {},
   "outputs": [
    {
     "data": {
      "text/html": [
       "<div>\n",
       "<style scoped>\n",
       "    .dataframe tbody tr th:only-of-type {\n",
       "        vertical-align: middle;\n",
       "    }\n",
       "\n",
       "    .dataframe tbody tr th {\n",
       "        vertical-align: top;\n",
       "    }\n",
       "\n",
       "    .dataframe thead th {\n",
       "        text-align: right;\n",
       "    }\n",
       "</style>\n",
       "<table border=\"1\" class=\"dataframe\">\n",
       "  <thead>\n",
       "    <tr style=\"text-align: right;\">\n",
       "      <th></th>\n",
       "      <th>genre</th>\n",
       "      <th>user_score</th>\n",
       "    </tr>\n",
       "  </thead>\n",
       "  <tbody>\n",
       "    <tr>\n",
       "      <td>12456</td>\n",
       "      <td>Action</td>\n",
       "      <td>7.9</td>\n",
       "    </tr>\n",
       "    <tr>\n",
       "      <td>16388</td>\n",
       "      <td>Action</td>\n",
       "      <td>NaN</td>\n",
       "    </tr>\n",
       "    <tr>\n",
       "      <td>11951</td>\n",
       "      <td>Action</td>\n",
       "      <td>NaN</td>\n",
       "    </tr>\n",
       "    <tr>\n",
       "      <td>16307</td>\n",
       "      <td>Action</td>\n",
       "      <td>NaN</td>\n",
       "    </tr>\n",
       "    <tr>\n",
       "      <td>4471</td>\n",
       "      <td>Action</td>\n",
       "      <td>5.0</td>\n",
       "    </tr>\n",
       "  </tbody>\n",
       "</table>\n",
       "</div>"
      ],
      "text/plain": [
       "        genre  user_score\n",
       "12456  Action         7.9\n",
       "16388  Action         NaN\n",
       "11951  Action         NaN\n",
       "16307  Action         NaN\n",
       "4471   Action         5.0"
      ]
     },
     "execution_count": 90,
     "metadata": {},
     "output_type": "execute_result"
    }
   ],
   "source": [
    "ratings_action=new_data[['genre','user_score']].query('genre==\"Action\"').copy()\n",
    "ratings_action.sample(5)"
   ]
  },
  {
   "cell_type": "code",
   "execution_count": 91,
   "metadata": {},
   "outputs": [
    {
     "data": {
      "text/html": [
       "<div>\n",
       "<style scoped>\n",
       "    .dataframe tbody tr th:only-of-type {\n",
       "        vertical-align: middle;\n",
       "    }\n",
       "\n",
       "    .dataframe tbody tr th {\n",
       "        vertical-align: top;\n",
       "    }\n",
       "\n",
       "    .dataframe thead th {\n",
       "        text-align: right;\n",
       "    }\n",
       "</style>\n",
       "<table border=\"1\" class=\"dataframe\">\n",
       "  <thead>\n",
       "    <tr style=\"text-align: right;\">\n",
       "      <th></th>\n",
       "      <th>genre</th>\n",
       "      <th>user_score</th>\n",
       "    </tr>\n",
       "  </thead>\n",
       "  <tbody>\n",
       "    <tr>\n",
       "      <td>14150</td>\n",
       "      <td>Sports</td>\n",
       "      <td>NaN</td>\n",
       "    </tr>\n",
       "    <tr>\n",
       "      <td>10861</td>\n",
       "      <td>Sports</td>\n",
       "      <td>6.5</td>\n",
       "    </tr>\n",
       "    <tr>\n",
       "      <td>5262</td>\n",
       "      <td>Sports</td>\n",
       "      <td>6.2</td>\n",
       "    </tr>\n",
       "    <tr>\n",
       "      <td>571</td>\n",
       "      <td>Sports</td>\n",
       "      <td>5.5</td>\n",
       "    </tr>\n",
       "    <tr>\n",
       "      <td>2210</td>\n",
       "      <td>Sports</td>\n",
       "      <td>6.2</td>\n",
       "    </tr>\n",
       "  </tbody>\n",
       "</table>\n",
       "</div>"
      ],
      "text/plain": [
       "        genre  user_score\n",
       "14150  Sports         NaN\n",
       "10861  Sports         6.5\n",
       "5262   Sports         6.2\n",
       "571    Sports         5.5\n",
       "2210   Sports         6.2"
      ]
     },
     "execution_count": 91,
     "metadata": {},
     "output_type": "execute_result"
    }
   ],
   "source": [
    "ratings_sports=new_data[['genre','user_score']].query('genre==\"Sports\"').copy()\n",
    "ratings_sports.sample(5)"
   ]
  },
  {
   "cell_type": "code",
   "execution_count": 92,
   "metadata": {},
   "outputs": [
    {
     "name": "stdout",
     "output_type": "stream",
     "text": [
      "User rating for Action Genre:\n",
      "count    675.000000\n",
      "mean       6.783852\n",
      "std        1.342157\n",
      "min        1.600000\n",
      "25%        6.100000\n",
      "50%        7.100000\n",
      "75%        7.800000\n",
      "max        9.100000\n",
      "Name: user_score, dtype: float64\n",
      "\n",
      "Average user rating for Action Genre: 6.783852\n",
      "Variance for average user rating for Action Genre: 1.798717\n",
      "\n",
      "User rating for Sports Genre:\n",
      "count    246.000000\n",
      "mean       5.650813\n",
      "std        1.697796\n",
      "min        0.200000\n",
      "25%        4.400000\n",
      "50%        6.000000\n",
      "75%        6.900000\n",
      "max        8.800000\n",
      "Name: user_score, dtype: float64\n",
      "\n",
      "Average user rating for Sports Genre: 5.650813\n",
      "Variance for average user rating for Sports Genre: 2.870792\n"
     ]
    }
   ],
   "source": [
    "action_r = ratings_action['user_score']\n",
    "sports_r = ratings_sports['user_score']\n",
    "print('User rating for Action Genre:')\n",
    "print(action_r.describe())\n",
    "print()\n",
    "print('Average user rating for Action Genre:', action_r.mean())\n",
    "print('Variance for average user rating for Action Genre:', np.var(action_r))\n",
    "print()\n",
    "print('User rating for Sports Genre:')\n",
    "print(sports_r.describe())\n",
    "print()\n",
    "print('Average user rating for Sports Genre:', sports_r.mean())\n",
    "print('Variance for average user rating for Sports Genre:', np.var(sports_r))"
   ]
  },
  {
   "cell_type": "code",
   "execution_count": 93,
   "metadata": {},
   "outputs": [],
   "source": [
    "action_r=action_r.notna()\n",
    "sports_r=sports_r.notna()"
   ]
  },
  {
   "cell_type": "code",
   "execution_count": 94,
   "metadata": {},
   "outputs": [
    {
     "name": "stdout",
     "output_type": "stream",
     "text": [
      "p-value: 0.00017410755763694902\n",
      "We reject the null hypothesis\n"
     ]
    }
   ],
   "source": [
    "alpha = .05\n",
    "\n",
    "results1 = st.ttest_ind(action_r, sports_r, equal_var=False) #run the t-test for two statistical populations whith different variances\n",
    "\n",
    "print('p-value:', results1.pvalue)\n",
    "if (results1.pvalue < alpha):\n",
    "    print('We reject the null hypothesis')\n",
    "else:\n",
    "    print(\"We can't reject the null hypothesis\")"
   ]
  },
  {
   "cell_type": "markdown",
   "metadata": {},
   "source": [
    "We are testing if average user rating are different for Action and Sports genres. Our null hypothesis is that average user ratings are the same. Our alternative hypothesis is that average user ratings differ. We set alpha value to 5%, we don't need 1% precision here.\n",
    "\n",
    "After running the statistical test we see that the data provided sufficient evidence, given the significance level we selected, to reject the null hypothesis. Therefore, average user ratings for Action and Sports genres differ, and if we'll look at numbers provided by the sample we have, we see that average user rating for Action genre is 6.7, while for Sports genre it's 5.6."
   ]
  },
  {
   "cell_type": "markdown",
   "metadata": {},
   "source": [
    "<a id=\"point5\"></a>\n",
    "### General conclusion"
   ]
  },
  {
   "cell_type": "markdown",
   "metadata": {},
   "source": [
    "After trying to deal with all the missing values, looking at all the graphs, testing our hypotheses we come to few conclusions.\n",
    "First, the platform market is basically divided between few big players: Microsoft with Xbox, Sony with PlayStation, and Nintendo with both Wii and DS. So here we can say that potentially successfull game should be for at least one of these platforms.\n",
    "\n",
    "As for genre - people mostly look for impressions and some adrenaline, so no surprise that most popular genres are Action, Shooter and Sports, so potentially winning game will probably be of one of these genres.\n",
    "\n",
    "In addition, it's very important to understand what region we are talking about, because said here is relevant for big markets such as Europe and North America, but if we are looking for potentially big games in Japan - criteria will be different.\n",
    "\n",
    "So, taking all this in mind, I would pay attention for games in Action/Sports genre coming out for XOne, PS4 and maybe check Wii also."
   ]
  },
  {
   "cell_type": "markdown",
   "metadata": {},
   "source": [
    "UPD: Since we took slice of data fro 2010 instead of from 2000, overall conclusions differ a little.\n",
    "\n",
    "For North America and Europe region I would recommend to pay attention on Action/Shooter games coming out on XOne and PS4 (both rising platforms), and for Japan market I would recommend to pay attention to Role Playing and Action Games coming out for 3DS platform."
   ]
  }
 ],
 "metadata": {
  "ExecuteTimeLog": [
   {
    "duration": 1984,
    "start_time": "2021-06-23T06:27:56.885Z"
   },
   {
    "duration": 47,
    "start_time": "2021-06-23T06:27:58.872Z"
   },
   {
    "duration": 4,
    "start_time": "2021-06-23T06:27:58.921Z"
   },
   {
    "duration": 38,
    "start_time": "2021-06-23T06:27:58.928Z"
   },
   {
    "duration": 14,
    "start_time": "2021-06-23T06:27:58.968Z"
   },
   {
    "duration": 41,
    "start_time": "2021-06-23T06:27:58.984Z"
   },
   {
    "duration": 73,
    "start_time": "2021-06-23T06:27:59.028Z"
   },
   {
    "duration": 10,
    "start_time": "2021-06-23T06:27:59.105Z"
   },
   {
    "duration": 38,
    "start_time": "2021-06-23T06:27:59.118Z"
   },
   {
    "duration": 9,
    "start_time": "2021-06-23T06:27:59.158Z"
   },
   {
    "duration": 10,
    "start_time": "2021-06-23T06:27:59.170Z"
   },
   {
    "duration": 8,
    "start_time": "2021-06-23T06:27:59.182Z"
   },
   {
    "duration": 64,
    "start_time": "2021-06-23T06:27:59.192Z"
   },
   {
    "duration": 9,
    "start_time": "2021-06-23T06:27:59.258Z"
   },
   {
    "duration": 27,
    "start_time": "2021-06-23T06:27:59.269Z"
   },
   {
    "duration": 10,
    "start_time": "2021-06-23T06:27:59.298Z"
   },
   {
    "duration": 5,
    "start_time": "2021-06-23T06:27:59.311Z"
   },
   {
    "duration": 45,
    "start_time": "2021-06-23T06:27:59.318Z"
   },
   {
    "duration": 38,
    "start_time": "2021-06-23T06:27:59.365Z"
   },
   {
    "duration": 4,
    "start_time": "2021-06-23T06:27:59.406Z"
   },
   {
    "duration": 6,
    "start_time": "2021-06-23T06:27:59.412Z"
   },
   {
    "duration": 81762,
    "start_time": "2021-06-23T06:27:59.420Z"
   },
   {
    "duration": 9,
    "start_time": "2021-06-23T06:29:21.188Z"
   },
   {
    "duration": 38,
    "start_time": "2021-06-23T06:29:21.200Z"
   },
   {
    "duration": 47,
    "start_time": "2021-06-23T06:29:21.240Z"
   },
   {
    "duration": 11,
    "start_time": "2021-06-23T06:29:21.290Z"
   },
   {
    "duration": 9,
    "start_time": "2021-06-23T06:29:21.303Z"
   },
   {
    "duration": 45,
    "start_time": "2021-06-23T06:29:21.315Z"
   },
   {
    "duration": 14,
    "start_time": "2021-06-23T06:29:21.362Z"
   },
   {
    "duration": 29,
    "start_time": "2021-06-23T06:29:21.378Z"
   },
   {
    "duration": 15,
    "start_time": "2021-06-23T06:29:21.410Z"
   },
   {
    "duration": 20,
    "start_time": "2021-06-23T06:29:21.455Z"
   },
   {
    "duration": 8,
    "start_time": "2021-06-23T06:29:21.478Z"
   },
   {
    "duration": 21,
    "start_time": "2021-06-23T06:29:21.488Z"
   },
   {
    "duration": 25,
    "start_time": "2021-06-23T06:29:21.512Z"
   },
   {
    "duration": 17,
    "start_time": "2021-06-23T06:29:21.540Z"
   },
   {
    "duration": 24,
    "start_time": "2021-06-23T06:29:21.560Z"
   },
   {
    "duration": 25,
    "start_time": "2021-06-23T06:29:21.586Z"
   },
   {
    "duration": 1124,
    "start_time": "2021-06-23T06:29:21.613Z"
   },
   {
    "duration": 30,
    "start_time": "2021-06-23T06:29:22.740Z"
   },
   {
    "duration": 1159,
    "start_time": "2021-06-23T06:29:22.773Z"
   },
   {
    "duration": 40,
    "start_time": "2021-06-23T06:29:23.935Z"
   },
   {
    "duration": 5,
    "start_time": "2021-06-23T06:29:23.978Z"
   },
   {
    "duration": 10,
    "start_time": "2021-06-23T06:29:23.985Z"
   },
   {
    "duration": 12,
    "start_time": "2021-06-23T06:29:23.997Z"
   },
   {
    "duration": 70,
    "start_time": "2021-06-23T06:29:24.011Z"
   },
   {
    "duration": 20,
    "start_time": "2021-06-23T06:29:24.083Z"
   },
   {
    "duration": 59,
    "start_time": "2021-06-23T06:29:24.105Z"
   },
   {
    "duration": 31,
    "start_time": "2021-06-23T06:29:24.166Z"
   },
   {
    "duration": 604,
    "start_time": "2021-06-23T06:29:24.199Z"
   },
   {
    "duration": 30,
    "start_time": "2021-06-23T06:29:24.806Z"
   },
   {
    "duration": 20,
    "start_time": "2021-06-23T06:29:24.855Z"
   },
   {
    "duration": 798,
    "start_time": "2021-06-23T06:29:24.878Z"
   },
   {
    "duration": 37,
    "start_time": "2021-06-23T06:29:25.678Z"
   },
   {
    "duration": 39,
    "start_time": "2021-06-23T06:29:25.717Z"
   },
   {
    "duration": 403,
    "start_time": "2021-06-23T06:29:25.759Z"
   },
   {
    "duration": 426,
    "start_time": "2021-06-23T06:29:26.165Z"
   },
   {
    "duration": 4,
    "start_time": "2021-06-23T06:29:26.594Z"
   },
   {
    "duration": 569,
    "start_time": "2021-06-23T06:29:26.601Z"
   },
   {
    "duration": 25,
    "start_time": "2021-06-23T06:29:27.174Z"
   },
   {
    "duration": 6,
    "start_time": "2021-06-23T06:29:27.202Z"
   },
   {
    "duration": 546,
    "start_time": "2021-06-23T06:29:27.211Z"
   },
   {
    "duration": 6,
    "start_time": "2021-06-23T06:29:27.759Z"
   },
   {
    "duration": 616,
    "start_time": "2021-06-23T06:29:27.768Z"
   },
   {
    "duration": 6,
    "start_time": "2021-06-23T06:29:28.387Z"
   },
   {
    "duration": 570,
    "start_time": "2021-06-23T06:29:28.395Z"
   },
   {
    "duration": 6,
    "start_time": "2021-06-23T06:29:28.968Z"
   },
   {
    "duration": 514,
    "start_time": "2021-06-23T06:29:28.983Z"
   },
   {
    "duration": 6,
    "start_time": "2021-06-23T06:29:29.501Z"
   },
   {
    "duration": 34,
    "start_time": "2021-06-23T06:29:29.509Z"
   },
   {
    "duration": 282,
    "start_time": "2021-06-23T06:29:29.546Z"
   },
   {
    "duration": 32,
    "start_time": "2021-06-23T06:29:29.831Z"
   },
   {
    "duration": 28,
    "start_time": "2021-06-23T06:29:29.866Z"
   },
   {
    "duration": 22,
    "start_time": "2021-06-23T06:29:29.896Z"
   },
   {
    "duration": 50,
    "start_time": "2021-06-23T06:29:29.920Z"
   },
   {
    "duration": 657,
    "start_time": "2021-06-23T06:29:29.973Z"
   },
   {
    "duration": 37,
    "start_time": "2021-06-23T06:29:30.632Z"
   },
   {
    "duration": 22,
    "start_time": "2021-06-23T06:29:30.671Z"
   },
   {
    "duration": 36,
    "start_time": "2021-06-23T06:29:30.696Z"
   },
   {
    "duration": 687,
    "start_time": "2021-06-23T06:29:30.735Z"
   },
   {
    "duration": 33,
    "start_time": "2021-06-23T06:29:31.424Z"
   },
   {
    "duration": 459,
    "start_time": "2021-06-23T06:29:31.460Z"
   },
   {
    "duration": 16,
    "start_time": "2021-06-23T06:29:31.921Z"
   },
   {
    "duration": 15,
    "start_time": "2021-06-23T06:29:31.956Z"
   },
   {
    "duration": 24,
    "start_time": "2021-06-23T06:29:31.973Z"
   },
   {
    "duration": 9,
    "start_time": "2021-06-23T06:29:32.000Z"
   },
   {
    "duration": 17,
    "start_time": "2021-06-23T06:29:32.011Z"
   },
   {
    "duration": 29,
    "start_time": "2021-06-23T06:29:32.030Z"
   },
   {
    "duration": 14,
    "start_time": "2021-06-23T06:29:32.061Z"
   },
   {
    "duration": 19,
    "start_time": "2021-06-23T06:29:32.078Z"
   },
   {
    "duration": 16,
    "start_time": "2021-06-23T06:29:32.100Z"
   },
   {
    "duration": 53,
    "start_time": "2021-06-23T06:29:32.119Z"
   },
   {
    "duration": 7,
    "start_time": "2021-06-23T06:29:32.175Z"
   },
   {
    "duration": 12,
    "start_time": "2021-06-23T06:29:32.184Z"
   },
   {
    "duration": 611,
    "start_time": "2021-06-23T06:31:02.720Z"
   },
   {
    "duration": 696,
    "start_time": "2021-06-23T06:31:39.423Z"
   },
   {
    "duration": 286,
    "start_time": "2021-06-23T06:32:30.652Z"
   },
   {
    "duration": 542,
    "start_time": "2021-06-23T06:33:26.869Z"
   },
   {
    "duration": 462,
    "start_time": "2021-06-23T06:33:47.268Z"
   }
  ],
  "kernelspec": {
   "display_name": "Python 3",
   "language": "python",
   "name": "python3"
  },
  "language_info": {
   "codemirror_mode": {
    "name": "ipython",
    "version": 3
   },
   "file_extension": ".py",
   "mimetype": "text/x-python",
   "name": "python",
   "nbconvert_exporter": "python",
   "pygments_lexer": "ipython3",
   "version": "3.7.6"
  },
  "toc": {
   "base_numbering": 1,
   "nav_menu": {},
   "number_sections": true,
   "sideBar": true,
   "skip_h1_title": true,
   "title_cell": "Table of Contents",
   "title_sidebar": "Contents",
   "toc_cell": false,
   "toc_position": {},
   "toc_section_display": true,
   "toc_window_display": false
  }
 },
 "nbformat": 4,
 "nbformat_minor": 2
}
